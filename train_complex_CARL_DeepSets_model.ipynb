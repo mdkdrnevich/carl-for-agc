{
 "cells": [
  {
   "cell_type": "code",
   "execution_count": 1,
   "id": "b9595458-0e8c-42e3-ba1c-2cd978f528c4",
   "metadata": {},
   "outputs": [
    {
     "name": "stdout",
     "output_type": "stream",
     "text": [
      "11.7\n",
      "cuda:0\n"
     ]
    }
   ],
   "source": [
    "import torch\n",
    "import yaml\n",
    "\n",
    "# Local imports\n",
    "import carl_utils.preprocessing as carl_ppro\n",
    "import carl_utils.train as carl_train\n",
    "\n",
    "import logging\n",
    "logging.getLogger('matplotlib.font_manager').setLevel(logging.ERROR)\n",
    "\n",
    "DEVICE = torch.device(\"cuda:0\" if torch.cuda.is_available() else \"cpu\")\n",
    "print(torch.version.cuda)\n",
    "#DEVICE = 'cpu'\n",
    "print(DEVICE)"
   ]
  },
  {
   "cell_type": "code",
   "execution_count": 2,
   "id": "43940d3a-98e3-4e26-9bad-04b1e165c000",
   "metadata": {},
   "outputs": [
    {
     "data": {
      "text/plain": [
       "{'Electron_set': {'set': True,\n",
       "  'size': 4,\n",
       "  'subfeatures': ['Electron_pt',\n",
       "   'Electron_eta',\n",
       "   'Electron_phi',\n",
       "   'Electron_mass']},\n",
       " 'FatJet_set': {'set': True,\n",
       "  'size': 5,\n",
       "  'subfeatures': ['FatJet_pt',\n",
       "   'FatJet_eta',\n",
       "   'FatJet_phi',\n",
       "   'FatJet_mass',\n",
       "   'FatJet_btagCSVV2']},\n",
       " 'Jet_set': {'set': True,\n",
       "  'size': 5,\n",
       "  'subfeatures': ['Jet_pt',\n",
       "   'Jet_eta',\n",
       "   'Jet_phi',\n",
       "   'Jet_mass',\n",
       "   'Jet_btagCSVV2']},\n",
       " 'MET_sumEt': {'set': False, 'size': 1, 'subfeatures': ['MET_sumEt']},\n",
       " 'Muon_set': {'set': True,\n",
       "  'size': 4,\n",
       "  'subfeatures': ['Muon_pt', 'Muon_eta', 'Muon_phi', 'Muon_mass']},\n",
       " 'Photon_set': {'set': True,\n",
       "  'size': 4,\n",
       "  'subfeatures': ['Photon_pt', 'Photon_eta', 'Photon_phi', 'Photon_mass']}}"
      ]
     },
     "execution_count": 2,
     "metadata": {},
     "output_type": "execute_result"
    }
   ],
   "source": [
    "total_features = yaml.load(open(\"carl_features.yaml\", 'r'), Loader=yaml.CLoader)\n",
    "total_features"
   ]
  },
  {
   "cell_type": "code",
   "execution_count": 3,
   "id": "05aa145b-c20e-4195-8e89-56110dc73d59",
   "metadata": {},
   "outputs": [
    {
     "data": {
      "text/plain": [
       "{'Jet_set': {'set': True,\n",
       "  'size': 5,\n",
       "  'subfeatures': ['Jet_pt',\n",
       "   'Jet_eta',\n",
       "   'Jet_phi',\n",
       "   'Jet_mass',\n",
       "   'Jet_btagCSVV2']},\n",
       " 'Electron_set': {'set': True,\n",
       "  'size': 4,\n",
       "  'subfeatures': ['Electron_pt',\n",
       "   'Electron_eta',\n",
       "   'Electron_phi',\n",
       "   'Electron_mass']}}"
      ]
     },
     "execution_count": 3,
     "metadata": {},
     "output_type": "execute_result"
    }
   ],
   "source": [
    "subfeatures = [\"Jet_set\", \"Electron_set\"]#, \"Muon_set\"]\n",
    "features = dict(zip(subfeatures, [total_features[feat] for feat in subfeatures]))\n",
    "features"
   ]
  },
  {
   "cell_type": "code",
   "execution_count": 4,
   "id": "6d9ba0cf-7228-453f-978f-34280ca5b3b0",
   "metadata": {},
   "outputs": [],
   "source": [
    "weight_features = [\"genWeight\", \"btagWeight_CSVV2\"]"
   ]
  },
  {
   "cell_type": "markdown",
   "id": "bd2ec8ed-8fd0-43c8-b7b5-45a49fe703a7",
   "metadata": {},
   "source": [
    "## Initiate the datasets and load the data"
   ]
  },
  {
   "cell_type": "code",
   "execution_count": 11,
   "id": "4ea1b151-fb61-42c5-b9cd-8e749c707ec1",
   "metadata": {},
   "outputs": [
    {
     "name": "stderr",
     "output_type": "stream",
     "text": [
      "100%|██████████| 500000/500000 [02:57<00:00, 2812.23it/s]\n",
      "100%|██████████| 100000/100000 [00:36<00:00, 2773.84it/s]\n",
      "100%|██████████| 500000/500000 [02:58<00:00, 2806.87it/s]\n",
      "100%|██████████| 100000/100000 [00:35<00:00, 2853.66it/s]\n"
     ]
    }
   ],
   "source": [
    "n_train_events = int(1e6) // 2\n",
    "n_val_events = int(2e5) // 2\n",
    "\n",
    "train_nominal_dataset = carl_ppro.DeepSetsDataset([\"/data/mdrnevich/AGC/CMS_ttbar_nominal_DeepSets_training_data_new2.root\",], features, 0, stop_event=n_train_events)\n",
    "valid_nominal_dataset = carl_ppro.DeepSetsDataset([\"/data/mdrnevich/AGC/CMS_ttbar_nominal_DeepSets_validation_data_new2.root\",], features, 0, stop_event=n_val_events)\n",
    "\n",
    "train_PS_var_dataset = carl_ppro.DeepSetsDataset([\"/data/mdrnevich/AGC/CMS_ttbar_PS_var_DeepSets_training_data_new2.root\",], features, 1, stop_event=n_train_events)\n",
    "valid_PS_var_dataset = carl_ppro.DeepSetsDataset([\"/data/mdrnevich/AGC/CMS_ttbar_PS_var_DeepSets_validation_data_new2.root\",], features, 1, stop_event=n_val_events)"
   ]
  },
  {
   "cell_type": "markdown",
   "id": "f5ec861c-4347-4c92-a535-9e1cb78bf985",
   "metadata": {},
   "source": [
    "## Prepare the data"
   ]
  },
  {
   "cell_type": "code",
   "execution_count": 12,
   "id": "d570378d-9ad3-40fb-a27e-92a9a1f494a5",
   "metadata": {},
   "outputs": [],
   "source": [
    "train_generator_data = carl_ppro.CombinedDataset(train_nominal_dataset, train_PS_var_dataset)\n",
    "valid_generator_data = carl_ppro.CombinedDataset(valid_nominal_dataset, valid_PS_var_dataset)"
   ]
  },
  {
   "cell_type": "markdown",
   "id": "401044ed-c3e6-41e4-9665-570067033c5b",
   "metadata": {},
   "source": [
    "## Define the settings of the model and training"
   ]
  },
  {
   "cell_type": "code",
   "execution_count": 13,
   "id": "b42b619a-0ba6-4e50-bcc0-3d5879894bf7",
   "metadata": {},
   "outputs": [],
   "source": [
    "hidden1 = 512 // 2\n",
    "hidden2 = 256 // 2\n",
    "hidden3 = 128 // 2\n",
    "classify1 = 1024  // 2\n",
    "classify2 = 1024 // 2\n",
    "outputs = 1\n",
    "\n",
    "model_settings = {\n",
    "    \"features\": features,\n",
    "    \"phi\": [hidden1, hidden2, hidden3],\n",
    "    \"mlp\": [classify1, classify2]\n",
    "}\n",
    "\n",
    "\n",
    "training_settings = {\n",
    "    \"optimizer\": \"Adam\",\n",
    "    \"learning_rate\": 1e-2,\n",
    "    \"batch_size\": 256,\n",
    "    \"n_epochs\": 30,\n",
    "    \"patience\": 6,\n",
    "    \"device\": DEVICE,\n",
    "    \"n_events\": n_train_events * 2,\n",
    "    \"saveAs\": \"models/deepsets_agc_model_new6\"\n",
    "}"
   ]
  },
  {
   "cell_type": "markdown",
   "id": "92e0f630-036e-4398-9a1e-fee4967a2bdc",
   "metadata": {},
   "source": [
    "# Perform the training"
   ]
  },
  {
   "cell_type": "code",
   "execution_count": null,
   "id": "de7b2aac-15ca-46b8-b82c-f99523c14456",
   "metadata": {},
   "outputs": [
    {
     "name": "stdout",
     "output_type": "stream",
     "text": [
      "Constructing the model\n",
      "Loading the input data scaling\n"
     ]
    },
    {
     "name": "stderr",
     "output_type": "stream",
     "text": [
      "100%|██████████| 977/977 [00:11<00:00, 85.79it/s] \n"
     ]
    },
    {
     "name": "stdout",
     "output_type": "stream",
     "text": [
      "Training the model\n"
     ]
    },
    {
     "name": "stderr",
     "output_type": "stream",
     "text": [
      "                                                                   \r"
     ]
    },
    {
     "name": "stdout",
     "output_type": "stream",
     "text": [
      "Epoch: 01, Training Loss:   0.6862\n",
      "           Validation Loss: 0.6828\n"
     ]
    },
    {
     "name": "stderr",
     "output_type": "stream",
     "text": [
      "  3%|▎         | 1/30 [04:23<2:07:10, 263.12s/it]"
     ]
    },
    {
     "name": "stdout",
     "output_type": "stream",
     "text": [
      "================ Diagnostic Run torch.onnx.export version 2.0.1 ================\n",
      "verbose: False, log level: Level.ERROR\n",
      "======================= 0 NONE 0 NOTE 0 WARNING 0 ERROR ========================\n",
      "\n",
      "New best model saved to: models/deepsets_agc_model_new6.zip\n"
     ]
    },
    {
     "name": "stderr",
     "output_type": "stream",
     "text": [
      "loss = 0.69589:  41%|████      | 1589/3907 [01:42<02:24, 15.99it/s]IOPub message rate exceeded.\n",
      "The Jupyter server will temporarily stop sending output\n",
      "to the client in order to avoid crashing it.\n",
      "To change this limit, set the config variable\n",
      "`--ServerApp.iopub_msg_rate_limit`.\n",
      "\n",
      "Current values:\n",
      "ServerApp.iopub_msg_rate_limit=1000.0 (msgs/sec)\n",
      "ServerApp.rate_limit_window=3.0 (secs)\n",
      "\n",
      " 53%|█████▎    | 16/30 [1:10:45<1:01:29, 263.51s/it]               "
     ]
    },
    {
     "name": "stdout",
     "output_type": "stream",
     "text": [
      "Epoch: 16, Training Loss:   0.6797\n",
      "           Validation Loss: 0.6803\n",
      "Stale epoch\n"
     ]
    },
    {
     "name": "stderr",
     "output_type": "stream",
     "text": [
      "                                                                   \r"
     ]
    },
    {
     "name": "stdout",
     "output_type": "stream",
     "text": [
      "Epoch: 17, Training Loss:   0.6796\n",
      "           Validation Loss: 0.6800\n"
     ]
    },
    {
     "name": "stderr",
     "output_type": "stream",
     "text": [
      " 57%|█████▋    | 17/30 [1:15:10<57:08, 263.75s/it]  "
     ]
    },
    {
     "name": "stdout",
     "output_type": "stream",
     "text": [
      "================ Diagnostic Run torch.onnx.export version 2.0.1 ================\n",
      "verbose: False, log level: Level.ERROR\n",
      "======================= 0 NONE 0 NOTE 0 WARNING 0 ERROR ========================\n",
      "\n",
      "New best model saved to: models/deepsets_agc_model_new6.zip\n"
     ]
    },
    {
     "name": "stderr",
     "output_type": "stream",
     "text": [
      " 60%|██████    | 18/30 [1:19:24<52:12, 261.05s/it]                 "
     ]
    },
    {
     "name": "stdout",
     "output_type": "stream",
     "text": [
      "Epoch: 18, Training Loss:   0.6795\n",
      "           Validation Loss: 0.6809\n",
      "Stale epoch\n"
     ]
    },
    {
     "name": "stderr",
     "output_type": "stream",
     "text": [
      "loss = 0.68566:  44%|████▍     | 1721/3907 [01:48<02:11, 16.63it/s]"
     ]
    }
   ],
   "source": [
    "model, losses = carl_train.train(model_settings, train_generator_data, valid_generator_data, **training_settings)"
   ]
  },
  {
   "cell_type": "code",
   "execution_count": null,
   "id": "3b76ddf3-d91a-417e-bcce-9d712f8ce32f",
   "metadata": {
    "scrolled": true
   },
   "outputs": [],
   "source": [
    "model"
   ]
  },
  {
   "cell_type": "code",
   "execution_count": null,
   "id": "433ff9c7-91eb-4a1d-8897-4f589330c8e1",
   "metadata": {},
   "outputs": [],
   "source": [
    "losses"
   ]
  },
  {
   "cell_type": "markdown",
   "id": "7782a651-ed4a-4306-9f97-0c8ed5de345b",
   "metadata": {},
   "source": [
    "# Check the ONNX Model"
   ]
  },
  {
   "cell_type": "code",
   "execution_count": 2,
   "id": "9b739767-33d2-43ef-a9f2-ecae3f07af3e",
   "metadata": {},
   "outputs": [
    {
     "data": {
      "text/plain": [
       "'GPU'"
      ]
     },
     "execution_count": 2,
     "metadata": {},
     "output_type": "execute_result"
    }
   ],
   "source": [
    "import carl_utils.models as carl_models\n",
    "import numpy as np\n",
    "import onnx, onnxruntime\n",
    "onnxruntime.get_device()"
   ]
  },
  {
   "cell_type": "code",
   "execution_count": 3,
   "id": "35d0f02b-de8c-40e5-bc34-6595479ea615",
   "metadata": {},
   "outputs": [],
   "source": [
    "def to_numpy(tensor):\n",
    "    return tensor.detach().cpu().numpy() if tensor.requires_grad else tensor.cpu().numpy()"
   ]
  },
  {
   "cell_type": "code",
   "execution_count": 4,
   "id": "183a4f43-82d4-42f7-b422-3faccd6ba2ce",
   "metadata": {},
   "outputs": [
    {
     "name": "stderr",
     "output_type": "stream",
     "text": [
      "2023-09-07 15:38:29.401368892 [W:onnxruntime:Default, onnxruntime_pybind_state.cc:614 CreateExecutionProviderInstance] Failed to create TensorrtExecutionProvider. Please reference https://onnxruntime.ai/docs/execution-providers/TensorRT-ExecutionProvider.html#requirements to ensure all dependencies are met.\n"
     ]
    }
   ],
   "source": [
    "#DEVICE = 'cpu'\n",
    "model_name = \"models/deepsets_agc_model_new6\"\n",
    "\n",
    "model = carl_models.load_model(\"{}.zip\".format(model_name)).to(DEVICE)\n",
    "\n",
    "onnx_model = carl_models.load_onnx_model(\"{}.zip\".format(model_name))\n",
    "onnx.checker.check_model(onnx_model)\n",
    "ort_session = carl_models.load_onnx_session(\"{}.zip\".format(model_name))"
   ]
  },
  {
   "cell_type": "code",
   "execution_count": 5,
   "id": "cf1e2ed0-8f16-4b09-be57-bcbbbec31395",
   "metadata": {},
   "outputs": [],
   "source": [
    "test_input = []\n",
    "input_names = []\n",
    "for k in model.features:\n",
    "    test_input.append(torch.randn(1, model.features[k][\"size\"], requires_grad=True).T[None, :].to(DEVICE))\n",
    "    input_names.append(k)\n",
    "test_input.append(torch.ones(len(model.features), 1, dtype=int).to(DEVICE))\n",
    "input_names.append(\"sample_indices\")\n",
    "test_input = tuple(test_input)"
   ]
  },
  {
   "cell_type": "code",
   "execution_count": 6,
   "id": "363d33a1-7b1c-424c-8767-ec7fe4503cdc",
   "metadata": {},
   "outputs": [],
   "source": [
    "for i in range(1000):\n",
    "    test_input = []\n",
    "    input_names = []\n",
    "    for k in model.features:\n",
    "        test_input.append(torch.randn(1, model.features[k][\"size\"], requires_grad=True).T[None, :].to(DEVICE))\n",
    "        input_names.append(k)\n",
    "    test_input.append(torch.ones(len(model.features), 1, dtype=int).to(DEVICE))\n",
    "    input_names.append(\"sample_indices\")\n",
    "    test_input = tuple(test_input)\n",
    "\n",
    "    # Compute PyTorch output prediction\n",
    "    with torch.no_grad():\n",
    "        model.eval()\n",
    "        torch_out = model(*test_input)\n",
    "    \n",
    "    # compute ONNX Runtime output prediction\n",
    "    ort_inputs = {x.name: to_numpy(test_input[i]) for i, x in enumerate(ort_session.get_inputs())}\n",
    "    ort_outs = ort_session.run(None, ort_inputs)\n",
    "    \n",
    "    # compare ONNX Runtime and PyTorch results\n",
    "    np.testing.assert_allclose(to_numpy(torch_out), ort_outs[0], rtol=1e-03, atol=1e-05)"
   ]
  },
  {
   "cell_type": "code",
   "execution_count": 11,
   "id": "f7de5762-5f8d-4c06-99ed-a744fcfd2394",
   "metadata": {},
   "outputs": [
    {
     "name": "stdout",
     "output_type": "stream",
     "text": [
      "872 µs ± 1.86 µs per loop (mean ± std. dev. of 7 runs, 1,000 loops each)\n"
     ]
    }
   ],
   "source": [
    "%timeit model(*test_input)"
   ]
  },
  {
   "cell_type": "code",
   "execution_count": 12,
   "id": "fdaa4b1d-ab8c-41b9-9406-d712ffc19cd9",
   "metadata": {},
   "outputs": [
    {
     "name": "stdout",
     "output_type": "stream",
     "text": [
      "361 µs ± 6.03 µs per loop (mean ± std. dev. of 7 runs, 1,000 loops each)\n"
     ]
    }
   ],
   "source": [
    "%timeit ort_session.run(None, ort_inputs)"
   ]
  },
  {
   "cell_type": "code",
   "execution_count": null,
   "id": "b6985c9c-97f2-4c67-be9e-7f5cb0294159",
   "metadata": {},
   "outputs": [],
   "source": []
  },
  {
   "cell_type": "code",
   "execution_count": null,
   "id": "5d545210-b2ae-412d-be4b-dc892d63864c",
   "metadata": {},
   "outputs": [],
   "source": []
  }
 ],
 "metadata": {
  "kernelspec": {
   "display_name": "carl-for-agc",
   "language": "python",
   "name": "carl-for-agc"
  },
  "language_info": {
   "codemirror_mode": {
    "name": "ipython",
    "version": 3
   },
   "file_extension": ".py",
   "mimetype": "text/x-python",
   "name": "python",
   "nbconvert_exporter": "python",
   "pygments_lexer": "ipython3",
   "version": "3.11.4"
  }
 },
 "nbformat": 4,
 "nbformat_minor": 5
}
