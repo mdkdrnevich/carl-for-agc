{
 "cells": [
  {
   "cell_type": "code",
   "execution_count": 1,
   "id": "b9595458-0e8c-42e3-ba1c-2cd978f528c4",
   "metadata": {},
   "outputs": [
    {
     "name": "stdout",
     "output_type": "stream",
     "text": [
      "11.7\n",
      "cuda:0\n"
     ]
    }
   ],
   "source": [
    "import torch\n",
    "import yaml\n",
    "\n",
    "# Local imports\n",
    "import carl_utils.preprocessing as carl_ppro\n",
    "import carl_utils.train as carl_train\n",
    "\n",
    "import logging\n",
    "logging.getLogger('matplotlib.font_manager').setLevel(logging.ERROR)\n",
    "\n",
    "DEVICE = torch.device(\"cuda:0\" if torch.cuda.is_available() else \"cpu\")\n",
    "print(torch.version.cuda)\n",
    "#DEVICE = 'cpu'\n",
    "print(DEVICE)"
   ]
  },
  {
   "cell_type": "code",
   "execution_count": 2,
   "id": "43940d3a-98e3-4e26-9bad-04b1e165c000",
   "metadata": {},
   "outputs": [
    {
     "data": {
      "text/plain": [
       "{'Electron_set': {'set': True,\n",
       "  'size': 4,\n",
       "  'subfeatures': ['Electron_pt',\n",
       "   'Electron_eta',\n",
       "   'Electron_phi',\n",
       "   'Electron_mass']},\n",
       " 'FatJet_set': {'set': True,\n",
       "  'size': 5,\n",
       "  'subfeatures': ['FatJet_pt',\n",
       "   'FatJet_eta',\n",
       "   'FatJet_phi',\n",
       "   'FatJet_mass',\n",
       "   'FatJet_btagCSVV2']},\n",
       " 'Jet_set': {'set': True,\n",
       "  'size': 5,\n",
       "  'subfeatures': ['Jet_pt',\n",
       "   'Jet_eta',\n",
       "   'Jet_phi',\n",
       "   'Jet_mass',\n",
       "   'Jet_btagCSVV2']},\n",
       " 'MET_sumEt': {'set': False, 'size': 1, 'subfeatures': ['MET_sumEt']},\n",
       " 'Muon_set': {'set': True,\n",
       "  'size': 4,\n",
       "  'subfeatures': ['Muon_pt', 'Muon_eta', 'Muon_phi', 'Muon_mass']},\n",
       " 'Photon_set': {'set': True,\n",
       "  'size': 4,\n",
       "  'subfeatures': ['Photon_pt', 'Photon_eta', 'Photon_phi', 'Photon_mass']}}"
      ]
     },
     "execution_count": 2,
     "metadata": {},
     "output_type": "execute_result"
    }
   ],
   "source": [
    "total_features = yaml.load(open(\"carl_features.yaml\", 'r'), Loader=yaml.CLoader)\n",
    "total_features"
   ]
  },
  {
   "cell_type": "code",
   "execution_count": 3,
   "id": "05aa145b-c20e-4195-8e89-56110dc73d59",
   "metadata": {},
   "outputs": [
    {
     "data": {
      "text/plain": [
       "{'Jet_set': {'set': True,\n",
       "  'size': 5,\n",
       "  'subfeatures': ['Jet_pt',\n",
       "   'Jet_eta',\n",
       "   'Jet_phi',\n",
       "   'Jet_mass',\n",
       "   'Jet_btagCSVV2']},\n",
       " 'Electron_set': {'set': True,\n",
       "  'size': 4,\n",
       "  'subfeatures': ['Electron_pt',\n",
       "   'Electron_eta',\n",
       "   'Electron_phi',\n",
       "   'Electron_mass']}}"
      ]
     },
     "execution_count": 3,
     "metadata": {},
     "output_type": "execute_result"
    }
   ],
   "source": [
    "subfeatures = [\"Jet_set\", \"Electron_set\"]#, \"Muon_set\"]\n",
    "features = dict(zip(subfeatures, [total_features[feat] for feat in subfeatures]))\n",
    "features"
   ]
  },
  {
   "cell_type": "code",
   "execution_count": 4,
   "id": "6d9ba0cf-7228-453f-978f-34280ca5b3b0",
   "metadata": {},
   "outputs": [],
   "source": [
    "weight_features = [\"genWeight\", \"btagWeight_CSVV2\"]"
   ]
  },
  {
   "cell_type": "markdown",
   "id": "bd2ec8ed-8fd0-43c8-b7b5-45a49fe703a7",
   "metadata": {},
   "source": [
    "## Initiate the datasets and load the data"
   ]
  },
  {
   "cell_type": "code",
   "execution_count": 11,
   "id": "4ea1b151-fb61-42c5-b9cd-8e749c707ec1",
   "metadata": {},
   "outputs": [
    {
     "name": "stderr",
     "output_type": "stream",
     "text": [
      "100%|██████████| 500000/500000 [03:00<00:00, 2766.14it/s]\n",
      "100%|██████████| 100000/100000 [00:35<00:00, 2853.54it/s]\n",
      "100%|██████████| 500000/500000 [03:00<00:00, 2766.23it/s]\n",
      "100%|██████████| 100000/100000 [00:34<00:00, 2865.47it/s]\n"
     ]
    }
   ],
   "source": [
    "n_train_events = int(1e6) // 2\n",
    "n_val_events = int(2e5) // 2\n",
    "\n",
    "train_nominal_dataset = carl_ppro.DeepSetsDataset([\"/data/mdrnevich/AGC/CMS_ttbar_nominal_DeepSets_training_data_new2.root\",], features, 0, stop_event=n_train_events)\n",
    "valid_nominal_dataset = carl_ppro.DeepSetsDataset([\"/data/mdrnevich/AGC/CMS_ttbar_nominal_DeepSets_validation_data_new2.root\",], features, 0, stop_event=n_val_events)\n",
    "\n",
    "train_PS_var_dataset = carl_ppro.DeepSetsDataset([\"/data/mdrnevich/AGC/CMS_ttbar_PS_var_DeepSets_training_data_new2.root\",], features, 1, stop_event=n_train_events)\n",
    "valid_PS_var_dataset = carl_ppro.DeepSetsDataset([\"/data/mdrnevich/AGC/CMS_ttbar_PS_var_DeepSets_validation_data_new2.root\",], features, 1, stop_event=n_val_events)"
   ]
  },
  {
   "cell_type": "markdown",
   "id": "f5ec861c-4347-4c92-a535-9e1cb78bf985",
   "metadata": {},
   "source": [
    "## Prepare the data"
   ]
  },
  {
   "cell_type": "code",
   "execution_count": 12,
   "id": "d570378d-9ad3-40fb-a27e-92a9a1f494a5",
   "metadata": {},
   "outputs": [],
   "source": [
    "train_generator_data = carl_ppro.CombinedDataset(train_nominal_dataset, train_PS_var_dataset)\n",
    "valid_generator_data = carl_ppro.CombinedDataset(valid_nominal_dataset, valid_PS_var_dataset)"
   ]
  },
  {
   "cell_type": "markdown",
   "id": "401044ed-c3e6-41e4-9665-570067033c5b",
   "metadata": {},
   "source": [
    "## Define the settings of the model and training"
   ]
  },
  {
   "cell_type": "code",
   "execution_count": 13,
   "id": "b42b619a-0ba6-4e50-bcc0-3d5879894bf7",
   "metadata": {},
   "outputs": [],
   "source": [
    "hidden1 = 512 // 2\n",
    "hidden2 = 256 // 2\n",
    "hidden3 = 128 // 2\n",
    "classify1 = 1024  // 2\n",
    "classify2 = 1024 // 2\n",
    "outputs = 1\n",
    "\n",
    "model_settings = {\n",
    "    \"features\": features,\n",
    "    \"phi\": [hidden1, hidden2, hidden3],\n",
    "    \"mlp\": [classify1, classify2]\n",
    "}\n",
    "\n",
    "\n",
    "training_settings = {\n",
    "    \"optimizer\": \"Adam\",\n",
    "    \"learning_rate\": 1e-2,\n",
    "    \"batch_size\": 256,\n",
    "    \"n_epochs\": 30,\n",
    "    \"patience\": 6,\n",
    "    \"device\": DEVICE,\n",
    "    \"n_events\": n_train_events * 2,\n",
    "    \"saveAs\": \"models/deepsets_agc_model_new8\",\n",
    "    \"return_best_model\": True\n",
    "}"
   ]
  },
  {
   "cell_type": "markdown",
   "id": "92e0f630-036e-4398-9a1e-fee4967a2bdc",
   "metadata": {},
   "source": [
    "# Perform the training"
   ]
  },
  {
   "cell_type": "code",
   "execution_count": null,
   "id": "de7b2aac-15ca-46b8-b82c-f99523c14456",
   "metadata": {},
   "outputs": [
    {
     "name": "stdout",
     "output_type": "stream",
     "text": [
      "Constructing the model\n",
      "Loading the input data scaling\n"
     ]
    },
    {
     "name": "stderr",
     "output_type": "stream",
     "text": [
      "100%|██████████| 977/977 [00:11<00:00, 84.01it/s] \n"
     ]
    },
    {
     "name": "stdout",
     "output_type": "stream",
     "text": [
      "Training the model\n"
     ]
    },
    {
     "name": "stderr",
     "output_type": "stream",
     "text": [
      "                                                                   \r"
     ]
    },
    {
     "name": "stdout",
     "output_type": "stream",
     "text": [
      "Epoch: 01, Training Loss:   0.6857\n",
      "           Validation Loss: 0.6827\n",
      "Added Electron_set\n",
      "Found set\n",
      "Added Jet_set\n",
      "Found set\n",
      "['Electron_set', 'Jet_set', 'sample_indices']\n",
      "{'Electron_set': {2: 'batch_and_set_size'}, 'Jet_set': {2: 'batch_and_set_size'}, 'sample_indices': {1: 'batch_size'}, 'output': {0: 'batch_size'}}\n"
     ]
    },
    {
     "name": "stderr",
     "output_type": "stream",
     "text": [
      "/home/mdrnevich/miniconda3/envs/carl-for-agc/lib/python3.11/site-packages/torch/onnx/utils.py:825: UserWarning: no signature found for <torch.ScriptMethod object at 0x7fe440d89130>, skipping _decide_input_format\n",
      "  warnings.warn(f\"{e}, skipping _decide_input_format\")\n"
     ]
    },
    {
     "name": "stdout",
     "output_type": "stream",
     "text": [
      "================ Diagnostic Run torch.onnx.export version 2.0.1 ================\n",
      "verbose: False, log level: Level.ERROR\n",
      "======================= 0 NONE 0 NOTE 0 WARNING 0 ERROR ========================\n",
      "\n"
     ]
    },
    {
     "name": "stderr",
     "output_type": "stream",
     "text": [
      "  3%|▎         | 1/30 [03:56<1:54:12, 236.30s/it]"
     ]
    },
    {
     "name": "stdout",
     "output_type": "stream",
     "text": [
      "New best model saved to: models/deepsets_agc_model_new8.zip\n"
     ]
    },
    {
     "name": "stderr",
     "output_type": "stream",
     "text": [
      "  7%|▋         | 2/30 [07:45<1:48:14, 231.94s/it]                  "
     ]
    },
    {
     "name": "stdout",
     "output_type": "stream",
     "text": [
      "Epoch: 02, Training Loss:   0.6821\n",
      "           Validation Loss: 0.6827\n",
      "Stale epoch\n"
     ]
    },
    {
     "name": "stderr",
     "output_type": "stream",
     "text": [
      "                                                                   \r"
     ]
    },
    {
     "name": "stdout",
     "output_type": "stream",
     "text": [
      "Epoch: 03, Training Loss:   0.6817\n",
      "           Validation Loss: 0.6825\n",
      "Added Electron_set\n",
      "Found set\n",
      "Added Jet_set\n",
      "Found set\n",
      "['Electron_set', 'Jet_set', 'sample_indices']\n",
      "{'Electron_set': {2: 'batch_and_set_size'}, 'Jet_set': {2: 'batch_and_set_size'}, 'sample_indices': {1: 'batch_size'}, 'output': {0: 'batch_size'}}\n"
     ]
    },
    {
     "name": "stderr",
     "output_type": "stream",
     "text": [
      "/home/mdrnevich/miniconda3/envs/carl-for-agc/lib/python3.11/site-packages/torch/onnx/utils.py:825: UserWarning: no signature found for <torch.ScriptMethod object at 0x7fe440d881d0>, skipping _decide_input_format\n",
      "  warnings.warn(f\"{e}, skipping _decide_input_format\")\n"
     ]
    },
    {
     "name": "stdout",
     "output_type": "stream",
     "text": [
      "================ Diagnostic Run torch.onnx.export version 2.0.1 ================\n",
      "verbose: False, log level: Level.ERROR\n",
      "======================= 0 NONE 0 NOTE 0 WARNING 0 ERROR ========================\n",
      "\n"
     ]
    },
    {
     "name": "stderr",
     "output_type": "stream",
     "text": [
      " 10%|█         | 3/30 [11:41<1:45:11, 233.75s/it]"
     ]
    },
    {
     "name": "stdout",
     "output_type": "stream",
     "text": [
      "New best model saved to: models/deepsets_agc_model_new8.zip\n"
     ]
    },
    {
     "name": "stderr",
     "output_type": "stream",
     "text": [
      "loss = 0.70215:   6%|▌         | 235/3907 [00:13<03:25, 17.88it/s]IOPub message rate exceeded.\n",
      "The Jupyter server will temporarily stop sending output\n",
      "to the client in order to avoid crashing it.\n",
      "To change this limit, set the config variable\n",
      "`--ServerApp.iopub_msg_rate_limit`.\n",
      "\n",
      "Current values:\n",
      "ServerApp.iopub_msg_rate_limit=1000.0 (msgs/sec)\n",
      "ServerApp.rate_limit_window=3.0 (secs)\n",
      "\n",
      "                                                                 \r"
     ]
    },
    {
     "name": "stdout",
     "output_type": "stream",
     "text": [
      "Epoch: 05, Training Loss:   0.6813\n",
      "           Validation Loss: 0.6816\n",
      "Added Electron_set\n",
      "Found set\n",
      "Added Jet_set\n",
      "Found set\n",
      "['Electron_set', 'Jet_set', 'sample_indices']\n",
      "{'Electron_set': {2: 'batch_and_set_size'}, 'Jet_set': {2: 'batch_and_set_size'}, 'sample_indices': {1: 'batch_size'}, 'output': {0: 'batch_size'}}\n"
     ]
    },
    {
     "name": "stderr",
     "output_type": "stream",
     "text": [
      "/home/mdrnevich/miniconda3/envs/carl-for-agc/lib/python3.11/site-packages/torch/onnx/utils.py:825: UserWarning: no signature found for <torch.ScriptMethod object at 0x7fe440d835f0>, skipping _decide_input_format\n",
      "  warnings.warn(f\"{e}, skipping _decide_input_format\")\n"
     ]
    },
    {
     "name": "stdout",
     "output_type": "stream",
     "text": [
      "================ Diagnostic Run torch.onnx.export version 2.0.1 ================\n",
      "verbose: False, log level: Level.ERROR\n",
      "======================= 0 NONE 0 NOTE 0 WARNING 0 ERROR ========================\n",
      "\n"
     ]
    },
    {
     "name": "stderr",
     "output_type": "stream",
     "text": [
      " 17%|█▋        | 5/30 [19:32<1:37:50, 234.81s/it]"
     ]
    },
    {
     "name": "stdout",
     "output_type": "stream",
     "text": [
      "New best model saved to: models/deepsets_agc_model_new8.zip\n"
     ]
    },
    {
     "name": "stderr",
     "output_type": "stream",
     "text": [
      "                                                                   \r"
     ]
    },
    {
     "name": "stdout",
     "output_type": "stream",
     "text": [
      "Epoch: 06, Training Loss:   0.6810\n",
      "           Validation Loss: 0.6810\n",
      "Added Electron_set\n",
      "Found set\n",
      "Added Jet_set\n",
      "Found set\n",
      "['Electron_set', 'Jet_set', 'sample_indices']\n",
      "{'Electron_set': {2: 'batch_and_set_size'}, 'Jet_set': {2: 'batch_and_set_size'}, 'sample_indices': {1: 'batch_size'}, 'output': {0: 'batch_size'}}\n"
     ]
    },
    {
     "name": "stderr",
     "output_type": "stream",
     "text": [
      "/home/mdrnevich/miniconda3/envs/carl-for-agc/lib/python3.11/site-packages/torch/onnx/utils.py:825: UserWarning: no signature found for <torch.ScriptMethod object at 0x7fe440d83830>, skipping _decide_input_format\n",
      "  warnings.warn(f\"{e}, skipping _decide_input_format\")\n",
      " 20%|██        | 6/30 [23:28<1:34:08, 235.36s/it]"
     ]
    },
    {
     "name": "stdout",
     "output_type": "stream",
     "text": [
      "================ Diagnostic Run torch.onnx.export version 2.0.1 ================\n",
      "verbose: False, log level: Level.ERROR\n",
      "======================= 0 NONE 0 NOTE 0 WARNING 0 ERROR ========================\n",
      "\n",
      "New best model saved to: models/deepsets_agc_model_new8.zip\n"
     ]
    },
    {
     "name": "stderr",
     "output_type": "stream",
     "text": [
      "                                                                   \r"
     ]
    },
    {
     "name": "stdout",
     "output_type": "stream",
     "text": [
      "Epoch: 07, Training Loss:   0.6808\n",
      "           Validation Loss: 0.6807\n",
      "Added Electron_set\n",
      "Found set\n",
      "Added Jet_set\n",
      "Found set\n",
      "['Electron_set', 'Jet_set', 'sample_indices']\n",
      "{'Electron_set': {2: 'batch_and_set_size'}, 'Jet_set': {2: 'batch_and_set_size'}, 'sample_indices': {1: 'batch_size'}, 'output': {0: 'batch_size'}}\n"
     ]
    },
    {
     "name": "stderr",
     "output_type": "stream",
     "text": [
      "/home/mdrnevich/miniconda3/envs/carl-for-agc/lib/python3.11/site-packages/torch/onnx/utils.py:825: UserWarning: no signature found for <torch.ScriptMethod object at 0x7fe440d82a50>, skipping _decide_input_format\n",
      "  warnings.warn(f\"{e}, skipping _decide_input_format\")\n"
     ]
    },
    {
     "name": "stdout",
     "output_type": "stream",
     "text": [
      "================ Diagnostic Run torch.onnx.export version 2.0.1 ================\n",
      "verbose: False, log level: Level.ERROR\n",
      "======================= 0 NONE 0 NOTE 0 WARNING 0 ERROR ========================\n",
      "\n"
     ]
    },
    {
     "name": "stderr",
     "output_type": "stream",
     "text": [
      " 23%|██▎       | 7/30 [27:28<1:30:46, 236.82s/it]"
     ]
    },
    {
     "name": "stdout",
     "output_type": "stream",
     "text": [
      "New best model saved to: models/deepsets_agc_model_new8.zip\n"
     ]
    },
    {
     "name": "stderr",
     "output_type": "stream",
     "text": [
      " 27%|██▋       | 8/30 [31:24<1:26:42, 236.47s/it]                  "
     ]
    },
    {
     "name": "stdout",
     "output_type": "stream",
     "text": [
      "Epoch: 08, Training Loss:   0.6807\n",
      "           Validation Loss: 0.6808\n",
      "Stale epoch\n"
     ]
    },
    {
     "name": "stderr",
     "output_type": "stream",
     "text": [
      "loss = 0.68140:  35%|███▍      | 1357/3907 [01:18<03:01, 14.06it/s]IOPub message rate exceeded.\n",
      "The Jupyter server will temporarily stop sending output\n",
      "to the client in order to avoid crashing it.\n",
      "To change this limit, set the config variable\n",
      "`--ServerApp.iopub_msg_rate_limit`.\n",
      "\n",
      "Current values:\n",
      "ServerApp.iopub_msg_rate_limit=1000.0 (msgs/sec)\n",
      "ServerApp.rate_limit_window=3.0 (secs)\n",
      "\n",
      "                                                                   \r"
     ]
    },
    {
     "name": "stdout",
     "output_type": "stream",
     "text": [
      "Epoch: 11, Training Loss:   0.6804\n",
      "           Validation Loss: 0.6803\n",
      "Added Electron_set\n",
      "Found set\n",
      "Added Jet_set\n",
      "Found set\n",
      "['Electron_set', 'Jet_set', 'sample_indices']\n",
      "{'Electron_set': {2: 'batch_and_set_size'}, 'Jet_set': {2: 'batch_and_set_size'}, 'sample_indices': {1: 'batch_size'}, 'output': {0: 'batch_size'}}\n"
     ]
    },
    {
     "name": "stderr",
     "output_type": "stream",
     "text": [
      "/home/mdrnevich/miniconda3/envs/carl-for-agc/lib/python3.11/site-packages/torch/onnx/utils.py:825: UserWarning: no signature found for <torch.ScriptMethod object at 0x7fe45ffb8410>, skipping _decide_input_format\n",
      "  warnings.warn(f\"{e}, skipping _decide_input_format\")\n",
      " 37%|███▋      | 11/30 [43:14<1:14:52, 236.46s/it]"
     ]
    },
    {
     "name": "stdout",
     "output_type": "stream",
     "text": [
      "================ Diagnostic Run torch.onnx.export version 2.0.1 ================\n",
      "verbose: False, log level: Level.ERROR\n",
      "======================= 0 NONE 0 NOTE 0 WARNING 0 ERROR ========================\n",
      "\n",
      "New best model saved to: models/deepsets_agc_model_new8.zip\n"
     ]
    },
    {
     "name": "stderr",
     "output_type": "stream",
     "text": [
      " 40%|████      | 12/30 [47:06<1:10:32, 235.16s/it]                 "
     ]
    },
    {
     "name": "stdout",
     "output_type": "stream",
     "text": [
      "Epoch: 12, Training Loss:   0.6802\n",
      "           Validation Loss: 0.6815\n",
      "Stale epoch\n"
     ]
    },
    {
     "name": "stderr",
     "output_type": "stream",
     "text": [
      " 43%|████▎     | 13/30 [51:00<1:06:33, 234.93s/it]                 "
     ]
    },
    {
     "name": "stdout",
     "output_type": "stream",
     "text": [
      "Epoch: 13, Training Loss:   0.6801\n",
      "           Validation Loss: 0.6810\n",
      "Stale epoch\n"
     ]
    },
    {
     "name": "stderr",
     "output_type": "stream",
     "text": [
      " 50%|█████     | 15/30 [58:56<59:04, 236.31s/it]                   "
     ]
    },
    {
     "name": "stdout",
     "output_type": "stream",
     "text": [
      "Epoch: 15, Training Loss:   0.6799\n",
      "           Validation Loss: 0.6808\n",
      "Stale epoch\n"
     ]
    },
    {
     "name": "stderr",
     "output_type": "stream",
     "text": [
      " 53%|█████▎    | 16/30 [1:02:52<55:08, 236.31s/it]                 "
     ]
    },
    {
     "name": "stdout",
     "output_type": "stream",
     "text": [
      "Epoch: 16, Training Loss:   0.6799\n",
      "           Validation Loss: 0.6806\n",
      "Stale epoch\n"
     ]
    },
    {
     "name": "stderr",
     "output_type": "stream",
     "text": [
      "                                                                   \r"
     ]
    },
    {
     "name": "stdout",
     "output_type": "stream",
     "text": [
      "Epoch: 17, Training Loss:   0.6797\n",
      "           Validation Loss: 0.6802\n",
      "Added Electron_set\n",
      "Found set\n",
      "Added Jet_set\n",
      "Found set\n",
      "['Electron_set', 'Jet_set', 'sample_indices']\n",
      "{'Electron_set': {2: 'batch_and_set_size'}, 'Jet_set': {2: 'batch_and_set_size'}, 'sample_indices': {1: 'batch_size'}, 'output': {0: 'batch_size'}}\n"
     ]
    },
    {
     "name": "stderr",
     "output_type": "stream",
     "text": [
      "/home/mdrnevich/miniconda3/envs/carl-for-agc/lib/python3.11/site-packages/torch/onnx/utils.py:825: UserWarning: no signature found for <torch.ScriptMethod object at 0x7fe45ffbb830>, skipping _decide_input_format\n",
      "  warnings.warn(f\"{e}, skipping _decide_input_format\")\n",
      " 57%|█████▋    | 17/30 [1:06:48<51:10, 236.15s/it]"
     ]
    },
    {
     "name": "stdout",
     "output_type": "stream",
     "text": [
      "================ Diagnostic Run torch.onnx.export version 2.0.1 ================\n",
      "verbose: False, log level: Level.ERROR\n",
      "======================= 0 NONE 0 NOTE 0 WARNING 0 ERROR ========================\n",
      "\n",
      "New best model saved to: models/deepsets_agc_model_new8.zip\n"
     ]
    },
    {
     "name": "stderr",
     "output_type": "stream",
     "text": [
      " 60%|██████    | 18/30 [1:10:42<47:06, 235.57s/it]                 "
     ]
    },
    {
     "name": "stdout",
     "output_type": "stream",
     "text": [
      "Epoch: 18, Training Loss:   0.6797\n",
      "           Validation Loss: 0.6807\n",
      "Stale epoch\n"
     ]
    },
    {
     "name": "stderr",
     "output_type": "stream",
     "text": [
      " 63%|██████▎   | 19/30 [1:14:39<43:15, 235.97s/it]                 "
     ]
    },
    {
     "name": "stdout",
     "output_type": "stream",
     "text": [
      "Epoch: 19, Training Loss:   0.6797\n",
      "           Validation Loss: 0.6802\n",
      "Stale epoch\n"
     ]
    },
    {
     "name": "stderr",
     "output_type": "stream",
     "text": [
      "                                                                   \r"
     ]
    },
    {
     "name": "stdout",
     "output_type": "stream",
     "text": [
      "Epoch: 23, Training Loss:   0.6793\n",
      "           Validation Loss: 0.6800\n",
      "Added Electron_set\n",
      "Found set\n",
      "Added Jet_set\n",
      "Found set\n",
      "['Electron_set', 'Jet_set', 'sample_indices']\n",
      "{'Electron_set': {2: 'batch_and_set_size'}, 'Jet_set': {2: 'batch_and_set_size'}, 'sample_indices': {1: 'batch_size'}, 'output': {0: 'batch_size'}}\n"
     ]
    },
    {
     "name": "stderr",
     "output_type": "stream",
     "text": [
      "/home/mdrnevich/miniconda3/envs/carl-for-agc/lib/python3.11/site-packages/torch/onnx/utils.py:825: UserWarning: no signature found for <torch.ScriptMethod object at 0x7fe45ffbb6b0>, skipping _decide_input_format\n",
      "  warnings.warn(f\"{e}, skipping _decide_input_format\")\n"
     ]
    },
    {
     "name": "stdout",
     "output_type": "stream",
     "text": [
      "================ Diagnostic Run torch.onnx.export version 2.0.1 ================\n",
      "verbose: False, log level: Level.ERROR\n",
      "======================= 0 NONE 0 NOTE 0 WARNING 0 ERROR ========================\n",
      "\n"
     ]
    },
    {
     "name": "stderr",
     "output_type": "stream",
     "text": [
      " 77%|███████▋  | 23/30 [1:30:21<27:31, 235.91s/it]"
     ]
    },
    {
     "name": "stdout",
     "output_type": "stream",
     "text": [
      "New best model saved to: models/deepsets_agc_model_new8.zip\n"
     ]
    },
    {
     "name": "stderr",
     "output_type": "stream",
     "text": [
      " 80%|████████  | 24/30 [1:34:19<23:38, 236.44s/it]                 "
     ]
    },
    {
     "name": "stdout",
     "output_type": "stream",
     "text": [
      "Epoch: 24, Training Loss:   0.6793\n",
      "           Validation Loss: 0.6802\n",
      "Stale epoch\n"
     ]
    },
    {
     "name": "stderr",
     "output_type": "stream",
     "text": [
      " 83%|████████▎ | 25/30 [1:38:14<19:39, 235.94s/it]                 "
     ]
    },
    {
     "name": "stdout",
     "output_type": "stream",
     "text": [
      "Epoch: 25, Training Loss:   0.6792\n",
      "           Validation Loss: 0.6809\n",
      "Stale epoch\n"
     ]
    },
    {
     "name": "stderr",
     "output_type": "stream",
     "text": [
      " 87%|████████▋ | 26/30 [1:42:09<15:43, 235.83s/it]                 "
     ]
    },
    {
     "name": "stdout",
     "output_type": "stream",
     "text": [
      "Epoch: 26, Training Loss:   0.6791\n",
      "           Validation Loss: 0.6803\n",
      "Stale epoch\n"
     ]
    },
    {
     "name": "stderr",
     "output_type": "stream",
     "text": [
      " 90%|█████████ | 27/30 [1:46:08<11:50, 236.82s/it]                 "
     ]
    },
    {
     "name": "stdout",
     "output_type": "stream",
     "text": [
      "Epoch: 27, Training Loss:   0.6791\n",
      "           Validation Loss: 0.6806\n",
      "Stale epoch\n"
     ]
    },
    {
     "name": "stderr",
     "output_type": "stream",
     "text": [
      "loss = 0.67319:  55%|█████▌    | 2167/3907 [04:58<01:54, 15.21it/s]IOPub message rate exceeded.\n",
      "The Jupyter server will temporarily stop sending output\n",
      "to the client in order to avoid crashing it.\n",
      "To change this limit, set the config variable\n",
      "`--ServerApp.iopub_msg_rate_limit`.\n",
      "\n",
      "Current values:\n",
      "ServerApp.iopub_msg_rate_limit=1000.0 (msgs/sec)\n",
      "ServerApp.rate_limit_window=3.0 (secs)\n",
      "\n",
      "loss = 0.67254:  97%|█████████▋| 3783/3907 [06:45<00:08, 15.08it/s]"
     ]
    }
   ],
   "source": [
    "model, losses = carl_train.train(model_settings, train_generator_data, valid_generator_data, **training_settings)"
   ]
  },
  {
   "cell_type": "code",
   "execution_count": null,
   "id": "3b76ddf3-d91a-417e-bcce-9d712f8ce32f",
   "metadata": {
    "scrolled": true
   },
   "outputs": [],
   "source": [
    "model"
   ]
  },
  {
   "cell_type": "code",
   "execution_count": null,
   "id": "433ff9c7-91eb-4a1d-8897-4f589330c8e1",
   "metadata": {},
   "outputs": [],
   "source": [
    "losses"
   ]
  },
  {
   "cell_type": "code",
   "execution_count": null,
   "id": "aaddac1c-86b6-4e69-8b83-40463a885400",
   "metadata": {},
   "outputs": [],
   "source": []
  }
 ],
 "metadata": {
  "kernelspec": {
   "display_name": "carl-for-agc",
   "language": "python",
   "name": "carl-for-agc"
  },
  "language_info": {
   "codemirror_mode": {
    "name": "ipython",
    "version": 3
   },
   "file_extension": ".py",
   "mimetype": "text/x-python",
   "name": "python",
   "nbconvert_exporter": "python",
   "pygments_lexer": "ipython3",
   "version": "3.11.4"
  }
 },
 "nbformat": 4,
 "nbformat_minor": 5
}
