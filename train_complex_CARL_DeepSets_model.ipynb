{
 "cells": [
  {
   "cell_type": "code",
   "execution_count": 1,
   "id": "b9595458-0e8c-42e3-ba1c-2cd978f528c4",
   "metadata": {},
   "outputs": [
    {
     "name": "stdout",
     "output_type": "stream",
     "text": [
      "cuda:0\n"
     ]
    }
   ],
   "source": [
    "import torch\n",
    "import yaml\n",
    "\n",
    "# Local imports\n",
    "import utils.preprocessing as carl_ppro\n",
    "import utils.train as carl_train\n",
    "\n",
    "import logging\n",
    "logging.getLogger('matplotlib.font_manager').setLevel(logging.ERROR)\n",
    "\n",
    "DEVICE = torch.device(\"cuda:0\" if torch.cuda.is_available() else \"cpu\")\n",
    "#DEVICE = 'cpu'\n",
    "print(DEVICE)"
   ]
  },
  {
   "cell_type": "code",
   "execution_count": 5,
   "id": "43940d3a-98e3-4e26-9bad-04b1e165c000",
   "metadata": {},
   "outputs": [
    {
     "data": {
      "text/plain": [
       "{'Electron_set': {'set': True,\n",
       "  'size': 4,\n",
       "  'subfeatures': ['Electron_pt',\n",
       "   'Electron_eta',\n",
       "   'Electron_phi',\n",
       "   'Electron_mass']},\n",
       " 'FatJet_set': {'set': True,\n",
       "  'size': 5,\n",
       "  'subfeatures': ['FatJet_pt',\n",
       "   'FatJet_eta',\n",
       "   'FatJet_phi',\n",
       "   'FatJet_mass',\n",
       "   'FatJet_btagCSVV2']},\n",
       " 'Jet_set': {'set': True,\n",
       "  'size': 5,\n",
       "  'subfeatures': ['Jet_pt',\n",
       "   'Jet_eta',\n",
       "   'Jet_phi',\n",
       "   'Jet_mass',\n",
       "   'Jet_btagCSVV2']},\n",
       " 'MET_sumEt': {'set': False, 'size': 1, 'subfeatures': ['MET_sumEt']},\n",
       " 'Muon_set': {'set': True,\n",
       "  'size': 4,\n",
       "  'subfeatures': ['Muon_pt', 'Muon_eta', 'Muon_phi', 'Muon_mass']},\n",
       " 'Photon_set': {'set': True,\n",
       "  'size': 4,\n",
       "  'subfeatures': ['Photon_pt', 'Photon_eta', 'Photon_phi', 'Photon_mass']}}"
      ]
     },
     "execution_count": 5,
     "metadata": {},
     "output_type": "execute_result"
    }
   ],
   "source": [
    "total_features = yaml.load(open(\"carl_features.yaml\", 'r'), Loader=yaml.CLoader)\n",
    "total_features"
   ]
  },
  {
   "cell_type": "code",
   "execution_count": 6,
   "id": "05aa145b-c20e-4195-8e89-56110dc73d59",
   "metadata": {},
   "outputs": [
    {
     "data": {
      "text/plain": [
       "{'Jet_set': {'set': True,\n",
       "  'size': 5,\n",
       "  'subfeatures': ['Jet_pt',\n",
       "   'Jet_eta',\n",
       "   'Jet_phi',\n",
       "   'Jet_mass',\n",
       "   'Jet_btagCSVV2']},\n",
       " 'MET_sumEt': {'set': False, 'size': 1, 'subfeatures': ['MET_sumEt']},\n",
       " 'Electron_set': {'set': True,\n",
       "  'size': 4,\n",
       "  'subfeatures': ['Electron_pt',\n",
       "   'Electron_eta',\n",
       "   'Electron_phi',\n",
       "   'Electron_mass']}}"
      ]
     },
     "execution_count": 6,
     "metadata": {},
     "output_type": "execute_result"
    }
   ],
   "source": [
    "subfeatures = [\"Jet_set\", \"MET_sumEt\", \"Electron_set\"]\n",
    "features = dict(zip(subfeatures, [total_features[feat] for feat in subfeatures]))\n",
    "features"
   ]
  },
  {
   "cell_type": "code",
   "execution_count": 7,
   "id": "6d9ba0cf-7228-453f-978f-34280ca5b3b0",
   "metadata": {},
   "outputs": [],
   "source": [
    "weight_features = [\"genWeight\", \"btagWeight_CSVV2\"]"
   ]
  },
  {
   "cell_type": "markdown",
   "id": "bd2ec8ed-8fd0-43c8-b7b5-45a49fe703a7",
   "metadata": {},
   "source": [
    "## Initiate the datasets and load the data"
   ]
  },
  {
   "cell_type": "code",
   "execution_count": 12,
   "id": "4ea1b151-fb61-42c5-b9cd-8e749c707ec1",
   "metadata": {},
   "outputs": [
    {
     "name": "stderr",
     "output_type": "stream",
     "text": [
      "100%|██████████| 200000/200000 [01:21<00:00, 2464.69it/s]\n",
      "100%|██████████| 50000/50000 [00:20<00:00, 2441.49it/s]\n",
      "100%|██████████| 200000/200000 [01:20<00:00, 2485.77it/s]\n",
      "100%|██████████| 50000/50000 [00:21<00:00, 2363.55it/s]\n"
     ]
    }
   ],
   "source": [
    "n_train_events = int(400000) // 2\n",
    "n_val_events = int(1e5) // 2\n",
    "\n",
    "train_nominal_dataset = carl_ppro.DeepSetsDataset([\"/data/mdrnevich/AGC/CMS_ttbar_nominal_DeepSets_training_data_new2.root\",], features, 0, stop_event=n_train_events)\n",
    "valid_nominal_dataset = carl_ppro.DeepSetsDataset([\"/data/mdrnevich/AGC/CMS_ttbar_nominal_DeepSets_validation_data_new2.root\",], features, 0, stop_event=n_val_events)\n",
    "\n",
    "train_PS_var_dataset = carl_ppro.DeepSetsDataset([\"/data/mdrnevich/AGC/CMS_ttbar_PS_var_DeepSets_training_data_new2.root\",], features, 1, stop_event=n_train_events)\n",
    "valid_PS_var_dataset = carl_ppro.DeepSetsDataset([\"/data/mdrnevich/AGC/CMS_ttbar_PS_var_DeepSets_validation_data_new2.root\",], features, 1, stop_event=n_val_events)"
   ]
  },
  {
   "cell_type": "markdown",
   "id": "f5ec861c-4347-4c92-a535-9e1cb78bf985",
   "metadata": {},
   "source": [
    "## Prepare the data"
   ]
  },
  {
   "cell_type": "code",
   "execution_count": 13,
   "id": "d570378d-9ad3-40fb-a27e-92a9a1f494a5",
   "metadata": {},
   "outputs": [],
   "source": [
    "train_generator_data = carl_ppro.CombinedDataset(train_nominal_dataset, train_PS_var_dataset)\n",
    "valid_generator_data = carl_ppro.CombinedDataset(valid_nominal_dataset, valid_PS_var_dataset)"
   ]
  },
  {
   "cell_type": "markdown",
   "id": "401044ed-c3e6-41e4-9665-570067033c5b",
   "metadata": {},
   "source": [
    "## Define the settings of the model and training"
   ]
  },
  {
   "cell_type": "code",
   "execution_count": 14,
   "id": "b42b619a-0ba6-4e50-bcc0-3d5879894bf7",
   "metadata": {},
   "outputs": [],
   "source": [
    "hidden1 = 512\n",
    "hidden2 = 256\n",
    "hidden3 = 128\n",
    "classify1 = 1024\n",
    "classify2 = 1024\n",
    "outputs = 1\n",
    "\n",
    "model_settings = {\n",
    "    \"features\": features,\n",
    "    \"phi\": [hidden1, hidden2, hidden3],\n",
    "    \"mlp\": [classify1, classify2]\n",
    "}\n",
    "\n",
    "\n",
    "training_settings = {\n",
    "    \"optimizer\": \"Adam\",\n",
    "    \"learning_rate\": 1e-2,\n",
    "    \"batch_size\": 1024,\n",
    "    \"n_epochs\": 30,\n",
    "    \"patience\": 6,\n",
    "    \"device\": DEVICE,\n",
    "    \"n_events\": n_train_events * 2\n",
    "}"
   ]
  },
  {
   "cell_type": "markdown",
   "id": "92e0f630-036e-4398-9a1e-fee4967a2bdc",
   "metadata": {},
   "source": [
    "# Perform the training"
   ]
  },
  {
   "cell_type": "code",
   "execution_count": 15,
   "id": "de7b2aac-15ca-46b8-b82c-f99523c14456",
   "metadata": {},
   "outputs": [
    {
     "name": "stdout",
     "output_type": "stream",
     "text": [
      "Constructing the model\n",
      "Loading the input data scaling\n"
     ]
    },
    {
     "name": "stderr",
     "output_type": "stream",
     "text": [
      "100%|██████████| 391/391 [00:05<00:00, 72.69it/s]\n"
     ]
    },
    {
     "name": "stdout",
     "output_type": "stream",
     "text": [
      "Training the model\n"
     ]
    },
    {
     "name": "stderr",
     "output_type": "stream",
     "text": [
      "  3%|▎         | 1/30 [02:59<1:26:45, 179.49s/it]                "
     ]
    },
    {
     "name": "stdout",
     "output_type": "stream",
     "text": [
      "Epoch: 01, Training Loss:   0.7136\n",
      "           Validation Loss: 0.6854\n",
      "New best model saved to: deepsets_ensemble_best.pth\n"
     ]
    },
    {
     "name": "stderr",
     "output_type": "stream",
     "text": [
      "  7%|▋         | 2/30 [06:00<1:24:05, 180.20s/it]                "
     ]
    },
    {
     "name": "stdout",
     "output_type": "stream",
     "text": [
      "Epoch: 02, Training Loss:   0.6843\n",
      "           Validation Loss: 0.6833\n",
      "New best model saved to: deepsets_ensemble_best.pth\n"
     ]
    },
    {
     "name": "stderr",
     "output_type": "stream",
     "text": [
      " 10%|█         | 3/30 [08:58<1:20:40, 179.26s/it]                "
     ]
    },
    {
     "name": "stdout",
     "output_type": "stream",
     "text": [
      "Epoch: 03, Training Loss:   0.6824\n",
      "           Validation Loss: 0.6846\n",
      "Stale epoch\n"
     ]
    },
    {
     "name": "stderr",
     "output_type": "stream",
     "text": [
      " 13%|█▎        | 4/30 [11:51<1:16:35, 176.76s/it]                "
     ]
    },
    {
     "name": "stdout",
     "output_type": "stream",
     "text": [
      "Epoch: 04, Training Loss:   0.6817\n",
      "           Validation Loss: 0.6889\n",
      "Stale epoch\n"
     ]
    },
    {
     "name": "stderr",
     "output_type": "stream",
     "text": [
      " 17%|█▋        | 5/30 [14:42<1:12:45, 174.61s/it]                "
     ]
    },
    {
     "name": "stdout",
     "output_type": "stream",
     "text": [
      "Epoch: 05, Training Loss:   0.6814\n",
      "           Validation Loss: 0.6833\n",
      "New best model saved to: deepsets_ensemble_best.pth\n"
     ]
    },
    {
     "name": "stderr",
     "output_type": "stream",
     "text": [
      " 20%|██        | 6/30 [17:33<1:09:28, 173.67s/it]                "
     ]
    },
    {
     "name": "stdout",
     "output_type": "stream",
     "text": [
      "Epoch: 06, Training Loss:   0.6812\n",
      "           Validation Loss: 0.6822\n",
      "New best model saved to: deepsets_ensemble_best.pth\n"
     ]
    },
    {
     "name": "stderr",
     "output_type": "stream",
     "text": [
      " 23%|██▎       | 7/30 [20:25<1:06:18, 172.99s/it]                "
     ]
    },
    {
     "name": "stdout",
     "output_type": "stream",
     "text": [
      "Epoch: 07, Training Loss:   0.6810\n",
      "           Validation Loss: 0.6859\n",
      "Stale epoch\n"
     ]
    },
    {
     "name": "stderr",
     "output_type": "stream",
     "text": [
      " 27%|██▋       | 8/30 [23:17<1:03:19, 172.71s/it]                "
     ]
    },
    {
     "name": "stdout",
     "output_type": "stream",
     "text": [
      "Epoch: 08, Training Loss:   0.6810\n",
      "           Validation Loss: 0.6848\n",
      "Stale epoch\n"
     ]
    },
    {
     "name": "stderr",
     "output_type": "stream",
     "text": [
      " 30%|███       | 9/30 [26:10<1:00:25, 172.64s/it]                "
     ]
    },
    {
     "name": "stdout",
     "output_type": "stream",
     "text": [
      "Epoch: 09, Training Loss:   0.6809\n",
      "           Validation Loss: 0.6854\n",
      "Stale epoch\n"
     ]
    },
    {
     "name": "stderr",
     "output_type": "stream",
     "text": [
      " 33%|███▎      | 10/30 [29:00<57:19, 171.98s/it]                 "
     ]
    },
    {
     "name": "stdout",
     "output_type": "stream",
     "text": [
      "Epoch: 10, Training Loss:   0.6806\n",
      "           Validation Loss: 0.6871\n",
      "Stale epoch\n"
     ]
    },
    {
     "name": "stderr",
     "output_type": "stream",
     "text": [
      " 37%|███▋      | 11/30 [31:52<54:26, 171.90s/it]                 "
     ]
    },
    {
     "name": "stdout",
     "output_type": "stream",
     "text": [
      "Epoch: 11, Training Loss:   0.6806\n",
      "           Validation Loss: 0.6819\n",
      "New best model saved to: deepsets_ensemble_best.pth\n"
     ]
    },
    {
     "name": "stderr",
     "output_type": "stream",
     "text": [
      " 40%|████      | 12/30 [34:43<51:30, 171.72s/it]                 "
     ]
    },
    {
     "name": "stdout",
     "output_type": "stream",
     "text": [
      "Epoch: 12, Training Loss:   0.6804\n",
      "           Validation Loss: 0.6821\n",
      "Stale epoch\n"
     ]
    },
    {
     "name": "stderr",
     "output_type": "stream",
     "text": [
      " 43%|████▎     | 13/30 [37:35<48:38, 171.67s/it]                 "
     ]
    },
    {
     "name": "stdout",
     "output_type": "stream",
     "text": [
      "Epoch: 13, Training Loss:   0.6804\n",
      "           Validation Loss: 0.6815\n",
      "New best model saved to: deepsets_ensemble_best.pth\n"
     ]
    },
    {
     "name": "stderr",
     "output_type": "stream",
     "text": [
      " 47%|████▋     | 14/30 [40:29<46:00, 172.50s/it]                 "
     ]
    },
    {
     "name": "stdout",
     "output_type": "stream",
     "text": [
      "Epoch: 14, Training Loss:   0.6802\n",
      "           Validation Loss: 0.6814\n",
      "New best model saved to: deepsets_ensemble_best.pth\n"
     ]
    },
    {
     "name": "stderr",
     "output_type": "stream",
     "text": [
      " 50%|█████     | 15/30 [43:22<43:07, 172.50s/it]                 "
     ]
    },
    {
     "name": "stdout",
     "output_type": "stream",
     "text": [
      "Epoch: 15, Training Loss:   0.6801\n",
      "           Validation Loss: 0.6826\n",
      "Stale epoch\n"
     ]
    },
    {
     "name": "stderr",
     "output_type": "stream",
     "text": [
      " 53%|█████▎    | 16/30 [46:15<40:19, 172.85s/it]                 "
     ]
    },
    {
     "name": "stdout",
     "output_type": "stream",
     "text": [
      "Epoch: 16, Training Loss:   0.6800\n",
      "           Validation Loss: 0.6818\n",
      "Stale epoch\n"
     ]
    },
    {
     "name": "stderr",
     "output_type": "stream",
     "text": [
      " 57%|█████▋    | 17/30 [49:08<37:28, 172.95s/it]                 "
     ]
    },
    {
     "name": "stdout",
     "output_type": "stream",
     "text": [
      "Epoch: 17, Training Loss:   0.6798\n",
      "           Validation Loss: 0.6838\n",
      "Stale epoch\n"
     ]
    },
    {
     "name": "stderr",
     "output_type": "stream",
     "text": [
      " 60%|██████    | 18/30 [52:03<34:40, 173.36s/it]                 "
     ]
    },
    {
     "name": "stdout",
     "output_type": "stream",
     "text": [
      "Epoch: 18, Training Loss:   0.6797\n",
      "           Validation Loss: 0.6823\n",
      "Stale epoch\n"
     ]
    },
    {
     "name": "stderr",
     "output_type": "stream",
     "text": [
      " 63%|██████▎   | 19/30 [54:55<31:43, 173.08s/it]                 "
     ]
    },
    {
     "name": "stdout",
     "output_type": "stream",
     "text": [
      "Epoch: 19, Training Loss:   0.6795\n",
      "           Validation Loss: 0.6823\n",
      "Stale epoch\n"
     ]
    },
    {
     "name": "stderr",
     "output_type": "stream",
     "text": [
      "                                                                 \r"
     ]
    },
    {
     "name": "stdout",
     "output_type": "stream",
     "text": [
      "Epoch: 20, Training Loss:   0.6793\n",
      "           Validation Loss: 0.6823\n",
      "Stale epoch\n",
      "Early stopping after 6 stale epochs\n",
      "Finished training\n",
      "Saved final model data to zip file\n"
     ]
    }
   ],
   "source": [
    "model = carl_train.train(model_settings, train_generator_data, valid_generator_data, **training_settings)"
   ]
  },
  {
   "cell_type": "code",
   "execution_count": null,
   "id": "3b76ddf3-d91a-417e-bcce-9d712f8ce32f",
   "metadata": {},
   "outputs": [],
   "source": []
  }
 ],
 "metadata": {
  "kernelspec": {
   "display_name": "carl-for-agc",
   "language": "python",
   "name": "carl-for-agc"
  },
  "language_info": {
   "codemirror_mode": {
    "name": "ipython",
    "version": 3
   },
   "file_extension": ".py",
   "mimetype": "text/x-python",
   "name": "python",
   "nbconvert_exporter": "python",
   "pygments_lexer": "ipython3",
   "version": "3.11.4"
  }
 },
 "nbformat": 4,
 "nbformat_minor": 5
}
