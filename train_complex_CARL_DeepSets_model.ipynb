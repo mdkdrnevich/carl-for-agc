{
 "cells": [
  {
   "cell_type": "code",
   "execution_count": 1,
   "id": "b9595458-0e8c-42e3-ba1c-2cd978f528c4",
   "metadata": {},
   "outputs": [
    {
     "name": "stdout",
     "output_type": "stream",
     "text": [
      "11.7\n",
      "cuda:0\n"
     ]
    }
   ],
   "source": [
    "import torch\n",
    "import yaml\n",
    "\n",
    "# Local imports\n",
    "import carl_utils.preprocessing as carl_ppro\n",
    "import carl_utils.train as carl_train\n",
    "\n",
    "import logging\n",
    "logging.getLogger('matplotlib.font_manager').setLevel(logging.ERROR)\n",
    "\n",
    "DEVICE = torch.device(\"cuda:0\" if torch.cuda.is_available() else \"cpu\")\n",
    "print(torch.version.cuda)\n",
    "#DEVICE = 'cpu'\n",
    "print(DEVICE)"
   ]
  },
  {
   "cell_type": "code",
   "execution_count": 2,
   "id": "43940d3a-98e3-4e26-9bad-04b1e165c000",
   "metadata": {},
   "outputs": [
    {
     "data": {
      "text/plain": [
       "{'Electron_set': {'set': True,\n",
       "  'size': 4,\n",
       "  'subfeatures': ['Electron_pt',\n",
       "   'Electron_eta',\n",
       "   'Electron_phi',\n",
       "   'Electron_mass']},\n",
       " 'FatJet_set': {'set': True,\n",
       "  'size': 5,\n",
       "  'subfeatures': ['FatJet_pt',\n",
       "   'FatJet_eta',\n",
       "   'FatJet_phi',\n",
       "   'FatJet_mass',\n",
       "   'FatJet_btagCSVV2']},\n",
       " 'Jet_set': {'set': True,\n",
       "  'size': 5,\n",
       "  'subfeatures': ['Jet_pt',\n",
       "   'Jet_eta',\n",
       "   'Jet_phi',\n",
       "   'Jet_mass',\n",
       "   'Jet_btagCSVV2']},\n",
       " 'MET_sumEt': {'set': False, 'size': 1, 'subfeatures': ['MET_sumEt']},\n",
       " 'Muon_set': {'set': True,\n",
       "  'size': 4,\n",
       "  'subfeatures': ['Muon_pt', 'Muon_eta', 'Muon_phi', 'Muon_mass']},\n",
       " 'Photon_set': {'set': True,\n",
       "  'size': 4,\n",
       "  'subfeatures': ['Photon_pt', 'Photon_eta', 'Photon_phi', 'Photon_mass']}}"
      ]
     },
     "execution_count": 2,
     "metadata": {},
     "output_type": "execute_result"
    }
   ],
   "source": [
    "total_features = yaml.load(open(\"carl_features.yaml\", 'r'), Loader=yaml.CLoader)\n",
    "total_features"
   ]
  },
  {
   "cell_type": "code",
   "execution_count": 3,
   "id": "05aa145b-c20e-4195-8e89-56110dc73d59",
   "metadata": {},
   "outputs": [
    {
     "data": {
      "text/plain": [
       "{'Jet_set': {'set': True,\n",
       "  'size': 5,\n",
       "  'subfeatures': ['Jet_pt',\n",
       "   'Jet_eta',\n",
       "   'Jet_phi',\n",
       "   'Jet_mass',\n",
       "   'Jet_btagCSVV2']},\n",
       " 'Electron_set': {'set': True,\n",
       "  'size': 4,\n",
       "  'subfeatures': ['Electron_pt',\n",
       "   'Electron_eta',\n",
       "   'Electron_phi',\n",
       "   'Electron_mass']}}"
      ]
     },
     "execution_count": 3,
     "metadata": {},
     "output_type": "execute_result"
    }
   ],
   "source": [
    "subfeatures = [\"Jet_set\", \"Electron_set\"]#, \"Muon_set\"]\n",
    "features = dict(zip(subfeatures, [total_features[feat] for feat in subfeatures]))\n",
    "features"
   ]
  },
  {
   "cell_type": "code",
   "execution_count": 4,
   "id": "6d9ba0cf-7228-453f-978f-34280ca5b3b0",
   "metadata": {},
   "outputs": [],
   "source": [
    "weight_features = [\"genWeight\", \"btagWeight_CSVV2\"]"
   ]
  },
  {
   "cell_type": "markdown",
   "id": "bd2ec8ed-8fd0-43c8-b7b5-45a49fe703a7",
   "metadata": {},
   "source": [
    "## Initiate the datasets and load the data"
   ]
  },
  {
   "cell_type": "code",
   "execution_count": 22,
   "id": "4ea1b151-fb61-42c5-b9cd-8e749c707ec1",
   "metadata": {},
   "outputs": [
    {
     "name": "stderr",
     "output_type": "stream",
     "text": [
      "100%|██████████| 500000/500000 [02:56<00:00, 2827.18it/s]\n",
      "100%|██████████| 100000/100000 [00:35<00:00, 2809.54it/s]\n",
      "100%|██████████| 500000/500000 [02:57<00:00, 2813.39it/s]\n",
      "100%|██████████| 100000/100000 [00:34<00:00, 2932.68it/s]\n"
     ]
    }
   ],
   "source": [
    "n_train_events = int(1e6) // 2\n",
    "n_val_events = int(2e5) // 2\n",
    "\n",
    "train_nominal_dataset = carl_ppro.DeepSetsDataset([\"/data/mdrnevich/AGC/CMS_ttbar_nominal_DeepSets_training_data_new2.root\",], features, 0, stop_event=n_train_events)\n",
    "valid_nominal_dataset = carl_ppro.DeepSetsDataset([\"/data/mdrnevich/AGC/CMS_ttbar_nominal_DeepSets_validation_data_new2.root\",], features, 0, stop_event=n_val_events)\n",
    "\n",
    "train_PS_var_dataset = carl_ppro.DeepSetsDataset([\"/data/mdrnevich/AGC/CMS_ttbar_PS_var_DeepSets_training_data_new2.root\",], features, 1, stop_event=n_train_events)\n",
    "valid_PS_var_dataset = carl_ppro.DeepSetsDataset([\"/data/mdrnevich/AGC/CMS_ttbar_PS_var_DeepSets_validation_data_new2.root\",], features, 1, stop_event=n_val_events)"
   ]
  },
  {
   "cell_type": "markdown",
   "id": "f5ec861c-4347-4c92-a535-9e1cb78bf985",
   "metadata": {},
   "source": [
    "## Prepare the data"
   ]
  },
  {
   "cell_type": "code",
   "execution_count": 23,
   "id": "d570378d-9ad3-40fb-a27e-92a9a1f494a5",
   "metadata": {},
   "outputs": [],
   "source": [
    "train_generator_data = carl_ppro.CombinedDataset(train_nominal_dataset, train_PS_var_dataset)\n",
    "valid_generator_data = carl_ppro.CombinedDataset(valid_nominal_dataset, valid_PS_var_dataset)"
   ]
  },
  {
   "cell_type": "markdown",
   "id": "401044ed-c3e6-41e4-9665-570067033c5b",
   "metadata": {},
   "source": [
    "## Define the settings of the model and training"
   ]
  },
  {
   "cell_type": "code",
   "execution_count": 24,
   "id": "b42b619a-0ba6-4e50-bcc0-3d5879894bf7",
   "metadata": {},
   "outputs": [],
   "source": [
    "hidden1 = 512 // 2\n",
    "hidden2 = 256 // 2\n",
    "hidden3 = 128 // 2\n",
    "classify1 = 1024  // 2\n",
    "classify2 = 1024 // 2\n",
    "outputs = 1\n",
    "\n",
    "model_settings = {\n",
    "    \"features\": features,\n",
    "    \"phi\": [hidden1, hidden2, hidden3],\n",
    "    \"mlp\": [classify1, classify2]\n",
    "}\n",
    "\n",
    "\n",
    "training_settings = {\n",
    "    \"optimizer\": \"Adam\",\n",
    "    \"learning_rate\": 1e-2,\n",
    "    \"batch_size\": 256,\n",
    "    \"n_epochs\": 30,\n",
    "    \"patience\": 6,\n",
    "    \"device\": DEVICE,\n",
    "    \"n_events\": n_train_events * 2,\n",
    "    \"saveAs\": \"models/deepsets_agc_model_new7\",\n",
    "    \"return_best_model\": True\n",
    "}"
   ]
  },
  {
   "cell_type": "markdown",
   "id": "92e0f630-036e-4398-9a1e-fee4967a2bdc",
   "metadata": {},
   "source": [
    "# Perform the training"
   ]
  },
  {
   "cell_type": "code",
   "execution_count": null,
   "id": "de7b2aac-15ca-46b8-b82c-f99523c14456",
   "metadata": {},
   "outputs": [
    {
     "name": "stdout",
     "output_type": "stream",
     "text": [
      "Constructing the model\n",
      "Loading the input data scaling\n"
     ]
    },
    {
     "name": "stderr",
     "output_type": "stream",
     "text": [
      "100%|██████████| 977/977 [00:10<00:00, 92.19it/s] \n"
     ]
    },
    {
     "name": "stdout",
     "output_type": "stream",
     "text": [
      "Training the model\n"
     ]
    },
    {
     "name": "stderr",
     "output_type": "stream",
     "text": [
      "/home/mdrnevich/miniconda3/envs/carl-for-agc/lib/python3.11/site-packages/torch/onnx/utils.py:825: UserWarning: no signature found for <torch.ScriptMethod object at 0x7f55844b63f0>, skipping _decide_input_format\n",
      "  warnings.warn(f\"{e}, skipping _decide_input_format\")\n"
     ]
    },
    {
     "name": "stdout",
     "output_type": "stream",
     "text": [
      "Epoch: 01, Training Loss:   0.6862\n",
      "           Validation Loss: 0.6828\n"
     ]
    },
    {
     "name": "stderr",
     "output_type": "stream",
     "text": [
      "  3%|▎         | 1/30 [04:22<2:06:54, 262.58s/it]"
     ]
    },
    {
     "name": "stdout",
     "output_type": "stream",
     "text": [
      "================ Diagnostic Run torch.onnx.export version 2.0.1 ================\n",
      "verbose: False, log level: Level.ERROR\n",
      "======================= 0 NONE 0 NOTE 0 WARNING 0 ERROR ========================\n",
      "\n",
      "New best model saved to: models/deepsets_agc_model_new7.zip\n"
     ]
    },
    {
     "name": "stderr",
     "output_type": "stream",
     "text": [
      "/home/mdrnevich/miniconda3/envs/carl-for-agc/lib/python3.11/site-packages/torch/onnx/utils.py:825: UserWarning: no signature found for <torch.ScriptMethod object at 0x7f55844b7ad0>, skipping _decide_input_format\n",
      "  warnings.warn(f\"{e}, skipping _decide_input_format\")\n"
     ]
    },
    {
     "name": "stdout",
     "output_type": "stream",
     "text": [
      "Epoch: 02, Training Loss:   0.6819\n",
      "           Validation Loss: 0.6816\n"
     ]
    },
    {
     "name": "stderr",
     "output_type": "stream",
     "text": [
      "  7%|▋         | 2/30 [08:39<2:00:55, 259.12s/it]"
     ]
    },
    {
     "name": "stdout",
     "output_type": "stream",
     "text": [
      "================ Diagnostic Run torch.onnx.export version 2.0.1 ================\n",
      "verbose: False, log level: Level.ERROR\n",
      "======================= 0 NONE 0 NOTE 0 WARNING 0 ERROR ========================\n",
      "\n",
      "New best model saved to: models/deepsets_agc_model_new7.zip\n"
     ]
    },
    {
     "name": "stderr",
     "output_type": "stream",
     "text": [
      " 10%|█         | 3/30 [12:53<1:55:36, 256.92s/it]                  "
     ]
    },
    {
     "name": "stdout",
     "output_type": "stream",
     "text": [
      "Epoch: 03, Training Loss:   0.6816\n",
      "           Validation Loss: 0.6823\n",
      "Stale epoch\n"
     ]
    },
    {
     "name": "stderr",
     "output_type": "stream",
     "text": [
      "/home/mdrnevich/miniconda3/envs/carl-for-agc/lib/python3.11/site-packages/torch/onnx/utils.py:825: UserWarning: no signature found for <torch.ScriptMethod object at 0x7f55844b7950>, skipping _decide_input_format\n",
      "  warnings.warn(f\"{e}, skipping _decide_input_format\")\n"
     ]
    },
    {
     "name": "stdout",
     "output_type": "stream",
     "text": [
      "Epoch: 04, Training Loss:   0.6814\n",
      "           Validation Loss: 0.6813\n"
     ]
    },
    {
     "name": "stderr",
     "output_type": "stream",
     "text": [
      " 13%|█▎        | 4/30 [17:16<1:52:23, 259.37s/it]"
     ]
    },
    {
     "name": "stdout",
     "output_type": "stream",
     "text": [
      "================ Diagnostic Run torch.onnx.export version 2.0.1 ================\n",
      "verbose: False, log level: Level.ERROR\n",
      "======================= 0 NONE 0 NOTE 0 WARNING 0 ERROR ========================\n",
      "\n",
      "New best model saved to: models/deepsets_agc_model_new7.zip\n"
     ]
    },
    {
     "name": "stderr",
     "output_type": "stream",
     "text": [
      " 17%|█▋        | 5/30 [21:22<1:45:58, 254.32s/it]                  "
     ]
    },
    {
     "name": "stdout",
     "output_type": "stream",
     "text": [
      "Epoch: 05, Training Loss:   0.6812\n",
      "           Validation Loss: 0.6814\n",
      "Stale epoch\n"
     ]
    },
    {
     "name": "stderr",
     "output_type": "stream",
     "text": [
      " 20%|██        | 6/30 [25:43<1:42:37, 256.57s/it]                  "
     ]
    },
    {
     "name": "stdout",
     "output_type": "stream",
     "text": [
      "Epoch: 06, Training Loss:   0.6810\n",
      "           Validation Loss: 0.6840\n",
      "Stale epoch\n"
     ]
    },
    {
     "name": "stderr",
     "output_type": "stream",
     "text": [
      "/home/mdrnevich/miniconda3/envs/carl-for-agc/lib/python3.11/site-packages/torch/onnx/utils.py:825: UserWarning: no signature found for <torch.ScriptMethod object at 0x7f55844b6c90>, skipping _decide_input_format\n",
      "  warnings.warn(f\"{e}, skipping _decide_input_format\")\n"
     ]
    },
    {
     "name": "stdout",
     "output_type": "stream",
     "text": [
      "Epoch: 07, Training Loss:   0.6809\n",
      "           Validation Loss: 0.6808\n"
     ]
    },
    {
     "name": "stderr",
     "output_type": "stream",
     "text": [
      " 23%|██▎       | 7/30 [29:54<1:37:40, 254.80s/it]"
     ]
    },
    {
     "name": "stdout",
     "output_type": "stream",
     "text": [
      "================ Diagnostic Run torch.onnx.export version 2.0.1 ================\n",
      "verbose: False, log level: Level.ERROR\n",
      "======================= 0 NONE 0 NOTE 0 WARNING 0 ERROR ========================\n",
      "\n",
      "New best model saved to: models/deepsets_agc_model_new7.zip\n"
     ]
    },
    {
     "name": "stderr",
     "output_type": "stream",
     "text": [
      "/home/mdrnevich/miniconda3/envs/carl-for-agc/lib/python3.11/site-packages/torch/onnx/utils.py:825: UserWarning: no signature found for <torch.ScriptMethod object at 0x7f55844b6b10>, skipping _decide_input_format\n",
      "  warnings.warn(f\"{e}, skipping _decide_input_format\")\n"
     ]
    },
    {
     "name": "stdout",
     "output_type": "stream",
     "text": [
      "Epoch: 08, Training Loss:   0.6807\n",
      "           Validation Loss: 0.6807\n"
     ]
    },
    {
     "name": "stderr",
     "output_type": "stream",
     "text": [
      " 27%|██▋       | 8/30 [34:15<1:34:08, 256.73s/it]"
     ]
    },
    {
     "name": "stdout",
     "output_type": "stream",
     "text": [
      "================ Diagnostic Run torch.onnx.export version 2.0.1 ================\n",
      "verbose: False, log level: Level.ERROR\n",
      "======================= 0 NONE 0 NOTE 0 WARNING 0 ERROR ========================\n",
      "\n",
      "New best model saved to: models/deepsets_agc_model_new7.zip\n"
     ]
    },
    {
     "name": "stderr",
     "output_type": "stream",
     "text": [
      "/home/mdrnevich/miniconda3/envs/carl-for-agc/lib/python3.11/site-packages/torch/onnx/utils.py:825: UserWarning: no signature found for <torch.ScriptMethod object at 0x7f55844b5df0>, skipping _decide_input_format\n",
      "  warnings.warn(f\"{e}, skipping _decide_input_format\")\n"
     ]
    },
    {
     "name": "stdout",
     "output_type": "stream",
     "text": [
      "Epoch: 09, Training Loss:   0.6806\n",
      "           Validation Loss: 0.6807\n"
     ]
    },
    {
     "name": "stderr",
     "output_type": "stream",
     "text": [
      " 30%|███       | 9/30 [38:32<1:29:57, 257.03s/it]"
     ]
    },
    {
     "name": "stdout",
     "output_type": "stream",
     "text": [
      "================ Diagnostic Run torch.onnx.export version 2.0.1 ================\n",
      "verbose: False, log level: Level.ERROR\n",
      "======================= 0 NONE 0 NOTE 0 WARNING 0 ERROR ========================\n",
      "\n",
      "New best model saved to: models/deepsets_agc_model_new7.zip\n"
     ]
    },
    {
     "name": "stderr",
     "output_type": "stream",
     "text": [
      " 33%|███▎      | 10/30 [42:45<1:25:13, 255.69s/it]                 "
     ]
    },
    {
     "name": "stdout",
     "output_type": "stream",
     "text": [
      "Epoch: 10, Training Loss:   0.6805\n",
      "           Validation Loss: 0.6812\n",
      "Stale epoch\n"
     ]
    },
    {
     "name": "stderr",
     "output_type": "stream",
     "text": [
      " 40%|████      | 12/30 [51:29<1:17:39, 258.84s/it]                 "
     ]
    },
    {
     "name": "stdout",
     "output_type": "stream",
     "text": [
      "Epoch: 12, Training Loss:   0.6802\n",
      "           Validation Loss: 0.6809\n",
      "Stale epoch\n"
     ]
    },
    {
     "name": "stderr",
     "output_type": "stream",
     "text": [
      "/home/mdrnevich/miniconda3/envs/carl-for-agc/lib/python3.11/site-packages/torch/onnx/utils.py:825: UserWarning: no signature found for <torch.ScriptMethod object at 0x7f57b4145070>, skipping _decide_input_format\n",
      "  warnings.warn(f\"{e}, skipping _decide_input_format\")\n"
     ]
    },
    {
     "name": "stdout",
     "output_type": "stream",
     "text": [
      "Epoch: 13, Training Loss:   0.6801\n",
      "           Validation Loss: 0.6804\n"
     ]
    },
    {
     "name": "stderr",
     "output_type": "stream",
     "text": [
      " 43%|████▎     | 13/30 [55:50<1:13:35, 259.73s/it]"
     ]
    },
    {
     "name": "stdout",
     "output_type": "stream",
     "text": [
      "================ Diagnostic Run torch.onnx.export version 2.0.1 ================\n",
      "verbose: False, log level: Level.ERROR\n",
      "======================= 0 NONE 0 NOTE 0 WARNING 0 ERROR ========================\n",
      "\n",
      "New best model saved to: models/deepsets_agc_model_new7.zip\n"
     ]
    },
    {
     "name": "stderr",
     "output_type": "stream",
     "text": [
      " 50%|█████     | 15/30 [1:04:38<1:05:30, 262.00s/it]               "
     ]
    },
    {
     "name": "stdout",
     "output_type": "stream",
     "text": [
      "Epoch: 15, Training Loss:   0.6800\n",
      "           Validation Loss: 0.6804\n",
      "Stale epoch\n"
     ]
    },
    {
     "name": "stderr",
     "output_type": "stream",
     "text": [
      "/home/mdrnevich/miniconda3/envs/carl-for-agc/lib/python3.11/site-packages/torch/onnx/utils.py:825: UserWarning: no signature found for <torch.ScriptMethod object at 0x7f57b4145970>, skipping _decide_input_format\n",
      "  warnings.warn(f\"{e}, skipping _decide_input_format\")\n"
     ]
    },
    {
     "name": "stdout",
     "output_type": "stream",
     "text": [
      "Epoch: 16, Training Loss:   0.6798\n",
      "           Validation Loss: 0.6802\n"
     ]
    },
    {
     "name": "stderr",
     "output_type": "stream",
     "text": [
      " 53%|█████▎    | 16/30 [1:09:00<1:01:06, 261.89s/it]"
     ]
    },
    {
     "name": "stdout",
     "output_type": "stream",
     "text": [
      "================ Diagnostic Run torch.onnx.export version 2.0.1 ================\n",
      "verbose: False, log level: Level.ERROR\n",
      "======================= 0 NONE 0 NOTE 0 WARNING 0 ERROR ========================\n",
      "\n",
      "New best model saved to: models/deepsets_agc_model_new7.zip\n"
     ]
    },
    {
     "name": "stderr",
     "output_type": "stream",
     "text": [
      " 57%|█████▋    | 17/30 [1:13:21<56:41, 261.63s/it]                 "
     ]
    },
    {
     "name": "stdout",
     "output_type": "stream",
     "text": [
      "Epoch: 17, Training Loss:   0.6797\n",
      "           Validation Loss: 0.6804\n",
      "Stale epoch\n"
     ]
    },
    {
     "name": "stderr",
     "output_type": "stream",
     "text": [
      " 60%|██████    | 18/30 [1:17:45<52:28, 262.37s/it]                 "
     ]
    },
    {
     "name": "stdout",
     "output_type": "stream",
     "text": [
      "Epoch: 18, Training Loss:   0.6796\n",
      "           Validation Loss: 0.6803\n",
      "Stale epoch\n"
     ]
    },
    {
     "name": "stderr",
     "output_type": "stream",
     "text": [
      "loss = 0.65158:  60%|█████▉    | 2343/3907 [02:30<01:38, 15.80it/s]IOPub message rate exceeded.\n",
      "The Jupyter server will temporarily stop sending output\n",
      "to the client in order to avoid crashing it.\n",
      "To change this limit, set the config variable\n",
      "`--ServerApp.iopub_msg_rate_limit`.\n",
      "\n",
      "Current values:\n",
      "ServerApp.iopub_msg_rate_limit=1000.0 (msgs/sec)\n",
      "ServerApp.rate_limit_window=3.0 (secs)\n",
      "\n",
      "loss = 0.66589:  24%|██▎       | 927/3907 [00:58<03:09, 15.72it/s] "
     ]
    }
   ],
   "source": [
    "model, losses = carl_train.train(model_settings, train_generator_data, valid_generator_data, **training_settings)"
   ]
  },
  {
   "cell_type": "code",
   "execution_count": null,
   "id": "3b76ddf3-d91a-417e-bcce-9d712f8ce32f",
   "metadata": {
    "scrolled": true
   },
   "outputs": [],
   "source": [
    "model"
   ]
  },
  {
   "cell_type": "code",
   "execution_count": null,
   "id": "433ff9c7-91eb-4a1d-8897-4f589330c8e1",
   "metadata": {},
   "outputs": [],
   "source": [
    "losses"
   ]
  },
  {
   "cell_type": "code",
   "execution_count": null,
   "id": "49f96978-8b81-4ac9-8849-1a4adc160422",
   "metadata": {},
   "outputs": [],
   "source": []
  }
 ],
 "metadata": {
  "kernelspec": {
   "display_name": "carl-for-agc",
   "language": "python",
   "name": "carl-for-agc"
  },
  "language_info": {
   "codemirror_mode": {
    "name": "ipython",
    "version": 3
   },
   "file_extension": ".py",
   "mimetype": "text/x-python",
   "name": "python",
   "nbconvert_exporter": "python",
   "pygments_lexer": "ipython3",
   "version": "3.11.4"
  }
 },
 "nbformat": 4,
 "nbformat_minor": 5
}
