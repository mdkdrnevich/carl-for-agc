{
 "cells": [
  {
   "cell_type": "code",
   "execution_count": 1,
   "metadata": {
    "tags": []
   },
   "outputs": [
    {
     "name": "stdout",
     "output_type": "stream",
     "text": [
      "module://matplotlib_inline.backend_inline\n"
     ]
    }
   ],
   "source": [
    "import sys\n",
    "#sys.path.append('/home/mdd424/CARL_tthbb/')\n",
    "#sys.path.append('/home/mdd424/downloads/carl-torch')\n",
    "\n",
    "import uproot\n",
    "import numpy as np\n",
    "import math\n",
    "import json\n",
    "import bisect\n",
    "import os\n",
    "import pickle\n",
    "import logging\n",
    "\n",
    "import torch\n",
    "from torch import nn\n",
    "from torch import sigmoid\n",
    "from torch.utils.data import DataLoader\n",
    "#from torchsummary import summary\n",
    "\n",
    "from sklearn import preprocessing\n",
    "from sklearn.isotonic import IsotonicRegression\n",
    "from sklearn.calibration import calibration_curve\n",
    "from sklearn.linear_model import LogisticRegression\n",
    "from sklearn.neighbors import KernelDensity\n",
    "\n",
    "from scipy.spatial import distance\n",
    "import awkward as ak\n",
    "\n",
    "import matplotlib as mpl\n",
    "default_backend = mpl.get_backend()\n",
    "print(default_backend)\n",
    "import matplotlib.pyplot as plt\n",
    "#import imageio"
   ]
  },
  {
   "cell_type": "code",
   "execution_count": 2,
   "metadata": {
    "tags": []
   },
   "outputs": [],
   "source": [
    "mpl.use(default_backend)"
   ]
  },
  {
   "cell_type": "code",
   "execution_count": 3,
   "metadata": {
    "tags": []
   },
   "outputs": [
    {
     "data": {
      "text/plain": [
       "device(type='cpu')"
      ]
     },
     "execution_count": 3,
     "metadata": {},
     "output_type": "execute_result"
    }
   ],
   "source": [
    "DEVICE = torch.device(\"cuda:0\" if torch.cuda.is_available() else \"cpu\")\n",
    "DEVICE"
   ]
  },
  {
   "cell_type": "code",
   "execution_count": 4,
   "metadata": {
    "tags": []
   },
   "outputs": [],
   "source": [
    "jet_features = [\"Jet_pt\", \"Jet_eta\", \"Jet_phi\", \"Jet_mass\"]\n",
    "electron_features = [\"Electron_pt\", \"Electron_eta\", \"Electron_phi\", \"Electron_mass\"]\n",
    "muon_features = [\"Muon_pt\", \"Muon_eta\", \"Muon_phi\", \"Muon_mass\"]"
   ]
  },
  {
   "cell_type": "code",
   "execution_count": 5,
   "metadata": {
    "tags": []
   },
   "outputs": [],
   "source": [
    "#weight_features = [\"weight_mc\", \"weight_pileup\", \"weight_leptonSF\", \"weight_jvt\", \"weight_bTagSF_DL1r_Continuous\"]\n",
    "weight_features = [\"genWeight\", \"btagWeight_CSVV2\"]"
   ]
  },
  {
   "cell_type": "code",
   "execution_count": 6,
   "metadata": {
    "tags": []
   },
   "outputs": [],
   "source": [
    "# Luminosities in pb^-1\n",
    "luminosities = {'2015': 36207.66, '2017': 44307.4, '2018': 58450.1}\n",
    "luminosities_by_run = {'9364': 36207.66, '10201': 44307.4, '10724': 58450.1}"
   ]
  },
  {
   "cell_type": "code",
   "execution_count": 7,
   "metadata": {
    "tags": []
   },
   "outputs": [],
   "source": [
    "with open(\"nanoaod_inputs.json\", 'r') as f:\n",
    "    file_dict = json.load(f)"
   ]
  },
  {
   "cell_type": "code",
   "execution_count": 8,
   "metadata": {
    "tags": []
   },
   "outputs": [],
   "source": [
    "data_metadata_dict = {}"
   ]
  },
  {
   "cell_type": "code",
   "execution_count": 9,
   "metadata": {
    "tags": []
   },
   "outputs": [
    {
     "name": "stdout",
     "output_type": "stream",
     "text": [
      "243 https://xrootd-local.unl.edu:1094//store/user/AGC/nanoAOD/TT_TuneCUETP8M1_13TeV-powheg-pythia8/cmsopendata2015_ttbar_19980_PU25nsData2015v1_76X_mcRun2_asymptotic_v12_ext3-v1_00000_0000.root\n"
     ]
    },
    {
     "data": {
      "text/plain": [
       "'https://xrootd-local.unl.edu:1094//store/user/AGC/nanoAOD/TT_TuneCUETP8M1_13TeV-powheg-pythia8/cmsopendata2015_ttbar_19981_PU25nsData2015v1_76X_mcRun2_asymptotic_v12_ext4-v1_60001_0009.root'"
      ]
     },
     "execution_count": 9,
     "metadata": {},
     "output_type": "execute_result"
    }
   ],
   "source": [
    "all_nominal_files = [x[\"path\"] for x in file_dict[\"ttbar\"][\"nominal\"][\"files\"]]\n",
    "print(len(all_nominal_files), all_nominal_files[0])\n",
    "np.random.shuffle(all_nominal_files)\n",
    "all_nominal_files[0]"
   ]
  },
  {
   "cell_type": "code",
   "execution_count": 10,
   "metadata": {
    "tags": []
   },
   "outputs": [
    {
     "name": "stdout",
     "output_type": "stream",
     "text": [
      "15 https://xrootd-local.unl.edu:1094//store/user/AGC/nanoAOD/TT_TuneEE5C_13TeV-powheg-herwigpp/cmsopendata2015_ttbar_19999_PU25nsData2015v1_76X_mcRun2_asymptotic_v12-v1_10000_0000.root\n"
     ]
    },
    {
     "data": {
      "text/plain": [
       "'https://xrootd-local.unl.edu:1094//store/user/AGC/nanoAOD/TT_TuneEE5C_13TeV-powheg-herwigpp/cmsopendata2015_ttbar_19999_PU25nsData2015v1_76X_mcRun2_asymptotic_v12-v1_10000_0011.root'"
      ]
     },
     "execution_count": 10,
     "metadata": {},
     "output_type": "execute_result"
    }
   ],
   "source": [
    "all_variation_files = [x[\"path\"] for x in file_dict[\"ttbar\"][\"PS_var\"][\"files\"]]\n",
    "print(len(all_variation_files), all_variation_files[0])\n",
    "np.random.shuffle(all_variation_files)\n",
    "all_variation_files[0]"
   ]
  },
  {
   "cell_type": "code",
   "execution_count": 11,
   "metadata": {
    "tags": []
   },
   "outputs": [
    {
     "data": {
      "text/plain": [
       "'nominal_Nevents = 0\\nvariation_Nevents = 0\\nfor filename in all_nominal_files:\\n    dataset = uproot.open(filename)[\"Events\"].arrays(jet_features[0])\\n    nominal_Nevents += len(dataset)\\nfor filename in all_variation_files:\\n    dataset = uproot.open(filename)[\"Events\"].arrays(jet_features[0])\\n    variation_Nevents += len(dataset)\\nmax_data_index = min([nominal_Nevents, variation_Nevents])\\nmax_data_index'"
      ]
     },
     "execution_count": 11,
     "metadata": {},
     "output_type": "execute_result"
    }
   ],
   "source": [
    "\"\"\"nominal_Nevents = 0\n",
    "variation_Nevents = 0\n",
    "for filename in all_nominal_files:\n",
    "    dataset = uproot.open(filename)[\"Events\"].arrays(jet_features[0])\n",
    "    nominal_Nevents += len(dataset)\n",
    "for filename in all_variation_files:\n",
    "    dataset = uproot.open(filename)[\"Events\"].arrays(jet_features[0])\n",
    "    variation_Nevents += len(dataset)\n",
    "max_data_index = min([nominal_Nevents, variation_Nevents])\n",
    "max_data_index\"\"\""
   ]
  },
  {
   "cell_type": "code",
   "execution_count": 12,
   "metadata": {
    "tags": []
   },
   "outputs": [],
   "source": [
    "with open(\"carl_data_metadata.json\", 'r') as f:\n",
    "    data_metadata_dict = json.load(f)\n",
    "    max_data_index = data_metadata_dict[\"max_data_index\"]\n",
    "    max_jet_size = data_metadata_dict[\"max_data_index\"]\n",
    "    max_electron_size = data_metadata_dict[\"max_electron_size\"]\n",
    "    max_muon_size = data_metadata_dict[\"max_muon_size\"]"
   ]
  },
  {
   "cell_type": "code",
   "execution_count": 13,
   "metadata": {
    "tags": []
   },
   "outputs": [
    {
     "name": "stdout",
     "output_type": "stream",
     "text": [
      "11602238 15469650 19337062\n"
     ]
    }
   ],
   "source": [
    "train_frac = 0.6\n",
    "val_frac = 0.2\n",
    "test_frac = 0.2\n",
    "\n",
    "max_train_index = int(train_frac * max_data_index)\n",
    "max_val_index = max_train_index + int(val_frac * max_data_index)\n",
    "max_test_index = max_val_index + int(test_frac * max_data_index)\n",
    "\n",
    "np.random.shuffle(all_nominal_files)\n",
    "np.random.shuffle(all_variation_files)\n",
    "print(max_train_index, max_val_index, max_test_index)"
   ]
  },
  {
   "cell_type": "code",
   "execution_count": 14,
   "metadata": {
    "tags": []
   },
   "outputs": [],
   "source": [
    "def get_max_sizes(filename):\n",
    "    dataset = uproot.open(filename)[\"Events\"].arrays([jet_features[0], electron_features[0], muon_features[0]])\n",
    "    max_jet_size = max(map(len, dataset[jet_features[0]]))\n",
    "    max_electron_size = max(map(len, dataset[electron_features[0]]))\n",
    "    max_muon_size = max(map(len, dataset[muon_features[0]]))\n",
    "    return [max_jet_size, max_electron_size, max_muon_size]"
   ]
  },
  {
   "cell_type": "code",
   "execution_count": 15,
   "metadata": {
    "tags": []
   },
   "outputs": [],
   "source": [
    "#max_jet_size = 0\n",
    "#for filename in all_nominal_files + all_variation_files:\n",
    "#    dataset = uproot.open(filename)[\"Events\"].arrays(jet_features)\n",
    "#    max_jet_size = max([max(map(len, dataset[jet_features[0]])), max_jet_size]) "
   ]
  },
  {
   "cell_type": "code",
   "execution_count": 16,
   "metadata": {
    "tags": []
   },
   "outputs": [],
   "source": [
    "#max_jet_size = 20\n",
    "#max_jet_size"
   ]
  },
  {
   "cell_type": "markdown",
   "metadata": {},
   "source": [
    "## Generate the nominal datasets"
   ]
  },
  {
   "cell_type": "code",
   "execution_count": 17,
   "metadata": {
    "tags": []
   },
   "outputs": [],
   "source": [
    "def fill_or_extend_tree(datafile, tree_dict, treename=\"Events\"):\n",
    "    if datafile.get(treename) is None:\n",
    "        datafile[treename] = tree_dict\n",
    "    else:\n",
    "        datafile[treename].extend(tree_dict)\n",
    "    return None"
   ]
  },
  {
   "cell_type": "code",
   "execution_count": 18,
   "metadata": {
    "tags": []
   },
   "outputs": [],
   "source": [
    "def build_data_dict(features, arrays, split_index=None, split_low=False, split_high=False):\n",
    "    if split_low is False and split_high is False:\n",
    "        data_dict = dict(zip(features, ak.unzip(arrays)))\n",
    "    elif split_high is True:\n",
    "        data_dict = dict(zip(features, ak.unzip(arrays[:split_index])))\n",
    "    elif split_low is True:\n",
    "        data_dict = dict(zip(features, ak.unzip(arrays[split_index:])))\n",
    "    return data_dict"
   ]
  },
  {
   "cell_type": "code",
   "execution_count": null,
   "metadata": {
    "tags": []
   },
   "outputs": [
    {
     "name": "stdout",
     "output_type": "stream",
     "text": [
      "Loading file: https://xrootd-local.unl.edu:1094//store/user/AGC/nanoAOD/TT_TuneCUETP8M1_13TeV-powheg-pythia8/cmsopendata2015_ttbar_19981_PU25nsData2015v1_76X_mcRun2_asymptotic_v12_ext4-v1_40001_0001.root\n",
      "1225600\n"
     ]
    }
   ],
   "source": [
    "df_train = uproot.recreate(\"data/CMS_ttbar_nominal_training_data.root\")\n",
    "df_val = uproot.recreate(\"data/CMS_ttbar_nominal_validation_data.root\")\n",
    "df_test = uproot.recreate(\"data/CMS_ttbar_nominal_testing_data.root\")\n",
    "\n",
    "chunk_size = 500\n",
    "\n",
    "current_index = 0\n",
    "for filename in all_nominal_files:\n",
    "    print(\"Loading file: {}\".format(filename))\n",
    "    # Load the data\n",
    "    nominal_dataset = uproot.open(filename)[\"Events\"]#.arrays(jet_features + electron_features + muon_features + weight_features)\n",
    "    filesize = int(nominal_dataset.arrays(jet_features[0]).type.length)\n",
    "    print(filesize)\n",
    "    for i in range(int(np.ceil(filesize / chunk_size))):\n",
    "        #data_arrays = nominal_dataset.arrays(jet_features + electron_features + muon_features + weight_features,\n",
    "        #                                     entry_start=int(i * chunk_size),\n",
    "        #                                     entry_stop=int((i+1) * chunk_size))\n",
    "\n",
    "        jet_arr = nominal_dataset.arrays(jet_features, entry_start=int(i * chunk_size), entry_stop=int((i+1) * chunk_size))\n",
    "        electron_arr = nominal_dataset.arrays(electron_features, entry_start=int(i * chunk_size), entry_stop=int((i+1) * chunk_size))\n",
    "        muon_arr = nominal_dataset.arrays(muon_features, entry_start=int(i * chunk_size), entry_stop=int((i+1) * chunk_size))\n",
    "        weight_arr = nominal_dataset.arrays(weight_features, entry_start=int(i * chunk_size), entry_stop=int((i+1) * chunk_size))\n",
    "        # Get the run number\n",
    "        #nominal_file_run_number = str(NOMINAL_FILE_TO_RUN_NUMBER[filename])\n",
    "        # Get the DSID number\n",
    "        #nominal_file_dsid = str(NOMINAL_FILE_TO_DSID[filename])\n",
    "        # Get the luminsotiy, DSID cross section, and per DSID total weighted events\n",
    "        #_scale_factor = luminosities_by_run[nominal_file_run_number] * NOMINAL_XSECTIONS[nominal_file_dsid] / NOMINAL_NORMALIZATIONS[nominal_file_dsid]\n",
    "        _scale_factor = 3378 * 1 / 1\n",
    "        # Extract the combined weight array\n",
    "        _weights = ak.concatenate(ak.unzip(weight_arr[weight_features][:, np.newaxis]), axis=1).to_numpy().prod(axis=1)\n",
    "\n",
    "        nominal_padded_jets = ak.fill_none(ak.pad_none(jet_arr[jet_features], max_jet_size, clip=True), 0, axis=1)\n",
    "        nominal_padded_electrons = ak.fill_none(ak.pad_none(electron_arr[electron_features], max_electron_size, clip=True), 0, axis=1)\n",
    "        nominal_padded_muons = ak.fill_none(ak.pad_none(muon_arr[muon_features], max_muon_size, clip=True), 0, axis=1)\n",
    "\n",
    "        current_data_size = len(_weights)\n",
    "\n",
    "        print(\"Here\")\n",
    "        # put everything in train\n",
    "        if current_index + current_data_size < max_train_index:\n",
    "            #data_dict = dict(zip(jet_features, ak.unzip(nominal_padded_jets)))\n",
    "            data_dict = build_data_dict(jet_features, nominal_padded_jets)\n",
    "            data_dict.update(build_data_dict(electron_features, nominal_padded_electrons))\n",
    "            data_dict.update(build_data_dict(muon_features, nominal_padded_muons))\n",
    "            data_dict[\"weight_mc_combined\"] = _weights * _scale_factor\n",
    "            fill_or_extend_tree(df_train, data_dict)\n",
    "        # put part in train and the rest in val\n",
    "        elif current_index < max_train_index and current_index + current_data_size < max_val_index:\n",
    "            split_index = max_train_index - current_index\n",
    "            data_dict = build_data_dict(jet_features, nominal_padded_jets, split_index=split_index, split_high=True)\n",
    "            data_dict.update(build_data_dict(electron_features, nominal_padded_electrons, split_index=split_index, split_high=True))\n",
    "            data_dict.update(build_data_dict(muon_features, nominal_padded_muons, split_index=split_index, split_high=True))\n",
    "            data_dict[\"weight_mc_combined\"] = _weights[:split_index] * _scale_factor\n",
    "            fill_or_extend_tree(df_train, data_dict)\n",
    "\n",
    "            data_dict = build_data_dict(jet_features, nominal_padded_jets, split_index=split_index, split_low=True)\n",
    "            data_dict.update(build_data_dict(electron_features, nominal_padded_electrons, split_index=split_index, split_low=True))\n",
    "            data_dict.update(build_data_dict(muon_features, nominal_padded_muons, split_index=split_index, split_low=True))\n",
    "            data_dict[\"weight_mc_combined\"] = _weights[split_index:] * _scale_factor\n",
    "            fill_or_extend_tree(df_val, data_dict)\n",
    "        # put everything into val\n",
    "        elif current_index >= max_train_index and current_index + current_data_size < max_val_index:\n",
    "            data_dict = build_data_dict(jet_features, nominal_padded_jets)\n",
    "            data_dict.update(build_data_dict(electron_features, nominal_padded_electrons))\n",
    "            data_dict.update(build_data_dict(muon_features, nominal_padded_muons))\n",
    "            data_dict[\"weight_mc_combined\"] = _weights * _scale_factor\n",
    "            fill_or_extend_tree(df_val, data_dict)\n",
    "        # put part in val and the rest in test\n",
    "        elif current_index < max_val_index and current_index + current_data_size < max_test_index:\n",
    "            split_index = max_val_index - current_index\n",
    "            data_dict = build_data_dict(jet_features, nominal_padded_jets, split_index=split_index, split_high=True)\n",
    "            data_dict.update(build_data_dict(electron_features, nominal_padded_electrons, split_index=split_index, split_high=True))\n",
    "            data_dict.update(build_data_dict(muon_features, nominal_padded_muons, split_index=split_index, split_high=True))\n",
    "            data_dict[\"weight_mc_combined\"] = _weights[:split_index] * _scale_factor\n",
    "            fill_or_extend_tree(df_val, data_dict)\n",
    "\n",
    "            data_dict = build_data_dict(jet_features, nominal_padded_jets, split_index=split_index, split_low=True)\n",
    "            data_dict.update(build_data_dict(electron_features, nominal_padded_electrons, split_index=split_index, split_low=True))\n",
    "            data_dict.update(build_data_dict(muon_features, nominal_padded_muons, split_index=split_index, split_low=True))\n",
    "            data_dict[\"weight_mc_combined\"] = _weights[split_index:] * _scale_factor\n",
    "            fill_or_extend_tree(df_test, data_dict)\n",
    "        # put everything into test\n",
    "        elif current_index >= max_val_index and current_index + current_data_size < max_test_index:\n",
    "            data_dict = build_data_dict(jet_features, nominal_padded_jets)\n",
    "            data_dict.update(build_data_dict(electron_features, nominal_padded_electrons))\n",
    "            data_dict.update(build_data_dict(muon_features, nominal_padded_muons))\n",
    "            data_dict[\"weight_mc_combined\"] = _weights * _scale_factor\n",
    "            fill_or_extend_tree(df_test, data_dict)\n",
    "        # put what's needed into test and ignore the rest\n",
    "        elif current_index < max_test_index and current_index + current_data_size >= max_test_index:\n",
    "            split_index = max_test_index - current_index\n",
    "            data_dict = build_data_dict(jet_features, nominal_padded_jets, split_index=split_index, split_high=True)\n",
    "            data_dict.update(build_data_dict(electron_features, nominal_padded_electrons, split_index=split_index, split_high=True))\n",
    "            data_dict.update(build_data_dict(muon_features, nominal_padded_muons, split_index=split_index, split_high=True))\n",
    "            data_dict[\"weight_mc_combined\"] = _weights[:split_index] * _scale_factor\n",
    "            fill_or_extend_tree(df_test, data_dict)\n",
    "        else:\n",
    "            print(\"Uncaught case:\",\n",
    "                  \"current_index: {}\".format(current_index),\n",
    "                  \"current_data_size: {}\".format(current_data_size),\n",
    "                  \"max_train_index: {}\".format(max_train_index),\n",
    "                  \"max_val_index: {}\".format(max_val_index),\n",
    "                  \"max_test_index: {}\".format(max_test_index), sep='\\n')\n",
    "\n",
    "        current_index += current_data_size\n",
    "        if current_index >= max_test_index:\n",
    "            break\n",
    "print(\"Finished!\")"
   ]
  },
  {
   "cell_type": "code",
   "execution_count": 18,
   "metadata": {},
   "outputs": [
    {
     "name": "stdout",
     "output_type": "stream",
     "text": [
      "Loading file: /scratch/mdd424/CARL_tthbb/data/Sherpa/semilep/user.alheld.mc16_13TeV.700165.Sh_2210_ttbb_ljetsP.TOPQ1.e8263a875r10724p4434.TTHbb212206-v1n_1l_out_root/user.alheld.28403455._000023.1l_out.root\n",
      "Loading file: /scratch/mdd424/CARL_tthbb/data/Sherpa/semilep/user.alheld.mc16_13TeV.700166.Sh_2210_ttbbljetsM.TOPQ1.e8263a875r10201p4434.TTHbb212206-v1n_1l_out_root/user.alheld.28403761._000039.1l_out.root\n",
      "Loading file: /scratch/mdd424/CARL_tthbb/data/Sherpa/semilep/user.alheld.mc16_13TeV.700166.Sh_2210_ttbbljetsM.TOPQ1.e8263a875r10724p4434.TTHbb212206-v1n_1l_out_root/user.alheld.28403457._000023.1l_out.root\n",
      "Loading file: /scratch/mdd424/CARL_tthbb/data/Sherpa/semilep/user.alheld.mc16_13TeV.700166.Sh_2210_ttbbljetsM.TOPQ1.e8263a875r10201p4434.TTHbb212206-v1n_1l_out_root/user.alheld.28403761._000007.1l_out.root\n",
      "Loading file: /scratch/mdd424/CARL_tthbb/data/Sherpa/semilep/user.alheld.mc16_13TeV.700166.Sh_2210_ttbbljetsM.TOPQ1.e8263a875r10724p4434.TTHbb212206-v1n_1l_out_root/user.alheld.28403457._000025.1l_out.root\n",
      "Loading file: /scratch/mdd424/CARL_tthbb/data/Sherpa/semilep/user.alheld.mc16_13TeV.700165.Sh_2210_ttbb_ljetsP.TOPQ1.e8263a875r10724p4434.TTHbb212206-v1n_1l_out_root/user.alheld.28403455._000010.1l_out.root\n",
      "Loading file: /scratch/mdd424/CARL_tthbb/data/Sherpa/semilep/user.alheld.mc16_13TeV.700166.Sh_2210_ttbbljetsM.TOPQ1.e8263a875r10724p4434.TTHbb212206-v1n_1l_out_root/user.alheld.28403457._000002.1l_out.root\n",
      "Loading file: /scratch/mdd424/CARL_tthbb/data/Sherpa/semilep/user.alheld.mc16_13TeV.700165.Sh_2210_ttbb_ljetsP.TOPQ1.e8263a875r10201p4434.TTHbb212206-v1n_1l_out_root/user.alheld.28403759._000002.1l_out.root\n",
      "Loading file: /scratch/mdd424/CARL_tthbb/data/Sherpa/semilep/user.alheld.mc16_13TeV.700166.Sh_2210_ttbbljetsM.TOPQ1.e8263a875r9364p4434.TTHbb212206-v1n_1l_out_root/user.alheld.28403097._000014.1l_out.root\n",
      "Loading file: /scratch/mdd424/CARL_tthbb/data/Sherpa/semilep/user.alheld.mc16_13TeV.700167.Sh_2210_ttbb_dil.TOPQ1.e8263a875r10724p4434.TTHbb212206-v1n_1l_out_root/user.alheld.28403459._000005.1l_out.root\n",
      "Loading file: /scratch/mdd424/CARL_tthbb/data/Sherpa/semilep/user.alheld.mc16_13TeV.700165.Sh_2210_ttbb_ljetsP.TOPQ1.e8263a875r10724p4434.TTHbb212206-v1n_1l_out_root/user.alheld.28403455._000002.1l_out.root\n",
      "Loading file: /scratch/mdd424/CARL_tthbb/data/Sherpa/semilep/user.alheld.mc16_13TeV.700165.Sh_2210_ttbb_ljetsP.TOPQ1.e8263a875r10724p4434.TTHbb212206-v1n_1l_out_root/user.alheld.28403455._000019.1l_out.root\n",
      "Loading file: /scratch/mdd424/CARL_tthbb/data/Sherpa/semilep/user.alheld.mc16_13TeV.700167.Sh_2210_ttbb_dil.TOPQ1.e8263a875r10201p4434.TTHbb212206-v2n_1l_out_root/user.alheld.28488508._000004.1l_out.root\n",
      "Loading file: /scratch/mdd424/CARL_tthbb/data/Sherpa/semilep/user.alheld.mc16_13TeV.700165.Sh_2210_ttbb_ljetsP.TOPQ1.e8263a875r10201p4434.TTHbb212206-v1n_1l_out_root/user.alheld.28403759._000013.1l_out.root\n",
      "Loading file: /scratch/mdd424/CARL_tthbb/data/Sherpa/semilep/user.alheld.mc16_13TeV.700165.Sh_2210_ttbb_ljetsP.TOPQ1.e8263a875r9364p4434.TTHbb212206-v1n_1l_out_root/user.alheld.28403084._000002.1l_out.root\n",
      "Loading file: /scratch/mdd424/CARL_tthbb/data/Sherpa/semilep/user.alheld.mc16_13TeV.700165.Sh_2210_ttbb_ljetsP.TOPQ1.e8263a875r10201p4434.TTHbb212206-v1n_1l_out_root/user.alheld.28403759._000008.1l_out.root\n",
      "Loading file: /scratch/mdd424/CARL_tthbb/data/Sherpa/semilep/user.alheld.mc16_13TeV.700166.Sh_2210_ttbbljetsM.TOPQ1.e8263a875r9364p4434.TTHbb212206-v1n_1l_out_root/user.alheld.28403097._000002.1l_out.root\n",
      "Loading file: /scratch/mdd424/CARL_tthbb/data/Sherpa/semilep/user.alheld.mc16_13TeV.700166.Sh_2210_ttbbljetsM.TOPQ1.e8263a875r10724p4434.TTHbb212206-v1n_1l_out_root/user.alheld.28403457._000017.1l_out.root\n",
      "Loading file: /scratch/mdd424/CARL_tthbb/data/Sherpa/semilep/user.alheld.mc16_13TeV.700166.Sh_2210_ttbbljetsM.TOPQ1.e8263a875r10724p4434.TTHbb212206-v1n_1l_out_root/user.alheld.28403457._000008.1l_out.root\n",
      "Loading file: /scratch/mdd424/CARL_tthbb/data/Sherpa/semilep/user.alheld.mc16_13TeV.700166.Sh_2210_ttbbljetsM.TOPQ1.e8263a875r10724p4434.TTHbb212206-v1n_1l_out_root/user.alheld.28403457._000013.1l_out.root\n",
      "Loading file: /scratch/mdd424/CARL_tthbb/data/Sherpa/semilep/user.alheld.mc16_13TeV.700166.Sh_2210_ttbbljetsM.TOPQ1.e8263a875r9364p4434.TTHbb212206-v1n_1l_out_root/user.alheld.28403097._000006.1l_out.root\n",
      "Loading file: /scratch/mdd424/CARL_tthbb/data/Sherpa/semilep/user.alheld.mc16_13TeV.700166.Sh_2210_ttbbljetsM.TOPQ1.e8263a875r10201p4434.TTHbb212206-v1n_1l_out_root/user.alheld.28403761._000038.1l_out.root\n",
      "Loading file: /scratch/mdd424/CARL_tthbb/data/Sherpa/semilep/user.alheld.mc16_13TeV.700165.Sh_2210_ttbb_ljetsP.TOPQ1.e8263a875r10201p4434.TTHbb212206-v1n_1l_out_root/user.alheld.28403759._000017.1l_out.root\n",
      "Loading file: /scratch/mdd424/CARL_tthbb/data/Sherpa/semilep/user.alheld.mc16_13TeV.700165.Sh_2210_ttbb_ljetsP.TOPQ1.e8263a875r10724p4434.TTHbb212206-v1n_1l_out_root/user.alheld.28403455._000008.1l_out.root\n",
      "Loading file: /scratch/mdd424/CARL_tthbb/data/Sherpa/semilep/user.alheld.mc16_13TeV.700165.Sh_2210_ttbb_ljetsP.TOPQ1.e8263a875r9364p4434.TTHbb212206-v1n_1l_out_root/user.alheld.28403084._000009.1l_out.root\n",
      "Loading file: /scratch/mdd424/CARL_tthbb/data/Sherpa/semilep/user.alheld.mc16_13TeV.700166.Sh_2210_ttbbljetsM.TOPQ1.e8263a875r10201p4434.TTHbb212206-v1n_1l_out_root/user.alheld.28403761._000027.1l_out.root\n",
      "Loading file: /scratch/mdd424/CARL_tthbb/data/Sherpa/semilep/user.alheld.mc16_13TeV.700166.Sh_2210_ttbbljetsM.TOPQ1.e8263a875r9364p4434.TTHbb212206-v1n_1l_out_root/user.alheld.28403097._000001.1l_out.root\n",
      "Loading file: /scratch/mdd424/CARL_tthbb/data/Sherpa/semilep/user.alheld.mc16_13TeV.700165.Sh_2210_ttbb_ljetsP.TOPQ1.e8263a875r10724p4434.TTHbb212206-v1n_1l_out_root/user.alheld.28403455._000006.1l_out.root\n",
      "Loading file: /scratch/mdd424/CARL_tthbb/data/Sherpa/semilep/user.alheld.mc16_13TeV.700165.Sh_2210_ttbb_ljetsP.TOPQ1.e8263a875r9364p4434.TTHbb212206-v1n_1l_out_root/user.alheld.28403084._000003.1l_out.root\n",
      "Loading file: /scratch/mdd424/CARL_tthbb/data/Sherpa/semilep/user.alheld.mc16_13TeV.700165.Sh_2210_ttbb_ljetsP.TOPQ1.e8263a875r9364p4434.TTHbb212206-v1n_1l_out_root/user.alheld.28403084._000005.1l_out.root\n",
      "Loading file: /scratch/mdd424/CARL_tthbb/data/Sherpa/semilep/user.alheld.mc16_13TeV.700166.Sh_2210_ttbbljetsM.TOPQ1.e8263a875r10201p4434.TTHbb212206-v1n_1l_out_root/user.alheld.28403761._000023.1l_out.root\n",
      "Loading file: /scratch/mdd424/CARL_tthbb/data/Sherpa/semilep/user.alheld.mc16_13TeV.700166.Sh_2210_ttbbljetsM.TOPQ1.e8263a875r9364p4434.TTHbb212206-v1n_1l_out_root/user.alheld.28403097._000009.1l_out.root\n",
      "Loading file: /scratch/mdd424/CARL_tthbb/data/Sherpa/semilep/user.alheld.mc16_13TeV.700166.Sh_2210_ttbbljetsM.TOPQ1.e8263a875r9364p4434.TTHbb212206-v1n_1l_out_root/user.alheld.28403097._000022.1l_out.root\n",
      "Loading file: /scratch/mdd424/CARL_tthbb/data/Sherpa/semilep/user.alheld.mc16_13TeV.700167.Sh_2210_ttbb_dil.TOPQ1.e8263a875r10201p4434.TTHbb212206-v2n_1l_out_root/user.alheld.28488508._000006.1l_out.root\n",
      "Loading file: /scratch/mdd424/CARL_tthbb/data/Sherpa/semilep/user.alheld.mc16_13TeV.700165.Sh_2210_ttbb_ljetsP.TOPQ1.e8263a875r9364p4434.TTHbb212206-v1n_1l_out_root/user.alheld.28403084._000011.1l_out.root\n",
      "Loading file: /scratch/mdd424/CARL_tthbb/data/Sherpa/semilep/user.alheld.mc16_13TeV.700166.Sh_2210_ttbbljetsM.TOPQ1.e8263a875r10724p4434.TTHbb212206-v1n_1l_out_root/user.alheld.28403457._000003.1l_out.root\n",
      "Loading file: /scratch/mdd424/CARL_tthbb/data/Sherpa/semilep/user.alheld.mc16_13TeV.700166.Sh_2210_ttbbljetsM.TOPQ1.e8263a875r10201p4434.TTHbb212206-v1n_1l_out_root/user.alheld.28403761._000001.1l_out.root\n",
      "Loading file: /scratch/mdd424/CARL_tthbb/data/Sherpa/semilep/user.alheld.mc16_13TeV.700165.Sh_2210_ttbb_ljetsP.TOPQ1.e8263a875r10201p4434.TTHbb212206-v1n_1l_out_root/user.alheld.28403759._000005.1l_out.root\n",
      "Loading file: /scratch/mdd424/CARL_tthbb/data/Sherpa/semilep/user.alheld.mc16_13TeV.700166.Sh_2210_ttbbljetsM.TOPQ1.e8263a875r10724p4434.TTHbb212206-v1n_1l_out_root/user.alheld.28403457._000031.1l_out.root\n",
      "Loading file: /scratch/mdd424/CARL_tthbb/data/Sherpa/semilep/user.alheld.mc16_13TeV.700165.Sh_2210_ttbb_ljetsP.TOPQ1.e8263a875r10201p4434.TTHbb212206-v1n_1l_out_root/user.alheld.28403759._000018.1l_out.root\n",
      "Loading file: /scratch/mdd424/CARL_tthbb/data/Sherpa/semilep/user.alheld.mc16_13TeV.700166.Sh_2210_ttbbljetsM.TOPQ1.e8263a875r10201p4434.TTHbb212206-v1n_1l_out_root/user.alheld.28403761._000034.1l_out.root\n",
      "Loading file: /scratch/mdd424/CARL_tthbb/data/Sherpa/semilep/user.alheld.mc16_13TeV.700167.Sh_2210_ttbb_dil.TOPQ1.e8263a875r10201p4434.TTHbb212206-v2n_1l_out_root/user.alheld.28488508._000003.1l_out.root\n",
      "Loading file: /scratch/mdd424/CARL_tthbb/data/Sherpa/semilep/user.alheld.mc16_13TeV.700165.Sh_2210_ttbb_ljetsP.TOPQ1.e8263a875r9364p4434.TTHbb212206-v1n_1l_out_root/user.alheld.28403084._000012.1l_out.root\n",
      "Loading file: /scratch/mdd424/CARL_tthbb/data/Sherpa/semilep/user.alheld.mc16_13TeV.700166.Sh_2210_ttbbljetsM.TOPQ1.e8263a875r10201p4434.TTHbb212206-v1n_1l_out_root/user.alheld.28403761._000036.1l_out.root\n",
      "Loading file: /scratch/mdd424/CARL_tthbb/data/Sherpa/semilep/user.alheld.mc16_13TeV.700166.Sh_2210_ttbbljetsM.TOPQ1.e8263a875r10201p4434.TTHbb212206-v1n_1l_out_root/user.alheld.28403761._000021.1l_out.root\n",
      "Loading file: /scratch/mdd424/CARL_tthbb/data/Sherpa/semilep/user.alheld.mc16_13TeV.700167.Sh_2210_ttbb_dil.TOPQ1.e8263a875r10201p4434.TTHbb212206-v2n_1l_out_root/user.alheld.28488508._000005.1l_out.root\n",
      "Loading file: /scratch/mdd424/CARL_tthbb/data/Sherpa/semilep/user.alheld.mc16_13TeV.700165.Sh_2210_ttbb_ljetsP.TOPQ1.e8263a875r10724p4434.TTHbb212206-v1n_1l_out_root/user.alheld.28403455._000012.1l_out.root\n",
      "Loading file: /scratch/mdd424/CARL_tthbb/data/Sherpa/semilep/user.alheld.mc16_13TeV.700166.Sh_2210_ttbbljetsM.TOPQ1.e8263a875r10201p4434.TTHbb212206-v1n_1l_out_root/user.alheld.28403761._000006.1l_out.root\n",
      "Loading file: /scratch/mdd424/CARL_tthbb/data/Sherpa/semilep/user.alheld.mc16_13TeV.700166.Sh_2210_ttbbljetsM.TOPQ1.e8263a875r10724p4434.TTHbb212206-v1n_1l_out_root/user.alheld.28403457._000027.1l_out.root\n",
      "Loading file: /scratch/mdd424/CARL_tthbb/data/Sherpa/semilep/user.alheld.mc16_13TeV.700166.Sh_2210_ttbbljetsM.TOPQ1.e8263a875r10724p4434.TTHbb212206-v1n_1l_out_root/user.alheld.28403457._000020.1l_out.root\n",
      "Loading file: /scratch/mdd424/CARL_tthbb/data/Sherpa/semilep/user.alheld.mc16_13TeV.700167.Sh_2210_ttbb_dil.TOPQ1.e8263a875r10724p4434.TTHbb212206-v1n_1l_out_root/user.alheld.28403459._000001.1l_out.root\n",
      "Loading file: /scratch/mdd424/CARL_tthbb/data/Sherpa/semilep/user.alheld.mc16_13TeV.700165.Sh_2210_ttbb_ljetsP.TOPQ1.e8263a875r9364p4434.TTHbb212206-v1n_1l_out_root/user.alheld.28403084._000010.1l_out.root\n",
      "Loading file: /scratch/mdd424/CARL_tthbb/data/Sherpa/semilep/user.alheld.mc16_13TeV.700167.Sh_2210_ttbb_dil.TOPQ1.e8263a875r10724p4434.TTHbb212206-v1n_1l_out_root/user.alheld.28403459._000006.1l_out.root\n",
      "Loading file: /scratch/mdd424/CARL_tthbb/data/Sherpa/semilep/user.alheld.mc16_13TeV.700165.Sh_2210_ttbb_ljetsP.TOPQ1.e8263a875r10201p4434.TTHbb212206-v1n_1l_out_root/user.alheld.28403759._000011.1l_out.root\n",
      "Loading file: /scratch/mdd424/CARL_tthbb/data/Sherpa/semilep/user.alheld.mc16_13TeV.700166.Sh_2210_ttbbljetsM.TOPQ1.e8263a875r10201p4434.TTHbb212206-v1n_1l_out_root/user.alheld.28403761._000004.1l_out.root\n",
      "Loading file: /scratch/mdd424/CARL_tthbb/data/Sherpa/semilep/user.alheld.mc16_13TeV.700166.Sh_2210_ttbbljetsM.TOPQ1.e8263a875r10724p4434.TTHbb212206-v1n_1l_out_root/user.alheld.28403457._000030.1l_out.root\n",
      "Loading file: /scratch/mdd424/CARL_tthbb/data/Sherpa/semilep/user.alheld.mc16_13TeV.700165.Sh_2210_ttbb_ljetsP.TOPQ1.e8263a875r10724p4434.TTHbb212206-v1n_1l_out_root/user.alheld.28403455._000018.1l_out.root\n",
      "Loading file: /scratch/mdd424/CARL_tthbb/data/Sherpa/semilep/user.alheld.mc16_13TeV.700166.Sh_2210_ttbbljetsM.TOPQ1.e8263a875r9364p4434.TTHbb212206-v1n_1l_out_root/user.alheld.28403097._000018.1l_out.root\n",
      "Loading file: /scratch/mdd424/CARL_tthbb/data/Sherpa/semilep/user.alheld.mc16_13TeV.700166.Sh_2210_ttbbljetsM.TOPQ1.e8263a875r10724p4434.TTHbb212206-v1n_1l_out_root/user.alheld.28403457._000026.1l_out.root\n",
      "Loading file: /scratch/mdd424/CARL_tthbb/data/Sherpa/semilep/user.alheld.mc16_13TeV.700165.Sh_2210_ttbb_ljetsP.TOPQ1.e8263a875r9364p4434.TTHbb212206-v1n_1l_out_root/user.alheld.28403084._000006.1l_out.root\n",
      "Loading file: /scratch/mdd424/CARL_tthbb/data/Sherpa/semilep/user.alheld.mc16_13TeV.700167.Sh_2210_ttbb_dil.TOPQ1.e8263a875r9364p4434.TTHbb212206-v1n_1l_out_root/user.alheld.28403111._000009.1l_out.root\n",
      "Loading file: /scratch/mdd424/CARL_tthbb/data/Sherpa/semilep/user.alheld.mc16_13TeV.700166.Sh_2210_ttbbljetsM.TOPQ1.e8263a875r10201p4434.TTHbb212206-v1n_1l_out_root/user.alheld.28403761._000031.1l_out.root\n",
      "Loading file: /scratch/mdd424/CARL_tthbb/data/Sherpa/semilep/user.alheld.mc16_13TeV.700165.Sh_2210_ttbb_ljetsP.TOPQ1.e8263a875r10724p4434.TTHbb212206-v1n_1l_out_root/user.alheld.28403455._000017.1l_out.root\n",
      "Loading file: /scratch/mdd424/CARL_tthbb/data/Sherpa/semilep/user.alheld.mc16_13TeV.700166.Sh_2210_ttbbljetsM.TOPQ1.e8263a875r10201p4434.TTHbb212206-v1n_1l_out_root/user.alheld.28403761._000017.1l_out.root\n",
      "Loading file: /scratch/mdd424/CARL_tthbb/data/Sherpa/semilep/user.alheld.mc16_13TeV.700167.Sh_2210_ttbb_dil.TOPQ1.e8263a875r10724p4434.TTHbb212206-v1n_1l_out_root/user.alheld.28403459._000013.1l_out.root\n",
      "Finished!\n"
     ]
    }
   ],
   "source": [
    "df_train = uproot.recreate(\"mixture_model_data/Sherpa_ttbb_full_training_data.root\")\n",
    "df_val = uproot.recreate(\"mixture_model_data/Sherpa_ttbb_full_validation_data.root\")\n",
    "df_test = uproot.recreate(\"mixture_model_data/Sherpa_ttbb_full_testing_data.root\")\n",
    "\n",
    "current_index = 0\n",
    "for filename in all_variation_files:\n",
    "    print(\"Loading file: {}\".format(filename))\n",
    "    # Load the data\n",
    "    variation_dataset = uproot.open(filename)[\"nominal_Loose\"].arrays(jet_features + weight_features)\n",
    "    # Get the run number\n",
    "    variation_file_run_number = str(VARIATION_FILE_TO_RUN_NUMBER[filename])\n",
    "    # Get the DSID number\n",
    "    variation_file_dsid = str(VARIATION_FILE_TO_DSID[filename])\n",
    "    # Get the luminsotiy, DSID cross section, and per DSID total weighted events\n",
    "    _scale_factor = luminosities_by_run[variation_file_run_number] * VARIATION_XSECTIONS[variation_file_dsid] / VARIATION_NORMALIZATIONS[variation_file_dsid]\n",
    "    # Extract the combined weight array\n",
    "    _weights = ak.concatenate(ak.unzip(variation_dataset[weight_features][:, np.newaxis]), axis=1).to_numpy().prod(axis=1)\n",
    "    \n",
    "    variation_padded_jets = ak.fill_none(ak.pad_none(variation_dataset[jet_features], max_jet_size, clip=True), 0, axis=1)\n",
    "    \n",
    "    current_data_size = len(_weights)\n",
    "    \n",
    "    # put everything in train\n",
    "    if current_index + current_data_size < max_train_index:\n",
    "        data_dict = dict(zip(jet_features, ak.unzip(variation_padded_jets)))\n",
    "        data_dict[\"weight_mc_combined\"] = _weights * _scale_factor\n",
    "        fill_or_extend_tree(df_train, data_dict)\n",
    "    # put part in train and the rest in val\n",
    "    elif current_index < max_train_index and current_index + current_data_size < max_val_index:\n",
    "        split_index = max_train_index - current_index\n",
    "        data_dict = dict(zip(jet_features, ak.unzip(variation_padded_jets[:split_index])))\n",
    "        data_dict[\"weight_mc_combined\"] = _weights[:split_index] * _scale_factor\n",
    "        fill_or_extend_tree(df_train, data_dict)\n",
    "        \n",
    "        data_dict = dict(zip(jet_features, ak.unzip(variation_padded_jets[split_index:])))\n",
    "        data_dict[\"weight_mc_combined\"] = _weights[split_index:] * _scale_factor\n",
    "        fill_or_extend_tree(df_val, data_dict)\n",
    "    # put everything into val\n",
    "    elif current_index >= max_train_index and current_index + current_data_size < max_val_index:\n",
    "        data_dict = dict(zip(jet_features, ak.unzip(variation_padded_jets)))\n",
    "        data_dict[\"weight_mc_combined\"] = _weights * _scale_factor\n",
    "        fill_or_extend_tree(df_val, data_dict)\n",
    "    # put part in val and the rest in test\n",
    "    elif current_index < max_val_index and current_index + current_data_size < max_test_index:\n",
    "        split_index = max_val_index - current_index\n",
    "        data_dict = dict(zip(jet_features, ak.unzip(variation_padded_jets[:split_index])))\n",
    "        data_dict[\"weight_mc_combined\"] = _weights[:split_index] * _scale_factor\n",
    "        fill_or_extend_tree(df_val, data_dict)\n",
    "        \n",
    "        data_dict = dict(zip(jet_features, ak.unzip(variation_padded_jets[split_index:])))\n",
    "        data_dict[\"weight_mc_combined\"] = _weights[split_index:] * _scale_factor\n",
    "        fill_or_extend_tree(df_test, data_dict)\n",
    "    # put everything into test\n",
    "    elif current_index >= max_val_index and current_index + current_data_size < max_test_index:\n",
    "        data_dict = dict(zip(jet_features, ak.unzip(variation_padded_jets)))\n",
    "        data_dict[\"weight_mc_combined\"] = _weights * _scale_factor\n",
    "        fill_or_extend_tree(df_test, data_dict)\n",
    "    # put what's needed into test and ignore the rest\n",
    "    elif current_index < max_test_index and current_index + current_data_size >= max_test_index:\n",
    "        split_index = max_test_index - current_index\n",
    "        data_dict = dict(zip(jet_features, ak.unzip(variation_padded_jets[:split_index])))\n",
    "        data_dict[\"weight_mc_combined\"] = _weights[:split_index] * _scale_factor\n",
    "        fill_or_extend_tree(df_test, data_dict)\n",
    "    else:\n",
    "        print(\"Uncaught case:\",\n",
    "              \"current_index: {}\".format(current_index),\n",
    "              \"current_data_size: {}\".format(current_data_size),\n",
    "              \"max_train_index: {}\".format(max_train_index),\n",
    "              \"max_val_index: {}\".format(max_val_index),\n",
    "              \"max_test_index: {}\".format(max_test_index), sep='\\n')\n",
    "    \n",
    "    current_index += current_data_size\n",
    "    if current_index >= max_test_index:\n",
    "        break\n",
    "print(\"Finished!\")"
   ]
  },
  {
   "cell_type": "markdown",
   "metadata": {},
   "source": [
    "# ------------------------------\n",
    "# Section 2\n",
    "# ------------------------------\n",
    "# Create a dataset using the weight estimators as replacements for the MC weights"
   ]
  },
  {
   "cell_type": "code",
   "execution_count": 9,
   "metadata": {},
   "outputs": [],
   "source": [
    "class WeightRegression(nn.Module):\n",
    "    def __init__(self, input_dim, num_layers=3, nodes_per_layer=50, x_scaler=None, y_scaler=None, bandwidth=1):\n",
    "        super(WeightRegression, self).__init__()\n",
    "        \n",
    "        self._x_scaler = x_scaler\n",
    "        self._y_scaler = y_scaler\n",
    "        self._bandwidth = bandwidth\n",
    "        \n",
    "        self._flatten = nn.Flatten()\n",
    "        relu_layers = []\n",
    "        relu_layers.append(nn.Linear(input_dim, nodes_per_layer))\n",
    "        relu_layers.append(nn.ReLU())\n",
    "        for i in range(num_layers-1):\n",
    "            relu_layers.append(nn.Linear(nodes_per_layer, nodes_per_layer))\n",
    "            relu_layers.append(nn.ReLU())\n",
    "        relu_layers.append(nn.Linear(nodes_per_layer, 1)) # output layer -> dim=1 for weight prediction\n",
    "        \n",
    "        self._relu_layers = nn.Sequential(*relu_layers)\n",
    "        \n",
    "        self._loss = nn.MSELoss(reduction=\"none\")\n",
    "        \n",
    "\n",
    "    def scale_x(self, x, inverse=False):\n",
    "        if self._x_scaler is None:\n",
    "            return x\n",
    "        else:\n",
    "            if inverse is False:\n",
    "                return self._x_scaler.transform(x)\n",
    "            else:\n",
    "                return self._x_scaler.inverse_transform(x)\n",
    "\n",
    "\n",
    "    def scale_y(self, y, inverse=False):\n",
    "        if self._y_scaler is None:\n",
    "            return y\n",
    "        else:\n",
    "            if inverse is False:\n",
    "                return self._y_scaler.transform(y)\n",
    "            else:\n",
    "                return self._y_scaler.inverse_transform(y)\n",
    "        \n",
    "        \n",
    "    def forward(self, x):\n",
    "        x = self._flatten(x)\n",
    "        x = self._relu_layers(x)\n",
    "        return x\n",
    "\n",
    "    \n",
    "    def kernel(self, x, y, bandwidth=1):\n",
    "        return torch.exp(-torch.pow(x-y, 2)/(2*bandwidth))   \n",
    "        #return torch.exp(-LA.vector_norm(x-y, dim=1)/(2*self._bandwidth))        \n",
    "    \n",
    "    \n",
    "    def get_MMD(self, x, pred, target):\n",
    "        N = len(target)\n",
    "        #pred = pred.reshape(-1,1)\n",
    "        #target = target.reshape(-1,1)\n",
    "        nn_x = x*pred\n",
    "        mc_x = x*target\n",
    "        \n",
    "        term1 = torch.zeros(1, requires_grad=True)\n",
    "        term2 = torch.zeros(1,requires_grad=True)\n",
    "        term3 = torch.zeros(1, requires_grad=True)\n",
    "        \n",
    "        bandwidths = [0.5, 1, 2, 5, 10]\n",
    "        for i in range(N):\n",
    "            for j in range(N):\n",
    "                for b in bandwidths:\n",
    "                    term1 = term1 + self.kernel(nn_x[i], nn_x[j], bandwidth=b)\n",
    "                    term2 = term2 + self.kernel(nn_x[i], mc_x[j], bandwidth=b)\n",
    "                    term3 = term3 + self.kernel(mc_x[i], mc_x[j], bandwidth=b)\n",
    "        loss = (term1 + term3 - 2*term2) / N**2\n",
    "        return loss\n",
    "    \n",
    "    \n",
    "    def get_loss(self, x, pred, target, weights=None):\n",
    "        N = len(target)\n",
    "        #loss = torch.pow(torch.mean(x*pred)- torch.mean(x*target), 2)\n",
    "        #loss = loss + torch.pow(torch.mean(torch.pow(x*pred, 2)) - torch.mean(torch.pow(x*target, 2)), 2)/2\n",
    "        #loss = loss + torch.pow(torch.mean(torch.pow(x*pred, 3)) - torch.mean(torch.pow(x*target, 3)), 2)/6\n",
    "        #return loss\n",
    "        if weights is None:\n",
    "            return self._loss(pred, target).mean()\n",
    "        else:\n",
    "            return (self._loss(pred, target)*weights).mean()"
   ]
  },
  {
   "cell_type": "markdown",
   "metadata": {},
   "source": [
    "## Load the scaling metadata for these models"
   ]
  },
  {
   "cell_type": "code",
   "execution_count": 11,
   "metadata": {},
   "outputs": [],
   "source": [
    "with open(\"PP8_ttbb_weights_jets_model_metadata.json\", 'r') as f:\n",
    "    PP8_weights_model_metadata = json.load(f)\n",
    "    PP8_weights_model_X_scaler = preprocessing.StandardScaler()\n",
    "    PP8_weights_model_y_scaler = preprocessing.StandardScaler()\n",
    "    \n",
    "    PP8_weights_model_X_scaler.scale_ = PP8_weights_model_metadata[\"x scale\"][\"scale\"]\n",
    "    PP8_weights_model_X_scaler.mean_ = PP8_weights_model_metadata[\"x scale\"][\"mean\"]\n",
    "    PP8_weights_model_X_scaler.var_ = PP8_weights_model_metadata[\"x scale\"][\"var\"]\n",
    "    PP8_weights_model_X_scaler.n_features_in_ = PP8_weights_model_metadata[\"x scale\"][\"n_features_in\"]\n",
    "    \n",
    "    PP8_weights_model_y_scaler.scale_ = PP8_weights_model_metadata[\"weight scale\"][\"scale\"]\n",
    "    PP8_weights_model_y_scaler.mean_ = PP8_weights_model_metadata[\"weight scale\"][\"mean\"]\n",
    "    PP8_weights_model_y_scaler.var_ = PP8_weights_model_metadata[\"weight scale\"][\"var\"]\n",
    "    PP8_weights_model_y_scaler.n_features_in_ = PP8_weights_model_metadata[\"weight scale\"][\"n_features_in\"]\n",
    "    \n",
    "with open(\"Sherpa_ttbb_weights_jets_model_metadata.json\", 'r') as f:\n",
    "    Sherpa_weights_model_metadata = json.load(f)\n",
    "    Sherpa_weights_model_X_scaler = preprocessing.StandardScaler()\n",
    "    Sherpa_weights_model_y_scaler = preprocessing.StandardScaler()\n",
    "    \n",
    "    Sherpa_weights_model_X_scaler.scale_ = Sherpa_weights_model_metadata[\"x scale\"][\"scale\"]\n",
    "    Sherpa_weights_model_X_scaler.mean_ = Sherpa_weights_model_metadata[\"x scale\"][\"mean\"]\n",
    "    Sherpa_weights_model_X_scaler.var_ = Sherpa_weights_model_metadata[\"x scale\"][\"var\"]\n",
    "    Sherpa_weights_model_X_scaler.n_features_in_ = Sherpa_weights_model_metadata[\"x scale\"][\"n_features_in\"]\n",
    "    \n",
    "    Sherpa_weights_model_y_scaler.scale_ = Sherpa_weights_model_metadata[\"weight scale\"][\"scale\"]\n",
    "    Sherpa_weights_model_y_scaler.mean_ = Sherpa_weights_model_metadata[\"weight scale\"][\"mean\"]\n",
    "    Sherpa_weights_model_y_scaler.var_ = Sherpa_weights_model_metadata[\"weight scale\"][\"var\"]\n",
    "    Sherpa_weights_model_y_scaler.n_features_in_ = Sherpa_weights_model_metadata[\"weight scale\"][\"n_features_in\"]"
   ]
  },
  {
   "cell_type": "markdown",
   "metadata": {},
   "source": [
    "## Load the weight models"
   ]
  },
  {
   "cell_type": "code",
   "execution_count": 13,
   "metadata": {},
   "outputs": [
    {
     "data": {
      "text/plain": [
       "WeightRegression(\n",
       "  (_flatten): Flatten(start_dim=1, end_dim=-1)\n",
       "  (_relu_layers): Sequential(\n",
       "    (0): Linear(in_features=80, out_features=200, bias=True)\n",
       "    (1): ReLU()\n",
       "    (2): Linear(in_features=200, out_features=200, bias=True)\n",
       "    (3): ReLU()\n",
       "    (4): Linear(in_features=200, out_features=200, bias=True)\n",
       "    (5): ReLU()\n",
       "    (6): Linear(in_features=200, out_features=200, bias=True)\n",
       "    (7): ReLU()\n",
       "    (8): Linear(in_features=200, out_features=1, bias=True)\n",
       "  )\n",
       "  (_loss): MSELoss()\n",
       ")"
      ]
     },
     "execution_count": 13,
     "metadata": {},
     "output_type": "execute_result"
    }
   ],
   "source": [
    "PP8_weights_model = WeightRegression(len(PP8_weights_model_metadata[\"features\"]),\n",
    "                                     num_layers=PP8_weights_model_metadata[\"num_layers\"],\n",
    "                                     nodes_per_layer=PP8_weights_model_metadata[\"nodes_per_layer\"])\n",
    "PP8_weights_model.load_state_dict(torch.load(\"PP8_ttbb_weights_jets_model.pt\"))\n",
    "PP8_weights_model.eval()\n",
    "\n",
    "Sherpa_weights_model = WeightRegression(len(Sherpa_weights_model_metadata[\"features\"]),\n",
    "                                        num_layers=Sherpa_weights_model_metadata[\"num_layers\"],\n",
    "                                        nodes_per_layer=Sherpa_weights_model_metadata[\"nodes_per_layer\"])\n",
    "Sherpa_weights_model.load_state_dict(torch.load(\"Sherpa_ttbb_weights_jets_model.pt\"))\n",
    "Sherpa_weights_model.eval()"
   ]
  },
  {
   "cell_type": "markdown",
   "metadata": {},
   "source": [
    "## Evaluate the models on the training data to get new weights"
   ]
  },
  {
   "cell_type": "code",
   "execution_count": 16,
   "metadata": {},
   "outputs": [],
   "source": [
    "nominal_tree = uproot.open(\"mixture_model_data/PP8_ttbb_full_validation_data.root\")[\"nominal_Loose\"]\n",
    "alternative_tree = uproot.open(\"mixture_model_data/Sherpa_ttbb_full_validation_data.root\")[\"nominal_Loose\"]\n",
    "\n",
    "X_total_datasets = [ak.concatenate(ak.unzip(nominal_tree.arrays(jet_features)), axis=1).to_numpy().astype(np.float32),\n",
    "                    ak.concatenate(ak.unzip(alternative_tree.arrays(jet_features)), axis=1).to_numpy().astype(np.float32)]\n",
    "\n",
    "PP8_X_input = torch.from_numpy(PP8_weights_model_X_scaler.transform(X_total_datasets[0]))\n",
    "Sherpa_X_input = torch.from_numpy(Sherpa_weights_model_X_scaler.transform(X_total_datasets[1]))\n",
    "\n",
    "with torch.no_grad():\n",
    "    PP8_pred_vals = PP8_weights_model(PP8_X_input)\n",
    "    Sherpa_pred_vals = Sherpa_weights_model(Sherpa_X_input)\n",
    "\n",
    "PP8_nn_weights = PP8_weights_model_y_scaler.inverse_transform(PP8_pred_vals.reshape(-1,1))\n",
    "Sherpa_nn_weights = Sherpa_weights_model_y_scaler.inverse_transform(Sherpa_pred_vals.reshape(-1,1))"
   ]
  },
  {
   "cell_type": "code",
   "execution_count": 17,
   "metadata": {},
   "outputs": [
    {
     "data": {
      "text/plain": [
       "(array([1.00167877]), array([1.0033104]))"
      ]
     },
     "execution_count": 17,
     "metadata": {},
     "output_type": "execute_result"
    }
   ],
   "source": [
    "PP8_nn_weights.mean() / PP8_weights_model_metadata[\"weight scale\"][\"mean\"], Sherpa_nn_weights.mean() / Sherpa_weights_model_metadata[\"weight scale\"][\"mean\"]"
   ]
  },
  {
   "cell_type": "markdown",
   "metadata": {},
   "source": [
    "## Save the new training data with the replacement weights"
   ]
  },
  {
   "cell_type": "code",
   "execution_count": 21,
   "metadata": {},
   "outputs": [],
   "source": [
    "df = uproot.recreate(\"mixture_model_data/PP8_ttbb_train_jets_weight_classifier.root\")\n",
    "\n",
    "weight_array = PP8_nn_weights.ravel()\n",
    "# Normalize by the mean for training stability\n",
    "weight_array /= PP8_weights_model_metadata[\"weight scale\"][\"mean\"]\n",
    "\n",
    "data_dict = dict()\n",
    "for ix, feat in enumerate(PP8_weights_model_metadata[\"features\"]):\n",
    "    data_dict[feat] = X_total_datasets[0][:, ix].ravel()\n",
    "data_dict[\"weight_mc_combined\"] = weight_array\n",
    "\n",
    "df[\"nominal_Loose\"] = data_dict"
   ]
  },
  {
   "cell_type": "code",
   "execution_count": 22,
   "metadata": {},
   "outputs": [],
   "source": [
    "df = uproot.recreate(\"mixture_model_data/Sherpa_ttbb_train_jets_weight_classifier.root\")\n",
    "\n",
    "weight_array = Sherpa_nn_weights.ravel()\n",
    "# Normalize by the mean for training stability\n",
    "weight_array /= Sherpa_weights_model_metadata[\"weight scale\"][\"mean\"]\n",
    "\n",
    "data_dict = dict()\n",
    "for ix, feat in enumerate(Sherpa_weights_model_metadata[\"features\"]):\n",
    "    data_dict[feat] = X_total_datasets[1][:, ix].ravel()\n",
    "data_dict[\"weight_mc_combined\"] = weight_array\n",
    "\n",
    "df[\"nominal_Loose\"] = data_dict"
   ]
  },
  {
   "cell_type": "markdown",
   "metadata": {},
   "source": [
    "# ============================\n",
    "# Section 3: Make a Deep Sets training dataset\n",
    "# ============================"
   ]
  },
  {
   "cell_type": "code",
   "execution_count": 147,
   "metadata": {
    "scrolled": true
   },
   "outputs": [
    {
     "name": "stdout",
     "output_type": "stream",
     "text": [
      "Loading file: /scratch/mdd424/CARL_tthbb/data/Powheg/semilep/user.aknue.mc16_13TeV.600791.PhPy8EG_NNPDF31ME_ttbb_4FS_pTdef1_dilep.TOPQ1.e8332s3126r10201p4696.TTHbb212206-v1n_1l_out_root/user.aknue.28425208._000008.1l_out.root\n",
      "Loading file: /scratch/mdd424/CARL_tthbb/data/Powheg/semilep/user.aknue.mc16_13TeV.600792.PhPy8EG_NNPDF31ME_ttbb_4FS_pTdef1_ljets.TOPQ1.e8332s3126r10724p4696.TTHbb212206-v1n_1l_out_root/user.aknue.28425062._000025.1l_out.root\n",
      "Loading file: /scratch/mdd424/CARL_tthbb/data/Powheg/semilep/user.aknue.mc16_13TeV.600792.PhPy8EG_NNPDF31ME_ttbb_4FS_pTdef1_ljets.TOPQ1.e8332s3126r9364p4696.TTHbb212206-v1n_1l_out_root/user.aknue.28425556._000005.1l_out.root\n",
      "Loading file: /scratch/mdd424/CARL_tthbb/data/Powheg/semilep/user.aknue.mc16_13TeV.600792.PhPy8EG_NNPDF31ME_ttbb_4FS_pTdef1_ljets.TOPQ1.e8332s3126r10201p4696.TTHbb212206-v1n_1l_out_root/user.aknue.28425211._000003.1l_out.root\n",
      "Loading file: /scratch/mdd424/CARL_tthbb/data/Powheg/semilep/user.aknue.mc16_13TeV.600792.PhPy8EG_NNPDF31ME_ttbb_4FS_pTdef1_ljets.TOPQ1.e8332s3126r10201p4696.TTHbb212206-v1n_1l_out_root/user.aknue.28425211._000002.1l_out.root\n",
      "Loading file: /scratch/mdd424/CARL_tthbb/data/Powheg/semilep/user.aknue.mc16_13TeV.600791.PhPy8EG_NNPDF31ME_ttbb_4FS_pTdef1_dilep.TOPQ1.e8332s3126r10201p4696.TTHbb212206-v1n_1l_out_root/user.aknue.28425208._000009.1l_out.root\n",
      "Loading file: /scratch/mdd424/CARL_tthbb/data/Powheg/semilep/user.aknue.mc16_13TeV.600792.PhPy8EG_NNPDF31ME_ttbb_4FS_pTdef1_ljets.TOPQ1.e8332s3126r10724p4696.TTHbb212206-v1n_1l_out_root/user.aknue.28425062._000032.1l_out.root\n",
      "Loading file: /scratch/mdd424/CARL_tthbb/data/Powheg/semilep/user.aknue.mc16_13TeV.600791.PhPy8EG_NNPDF31ME_ttbb_4FS_pTdef1_dilep.TOPQ1.e8332s3126r10201p4696.TTHbb212206-v1n_1l_out_root/user.aknue.28425208._000001.1l_out.root\n",
      "Loading file: /scratch/mdd424/CARL_tthbb/data/Powheg/semilep/user.aknue.mc16_13TeV.600792.PhPy8EG_NNPDF31ME_ttbb_4FS_pTdef1_ljets.TOPQ1.e8332s3126r10724p4696.TTHbb212206-v1n_1l_out_root/user.aknue.28425062._000028.1l_out.root\n",
      "Loading file: /scratch/mdd424/CARL_tthbb/data/Powheg/semilep/user.aknue.mc16_13TeV.600791.PhPy8EG_NNPDF31ME_ttbb_4FS_pTdef1_dilep.TOPQ1.e8332s3126r10724p4696.TTHbb212206-v1n_1l_out_root/user.aknue.28425059._000008.1l_out.root\n",
      "Loading file: /scratch/mdd424/CARL_tthbb/data/Powheg/semilep/user.aknue.mc16_13TeV.600792.PhPy8EG_NNPDF31ME_ttbb_4FS_pTdef1_ljets.TOPQ1.e8332s3126r10724p4696.TTHbb212206-v1n_1l_out_root/user.aknue.28425062._000021.1l_out.root\n",
      "Loading file: /scratch/mdd424/CARL_tthbb/data/Powheg/semilep/user.aknue.mc16_13TeV.600792.PhPy8EG_NNPDF31ME_ttbb_4FS_pTdef1_ljets.TOPQ1.e8332s3126r10201p4696.TTHbb212206-v1n_1l_out_root/user.aknue.28425211._000006.1l_out.root\n",
      "Loading file: /scratch/mdd424/CARL_tthbb/data/Powheg/semilep/user.aknue.mc16_13TeV.600792.PhPy8EG_NNPDF31ME_ttbb_4FS_pTdef1_ljets.TOPQ1.e8332s3126r10201p4696.TTHbb212206-v1n_1l_out_root/user.aknue.28425211._000005.1l_out.root\n",
      "Loading file: /scratch/mdd424/CARL_tthbb/data/Powheg/semilep/user.aknue.mc16_13TeV.600792.PhPy8EG_NNPDF31ME_ttbb_4FS_pTdef1_ljets.TOPQ1.e8332s3126r10201p4696.TTHbb212206-v1n_1l_out_root/user.aknue.28425211._000009.1l_out.root\n",
      "Loading file: /scratch/mdd424/CARL_tthbb/data/Powheg/semilep/user.aknue.mc16_13TeV.600791.PhPy8EG_NNPDF31ME_ttbb_4FS_pTdef1_dilep.TOPQ1.e8332s3126r10724p4696.TTHbb212206-v1n_1l_out_root/user.aknue.28425059._000002.1l_out.root\n",
      "Loading file: /scratch/mdd424/CARL_tthbb/data/Powheg/semilep/user.aknue.mc16_13TeV.600792.PhPy8EG_NNPDF31ME_ttbb_4FS_pTdef1_ljets.TOPQ1.e8332s3126r10724p4696.TTHbb212206-v1n_1l_out_root/user.aknue.28425062._000019.1l_out.root\n",
      "Loading file: /scratch/mdd424/CARL_tthbb/data/Powheg/semilep/user.aknue.mc16_13TeV.600791.PhPy8EG_NNPDF31ME_ttbb_4FS_pTdef1_dilep.TOPQ1.e8332s3126r9364p4696.TTHbb212206-v1n_1l_out_root/user.aknue.28425555._000001.1l_out.root\n",
      "Loading file: /scratch/mdd424/CARL_tthbb/data/Powheg/semilep/user.aknue.mc16_13TeV.600792.PhPy8EG_NNPDF31ME_ttbb_4FS_pTdef1_ljets.TOPQ1.e8332s3126r10724p4696.TTHbb212206-v1n_1l_out_root/user.aknue.28425062._000027.1l_out.root\n",
      "Loading file: /scratch/mdd424/CARL_tthbb/data/Powheg/semilep/user.aknue.mc16_13TeV.600791.PhPy8EG_NNPDF31ME_ttbb_4FS_pTdef1_dilep.TOPQ1.e8332s3126r10201p4696.TTHbb212206-v1n_1l_out_root/user.aknue.28425208._000004.1l_out.root\n",
      "Loading file: /scratch/mdd424/CARL_tthbb/data/Powheg/semilep/user.aknue.mc16_13TeV.600791.PhPy8EG_NNPDF31ME_ttbb_4FS_pTdef1_dilep.TOPQ1.e8332s3126r10724p4696.TTHbb212206-v1n_1l_out_root/user.aknue.28425059._000005.1l_out.root\n",
      "Loading file: /scratch/mdd424/CARL_tthbb/data/Powheg/semilep/user.aknue.mc16_13TeV.600792.PhPy8EG_NNPDF31ME_ttbb_4FS_pTdef1_ljets.TOPQ1.e8332s3126r10724p4696.TTHbb212206-v1n_1l_out_root/user.aknue.28425062._000036.1l_out.root\n",
      "Loading file: /scratch/mdd424/CARL_tthbb/data/Powheg/semilep/user.aknue.mc16_13TeV.600791.PhPy8EG_NNPDF31ME_ttbb_4FS_pTdef1_dilep.TOPQ1.e8332s3126r10201p4696.TTHbb212206-v1n_1l_out_root/user.aknue.28425208._000010.1l_out.root\n",
      "Loading file: /scratch/mdd424/CARL_tthbb/data/Powheg/semilep/user.aknue.mc16_13TeV.600791.PhPy8EG_NNPDF31ME_ttbb_4FS_pTdef1_dilep.TOPQ1.e8332s3126r10724p4696.TTHbb212206-v1n_1l_out_root/user.aknue.28425059._000009.1l_out.root\n",
      "Loading file: /scratch/mdd424/CARL_tthbb/data/Powheg/semilep/user.aknue.mc16_13TeV.600792.PhPy8EG_NNPDF31ME_ttbb_4FS_pTdef1_ljets.TOPQ1.e8332s3126r10724p4696.TTHbb212206-v1n_1l_out_root/user.aknue.28425062._000031.1l_out.root\n",
      "Loading file: /scratch/mdd424/CARL_tthbb/data/Powheg/semilep/user.aknue.mc16_13TeV.600791.PhPy8EG_NNPDF31ME_ttbb_4FS_pTdef1_dilep.TOPQ1.e8332s3126r10201p4696.TTHbb212206-v1n_1l_out_root/user.aknue.28425208._000006.1l_out.root\n",
      "Loading file: /scratch/mdd424/CARL_tthbb/data/Powheg/semilep/user.aknue.mc16_13TeV.600792.PhPy8EG_NNPDF31ME_ttbb_4FS_pTdef1_ljets.TOPQ1.e8332s3126r10724p4696.TTHbb212206-v1n_1l_out_root/user.aknue.28425062._000002.1l_out.root\n",
      "Loading file: /scratch/mdd424/CARL_tthbb/data/Powheg/semilep/user.aknue.mc16_13TeV.600792.PhPy8EG_NNPDF31ME_ttbb_4FS_pTdef1_ljets.TOPQ1.e8332s3126r9364p4696.TTHbb212206-v1n_1l_out_root/user.aknue.28425556._000006.1l_out.root\n",
      "Loading file: /scratch/mdd424/CARL_tthbb/data/Powheg/semilep/user.aknue.mc16_13TeV.600791.PhPy8EG_NNPDF31ME_ttbb_4FS_pTdef1_dilep.TOPQ1.e8332s3126r9364p4696.TTHbb212206-v1n_1l_out_root/user.aknue.28425555._000002.1l_out.root\n",
      "Loading file: /scratch/mdd424/CARL_tthbb/data/Powheg/semilep/user.aknue.mc16_13TeV.600791.PhPy8EG_NNPDF31ME_ttbb_4FS_pTdef1_dilep.TOPQ1.e8332s3126r10724p4696.TTHbb212206-v1n_1l_out_root/user.aknue.28425059._000003.1l_out.root\n",
      "Loading file: /scratch/mdd424/CARL_tthbb/data/Powheg/semilep/user.aknue.mc16_13TeV.600792.PhPy8EG_NNPDF31ME_ttbb_4FS_pTdef1_ljets.TOPQ1.e8332s3126r9364p4696.TTHbb212206-v1n_1l_out_root/user.aknue.28425556._000009.1l_out.root\n",
      "Loading file: /scratch/mdd424/CARL_tthbb/data/Powheg/semilep/user.aknue.mc16_13TeV.600792.PhPy8EG_NNPDF31ME_ttbb_4FS_pTdef1_ljets.TOPQ1.e8332s3126r10724p4696.TTHbb212206-v1n_1l_out_root/user.aknue.28425062._000026.1l_out.root\n",
      "Loading file: /scratch/mdd424/CARL_tthbb/data/Powheg/semilep/user.aknue.mc16_13TeV.600792.PhPy8EG_NNPDF31ME_ttbb_4FS_pTdef1_ljets.TOPQ1.e8332s3126r10724p4696.TTHbb212206-v1n_1l_out_root/user.aknue.28425062._000004.1l_out.root\n",
      "Loading file: /scratch/mdd424/CARL_tthbb/data/Powheg/semilep/user.aknue.mc16_13TeV.600792.PhPy8EG_NNPDF31ME_ttbb_4FS_pTdef1_ljets.TOPQ1.e8332s3126r9364p4696.TTHbb212206-v1n_1l_out_root/user.aknue.28425556._000007.1l_out.root\n",
      "Loading file: /scratch/mdd424/CARL_tthbb/data/Powheg/semilep/user.aknue.mc16_13TeV.600791.PhPy8EG_NNPDF31ME_ttbb_4FS_pTdef1_dilep.TOPQ1.e8332s3126r9364p4696.TTHbb212206-v1n_1l_out_root/user.aknue.28425555._000004.1l_out.root\n",
      "Loading file: /scratch/mdd424/CARL_tthbb/data/Powheg/semilep/user.aknue.mc16_13TeV.600792.PhPy8EG_NNPDF31ME_ttbb_4FS_pTdef1_ljets.TOPQ1.e8332s3126r10724p4696.TTHbb212206-v1n_1l_out_root/user.aknue.28425062._000023.1l_out.root\n",
      "Loading file: /scratch/mdd424/CARL_tthbb/data/Powheg/semilep/user.aknue.mc16_13TeV.600791.PhPy8EG_NNPDF31ME_ttbb_4FS_pTdef1_dilep.TOPQ1.e8332s3126r10201p4696.TTHbb212206-v1n_1l_out_root/user.aknue.28425208._000011.1l_out.root\n",
      "Loading file: /scratch/mdd424/CARL_tthbb/data/Powheg/semilep/user.aknue.mc16_13TeV.600792.PhPy8EG_NNPDF31ME_ttbb_4FS_pTdef1_ljets.TOPQ1.e8332s3126r9364p4696.TTHbb212206-v1n_1l_out_root/user.aknue.28425556._000008.1l_out.root\n",
      "Loading file: /scratch/mdd424/CARL_tthbb/data/Powheg/semilep/user.aknue.mc16_13TeV.600792.PhPy8EG_NNPDF31ME_ttbb_4FS_pTdef1_ljets.TOPQ1.e8332s3126r10201p4696.TTHbb212206-v1n_1l_out_root/user.aknue.28425211._000008.1l_out.root\n",
      "Loading file: /scratch/mdd424/CARL_tthbb/data/Powheg/semilep/user.aknue.mc16_13TeV.600792.PhPy8EG_NNPDF31ME_ttbb_4FS_pTdef1_ljets.TOPQ1.e8332s3126r9364p4696.TTHbb212206-v1n_1l_out_root/user.aknue.28425556._000004.1l_out.root\n",
      "Loading file: /scratch/mdd424/CARL_tthbb/data/Powheg/semilep/user.aknue.mc16_13TeV.600792.PhPy8EG_NNPDF31ME_ttbb_4FS_pTdef1_ljets.TOPQ1.e8332s3126r10724p4696.TTHbb212206-v1n_1l_out_root/user.aknue.28425062._000035.1l_out.root\n",
      "Loading file: /scratch/mdd424/CARL_tthbb/data/Powheg/semilep/user.aknue.mc16_13TeV.600792.PhPy8EG_NNPDF31ME_ttbb_4FS_pTdef1_ljets.TOPQ1.e8332s3126r9364p4696.TTHbb212206-v1n_1l_out_root/user.aknue.28425556._000001.1l_out.root\n",
      "Loading file: /scratch/mdd424/CARL_tthbb/data/Powheg/semilep/user.aknue.mc16_13TeV.600792.PhPy8EG_NNPDF31ME_ttbb_4FS_pTdef1_ljets.TOPQ1.e8332s3126r9364p4696.TTHbb212206-v1n_1l_out_root/user.aknue.28425556._000002.1l_out.root\n",
      "Loading file: /scratch/mdd424/CARL_tthbb/data/Powheg/semilep/user.aknue.mc16_13TeV.600792.PhPy8EG_NNPDF31ME_ttbb_4FS_pTdef1_ljets.TOPQ1.e8332s3126r10724p4696.TTHbb212206-v1n_1l_out_root/user.aknue.28425062._000003.1l_out.root\n",
      "Loading file: /scratch/mdd424/CARL_tthbb/data/Powheg/semilep/user.aknue.mc16_13TeV.600791.PhPy8EG_NNPDF31ME_ttbb_4FS_pTdef1_dilep.TOPQ1.e8332s3126r10724p4696.TTHbb212206-v1n_1l_out_root/user.aknue.28425059._000007.1l_out.root\n",
      "Loading file: /scratch/mdd424/CARL_tthbb/data/Powheg/semilep/user.aknue.mc16_13TeV.600792.PhPy8EG_NNPDF31ME_ttbb_4FS_pTdef1_ljets.TOPQ1.e8332s3126r10201p4696.TTHbb212206-v1n_1l_out_root/user.aknue.28425211._000001.1l_out.root\n",
      "Loading file: /scratch/mdd424/CARL_tthbb/data/Powheg/semilep/user.aknue.mc16_13TeV.600792.PhPy8EG_NNPDF31ME_ttbb_4FS_pTdef1_ljets.TOPQ1.e8332s3126r9364p4696.TTHbb212206-v1n_1l_out_root/user.aknue.28425556._000003.1l_out.root\n",
      "Loading file: /scratch/mdd424/CARL_tthbb/data/Powheg/semilep/user.aknue.mc16_13TeV.600791.PhPy8EG_NNPDF31ME_ttbb_4FS_pTdef1_dilep.TOPQ1.e8332s3126r10201p4696.TTHbb212206-v1n_1l_out_root/user.aknue.28425208._000005.1l_out.root\n",
      "Loading file: /scratch/mdd424/CARL_tthbb/data/Powheg/semilep/user.aknue.mc16_13TeV.600792.PhPy8EG_NNPDF31ME_ttbb_4FS_pTdef1_ljets.TOPQ1.e8332s3126r9364p4696.TTHbb212206-v1n_1l_out_root/user.aknue.28425556._000010.1l_out.root\n",
      "Loading file: /scratch/mdd424/CARL_tthbb/data/Powheg/semilep/user.aknue.mc16_13TeV.600791.PhPy8EG_NNPDF31ME_ttbb_4FS_pTdef1_dilep.TOPQ1.e8332s3126r10724p4696.TTHbb212206-v1n_1l_out_root/user.aknue.28425059._000004.1l_out.root\n",
      "Loading file: /scratch/mdd424/CARL_tthbb/data/Powheg/semilep/user.aknue.mc16_13TeV.600791.PhPy8EG_NNPDF31ME_ttbb_4FS_pTdef1_dilep.TOPQ1.e8332s3126r10724p4696.TTHbb212206-v1n_1l_out_root/user.aknue.28425059._000001.1l_out.root\n",
      "Loading file: /scratch/mdd424/CARL_tthbb/data/Powheg/semilep/user.aknue.mc16_13TeV.600791.PhPy8EG_NNPDF31ME_ttbb_4FS_pTdef1_dilep.TOPQ1.e8332s3126r10201p4696.TTHbb212206-v1n_1l_out_root/user.aknue.28425208._000003.1l_out.root\n",
      "Loading file: /scratch/mdd424/CARL_tthbb/data/Powheg/semilep/user.aknue.mc16_13TeV.600791.PhPy8EG_NNPDF31ME_ttbb_4FS_pTdef1_dilep.TOPQ1.e8332s3126r10201p4696.TTHbb212206-v1n_1l_out_root/user.aknue.28425208._000012.1l_out.root\n",
      "Loading file: /scratch/mdd424/CARL_tthbb/data/Powheg/semilep/user.aknue.mc16_13TeV.600791.PhPy8EG_NNPDF31ME_ttbb_4FS_pTdef1_dilep.TOPQ1.e8332s3126r10724p4696.TTHbb212206-v1n_1l_out_root/user.aknue.28425059._000006.1l_out.root\n",
      "Loading file: /scratch/mdd424/CARL_tthbb/data/Powheg/semilep/user.aknue.mc16_13TeV.600792.PhPy8EG_NNPDF31ME_ttbb_4FS_pTdef1_ljets.TOPQ1.e8332s3126r10724p4696.TTHbb212206-v1n_1l_out_root/user.aknue.28425062._000033.1l_out.root\n",
      "Loading file: /scratch/mdd424/CARL_tthbb/data/Powheg/semilep/user.aknue.mc16_13TeV.600792.PhPy8EG_NNPDF31ME_ttbb_4FS_pTdef1_ljets.TOPQ1.e8332s3126r10724p4696.TTHbb212206-v1n_1l_out_root/user.aknue.28425062._000020.1l_out.root\n",
      "Loading file: /scratch/mdd424/CARL_tthbb/data/Powheg/semilep/user.aknue.mc16_13TeV.600791.PhPy8EG_NNPDF31ME_ttbb_4FS_pTdef1_dilep.TOPQ1.e8332s3126r10201p4696.TTHbb212206-v1n_1l_out_root/user.aknue.28425208._000007.1l_out.root\n",
      "Loading file: /scratch/mdd424/CARL_tthbb/data/Powheg/semilep/user.aknue.mc16_13TeV.600792.PhPy8EG_NNPDF31ME_ttbb_4FS_pTdef1_ljets.TOPQ1.e8332s3126r10201p4696.TTHbb212206-v1n_1l_out_root/user.aknue.28425211._000004.1l_out.root\n",
      "Loading file: /scratch/mdd424/CARL_tthbb/data/Powheg/semilep/user.aknue.mc16_13TeV.600791.PhPy8EG_NNPDF31ME_ttbb_4FS_pTdef1_dilep.TOPQ1.e8332s3126r9364p4696.TTHbb212206-v1n_1l_out_root/user.aknue.28425555._000003.1l_out.root\n",
      "Loading file: /scratch/mdd424/CARL_tthbb/data/Powheg/semilep/user.aknue.mc16_13TeV.600792.PhPy8EG_NNPDF31ME_ttbb_4FS_pTdef1_ljets.TOPQ1.e8332s3126r10201p4696.TTHbb212206-v1n_1l_out_root/user.aknue.28425211._000010.1l_out.root\n",
      "Loading file: /scratch/mdd424/CARL_tthbb/data/Powheg/semilep/user.aknue.mc16_13TeV.600792.PhPy8EG_NNPDF31ME_ttbb_4FS_pTdef1_ljets.TOPQ1.e8332s3126r10201p4696.TTHbb212206-v1n_1l_out_root/user.aknue.28425211._000011.1l_out.root\n",
      "Loading file: /scratch/mdd424/CARL_tthbb/data/Powheg/semilep/user.aknue.mc16_13TeV.600792.PhPy8EG_NNPDF31ME_ttbb_4FS_pTdef1_ljets.TOPQ1.e8332s3126r10201p4696.TTHbb212206-v1n_1l_out_root/user.aknue.28425211._000007.1l_out.root\n",
      "Loading file: /scratch/mdd424/CARL_tthbb/data/Powheg/semilep/user.aknue.mc16_13TeV.600792.PhPy8EG_NNPDF31ME_ttbb_4FS_pTdef1_ljets.TOPQ1.e8332s3126r10724p4696.TTHbb212206-v1n_1l_out_root/user.aknue.28425062._000022.1l_out.root\n",
      "Finished!\n"
     ]
    }
   ],
   "source": [
    "df_train = uproot.recreate(\"mixture_model_data/PP8_ttbb_full_training_DeepSets_data.root\")\n",
    "df_val = uproot.recreate(\"mixture_model_data/PP8_ttbb_full_validation_DeepSets_data.root\")\n",
    "df_test = uproot.recreate(\"mixture_model_data/PP8_ttbb_full_testing_DeepSets_data.root\")\n",
    "\n",
    "current_index = 0\n",
    "for filename in all_nominal_files:\n",
    "    print(\"Loading file: {}\".format(filename))\n",
    "    # Load the data\n",
    "    nominal_dataset = uproot.open(filename)[\"nominal_Loose\"].arrays(jet_features + weight_features)\n",
    "    # Get the run number\n",
    "    nominal_file_run_number = str(NOMINAL_FILE_TO_RUN_NUMBER[filename])\n",
    "    # Get the DSID number\n",
    "    nominal_file_dsid = str(NOMINAL_FILE_TO_DSID[filename])\n",
    "    # Get the luminsotiy, DSID cross section, and per DSID total weighted events\n",
    "    _scale_factor = luminosities_by_run[nominal_file_run_number] * NOMINAL_XSECTIONS[nominal_file_dsid] / NOMINAL_NORMALIZATIONS[nominal_file_dsid]\n",
    "    # Extract the combined weight array\n",
    "    _weights = ak.concatenate(ak.unzip(nominal_dataset[weight_features][:, np.newaxis]), axis=1).to_numpy().prod(axis=1)\n",
    "    \n",
    "    current_data_size = len(_weights)\n",
    "    \n",
    "    jet_sets = []\n",
    "    for i in range(current_data_size):\n",
    "        jet_sets.append(\n",
    "            np.concatenate([x.to_numpy()[:, np.newaxis] for x in ak.unzip(nominal_dataset[jet_features][i])], axis=1).flatten()\n",
    "        )\n",
    "    jet_arr = ak.Array(jet_sets)\n",
    "    \n",
    "    # put everything in train\n",
    "    if current_index + current_data_size < max_train_index:\n",
    "        data_dict = {\"jet_4vec\": jet_arr}\n",
    "        data_dict[\"weight_mc_combined\"] = _weights * _scale_factor\n",
    "        fill_or_extend_tree(df_train, data_dict)\n",
    "    # put part in train and the rest in val\n",
    "    elif current_index < max_train_index and current_index + current_data_size < max_val_index:\n",
    "        split_index = max_train_index - current_index\n",
    "        data_dict = {\"jet_4vec\": jet_arr[:split_index]}\n",
    "        data_dict[\"weight_mc_combined\"] = _weights[:split_index] * _scale_factor\n",
    "        fill_or_extend_tree(df_train, data_dict)\n",
    "        \n",
    "        data_dict = {\"jet_4vec\": jet_arr[split_index:]}\n",
    "        data_dict[\"weight_mc_combined\"] = _weights[split_index:] * _scale_factor\n",
    "        fill_or_extend_tree(df_val, data_dict)\n",
    "    # put everything into val\n",
    "    elif current_index >= max_train_index and current_index + current_data_size < max_val_index:\n",
    "        data_dict = {\"jet_4vec\": jet_arr}\n",
    "        data_dict[\"weight_mc_combined\"] = _weights * _scale_factor\n",
    "        fill_or_extend_tree(df_val, data_dict)\n",
    "    # put part in val and the rest in test\n",
    "    elif current_index < max_val_index and current_index + current_data_size < max_test_index:\n",
    "        split_index = max_val_index - current_index\n",
    "        data_dict = {\"jet_4vec\": jet_arr[:split_index]}\n",
    "        data_dict[\"weight_mc_combined\"] = _weights[:split_index] * _scale_factor\n",
    "        #fill_or_extend_tree(df_val, data_dict)\n",
    "        \n",
    "        data_dict = {\"jet_4vec\": jet_arr[split_index:]}\n",
    "        data_dict[\"weight_mc_combined\"] = _weights[split_index:] * _scale_factor\n",
    "        fill_or_extend_tree(df_test, data_dict)\n",
    "    # put everything into test\n",
    "    elif current_index >= max_val_index and current_index + current_data_size < max_test_index:\n",
    "        data_dict = {\"jet_4vec\": jet_arr}\n",
    "        data_dict[\"weight_mc_combined\"] = _weights * _scale_factor\n",
    "        fill_or_extend_tree(df_test, data_dict)\n",
    "    # put what's needed into test and ignore the rest\n",
    "    elif current_index < max_test_index and current_index + current_data_size >= max_test_index:\n",
    "        split_index = max_test_index - current_index\n",
    "        data_dict = {\"jet_4vec\": jet_arr[:split_index]}\n",
    "        data_dict[\"weight_mc_combined\"] = _weights[:split_index] * _scale_factor\n",
    "        fill_or_extend_tree(df_test, data_dict)\n",
    "    else:\n",
    "        print(\"Uncaught case:\",\n",
    "              \"current_index: {}\".format(current_index),\n",
    "              \"current_data_size: {}\".format(current_data_size),\n",
    "              \"max_train_index: {}\".format(max_train_index),\n",
    "              \"max_val_index: {}\".format(max_val_index),\n",
    "              \"max_test_index: {}\".format(max_test_index), sep='\\n')\n",
    "    \n",
    "    current_index += current_data_size\n",
    "    if current_index >= max_test_index:\n",
    "        break\n",
    "print(\"Finished!\")"
   ]
  },
  {
   "cell_type": "code",
   "execution_count": 17,
   "metadata": {},
   "outputs": [
    {
     "name": "stdout",
     "output_type": "stream",
     "text": [
      "Loading file: /scratch/mdd424/CARL_tthbb/data/Sherpa/semilep/user.alheld.mc16_13TeV.700165.Sh_2210_ttbb_ljetsP.TOPQ1.e8263a875r10724p4434.TTHbb212206-v1n_1l_out_root/user.alheld.28403455._000023.1l_out.root\n",
      "Loading file: /scratch/mdd424/CARL_tthbb/data/Sherpa/semilep/user.alheld.mc16_13TeV.700166.Sh_2210_ttbbljetsM.TOPQ1.e8263a875r10201p4434.TTHbb212206-v1n_1l_out_root/user.alheld.28403761._000039.1l_out.root\n",
      "Loading file: /scratch/mdd424/CARL_tthbb/data/Sherpa/semilep/user.alheld.mc16_13TeV.700166.Sh_2210_ttbbljetsM.TOPQ1.e8263a875r10724p4434.TTHbb212206-v1n_1l_out_root/user.alheld.28403457._000023.1l_out.root\n",
      "Loading file: /scratch/mdd424/CARL_tthbb/data/Sherpa/semilep/user.alheld.mc16_13TeV.700166.Sh_2210_ttbbljetsM.TOPQ1.e8263a875r10201p4434.TTHbb212206-v1n_1l_out_root/user.alheld.28403761._000007.1l_out.root\n",
      "Loading file: /scratch/mdd424/CARL_tthbb/data/Sherpa/semilep/user.alheld.mc16_13TeV.700166.Sh_2210_ttbbljetsM.TOPQ1.e8263a875r10724p4434.TTHbb212206-v1n_1l_out_root/user.alheld.28403457._000025.1l_out.root\n",
      "Loading file: /scratch/mdd424/CARL_tthbb/data/Sherpa/semilep/user.alheld.mc16_13TeV.700165.Sh_2210_ttbb_ljetsP.TOPQ1.e8263a875r10724p4434.TTHbb212206-v1n_1l_out_root/user.alheld.28403455._000010.1l_out.root\n",
      "Loading file: /scratch/mdd424/CARL_tthbb/data/Sherpa/semilep/user.alheld.mc16_13TeV.700166.Sh_2210_ttbbljetsM.TOPQ1.e8263a875r10724p4434.TTHbb212206-v1n_1l_out_root/user.alheld.28403457._000002.1l_out.root\n",
      "Loading file: /scratch/mdd424/CARL_tthbb/data/Sherpa/semilep/user.alheld.mc16_13TeV.700165.Sh_2210_ttbb_ljetsP.TOPQ1.e8263a875r10201p4434.TTHbb212206-v1n_1l_out_root/user.alheld.28403759._000002.1l_out.root\n",
      "Loading file: /scratch/mdd424/CARL_tthbb/data/Sherpa/semilep/user.alheld.mc16_13TeV.700166.Sh_2210_ttbbljetsM.TOPQ1.e8263a875r9364p4434.TTHbb212206-v1n_1l_out_root/user.alheld.28403097._000014.1l_out.root\n",
      "Loading file: /scratch/mdd424/CARL_tthbb/data/Sherpa/semilep/user.alheld.mc16_13TeV.700167.Sh_2210_ttbb_dil.TOPQ1.e8263a875r10724p4434.TTHbb212206-v1n_1l_out_root/user.alheld.28403459._000005.1l_out.root\n",
      "Loading file: /scratch/mdd424/CARL_tthbb/data/Sherpa/semilep/user.alheld.mc16_13TeV.700165.Sh_2210_ttbb_ljetsP.TOPQ1.e8263a875r10724p4434.TTHbb212206-v1n_1l_out_root/user.alheld.28403455._000002.1l_out.root\n",
      "Loading file: /scratch/mdd424/CARL_tthbb/data/Sherpa/semilep/user.alheld.mc16_13TeV.700165.Sh_2210_ttbb_ljetsP.TOPQ1.e8263a875r10724p4434.TTHbb212206-v1n_1l_out_root/user.alheld.28403455._000019.1l_out.root\n",
      "Loading file: /scratch/mdd424/CARL_tthbb/data/Sherpa/semilep/user.alheld.mc16_13TeV.700167.Sh_2210_ttbb_dil.TOPQ1.e8263a875r10201p4434.TTHbb212206-v2n_1l_out_root/user.alheld.28488508._000004.1l_out.root\n",
      "Loading file: /scratch/mdd424/CARL_tthbb/data/Sherpa/semilep/user.alheld.mc16_13TeV.700165.Sh_2210_ttbb_ljetsP.TOPQ1.e8263a875r10201p4434.TTHbb212206-v1n_1l_out_root/user.alheld.28403759._000013.1l_out.root\n",
      "Loading file: /scratch/mdd424/CARL_tthbb/data/Sherpa/semilep/user.alheld.mc16_13TeV.700165.Sh_2210_ttbb_ljetsP.TOPQ1.e8263a875r9364p4434.TTHbb212206-v1n_1l_out_root/user.alheld.28403084._000002.1l_out.root\n",
      "Loading file: /scratch/mdd424/CARL_tthbb/data/Sherpa/semilep/user.alheld.mc16_13TeV.700165.Sh_2210_ttbb_ljetsP.TOPQ1.e8263a875r10201p4434.TTHbb212206-v1n_1l_out_root/user.alheld.28403759._000008.1l_out.root\n",
      "Loading file: /scratch/mdd424/CARL_tthbb/data/Sherpa/semilep/user.alheld.mc16_13TeV.700166.Sh_2210_ttbbljetsM.TOPQ1.e8263a875r9364p4434.TTHbb212206-v1n_1l_out_root/user.alheld.28403097._000002.1l_out.root\n",
      "Loading file: /scratch/mdd424/CARL_tthbb/data/Sherpa/semilep/user.alheld.mc16_13TeV.700166.Sh_2210_ttbbljetsM.TOPQ1.e8263a875r10724p4434.TTHbb212206-v1n_1l_out_root/user.alheld.28403457._000017.1l_out.root\n",
      "Loading file: /scratch/mdd424/CARL_tthbb/data/Sherpa/semilep/user.alheld.mc16_13TeV.700166.Sh_2210_ttbbljetsM.TOPQ1.e8263a875r10724p4434.TTHbb212206-v1n_1l_out_root/user.alheld.28403457._000008.1l_out.root\n",
      "Loading file: /scratch/mdd424/CARL_tthbb/data/Sherpa/semilep/user.alheld.mc16_13TeV.700166.Sh_2210_ttbbljetsM.TOPQ1.e8263a875r10724p4434.TTHbb212206-v1n_1l_out_root/user.alheld.28403457._000013.1l_out.root\n",
      "Loading file: /scratch/mdd424/CARL_tthbb/data/Sherpa/semilep/user.alheld.mc16_13TeV.700166.Sh_2210_ttbbljetsM.TOPQ1.e8263a875r9364p4434.TTHbb212206-v1n_1l_out_root/user.alheld.28403097._000006.1l_out.root\n",
      "Loading file: /scratch/mdd424/CARL_tthbb/data/Sherpa/semilep/user.alheld.mc16_13TeV.700166.Sh_2210_ttbbljetsM.TOPQ1.e8263a875r10201p4434.TTHbb212206-v1n_1l_out_root/user.alheld.28403761._000038.1l_out.root\n",
      "Loading file: /scratch/mdd424/CARL_tthbb/data/Sherpa/semilep/user.alheld.mc16_13TeV.700165.Sh_2210_ttbb_ljetsP.TOPQ1.e8263a875r10201p4434.TTHbb212206-v1n_1l_out_root/user.alheld.28403759._000017.1l_out.root\n",
      "Loading file: /scratch/mdd424/CARL_tthbb/data/Sherpa/semilep/user.alheld.mc16_13TeV.700165.Sh_2210_ttbb_ljetsP.TOPQ1.e8263a875r10724p4434.TTHbb212206-v1n_1l_out_root/user.alheld.28403455._000008.1l_out.root\n",
      "Loading file: /scratch/mdd424/CARL_tthbb/data/Sherpa/semilep/user.alheld.mc16_13TeV.700165.Sh_2210_ttbb_ljetsP.TOPQ1.e8263a875r9364p4434.TTHbb212206-v1n_1l_out_root/user.alheld.28403084._000009.1l_out.root\n",
      "Loading file: /scratch/mdd424/CARL_tthbb/data/Sherpa/semilep/user.alheld.mc16_13TeV.700166.Sh_2210_ttbbljetsM.TOPQ1.e8263a875r10201p4434.TTHbb212206-v1n_1l_out_root/user.alheld.28403761._000027.1l_out.root\n",
      "Loading file: /scratch/mdd424/CARL_tthbb/data/Sherpa/semilep/user.alheld.mc16_13TeV.700166.Sh_2210_ttbbljetsM.TOPQ1.e8263a875r9364p4434.TTHbb212206-v1n_1l_out_root/user.alheld.28403097._000001.1l_out.root\n",
      "Loading file: /scratch/mdd424/CARL_tthbb/data/Sherpa/semilep/user.alheld.mc16_13TeV.700165.Sh_2210_ttbb_ljetsP.TOPQ1.e8263a875r10724p4434.TTHbb212206-v1n_1l_out_root/user.alheld.28403455._000006.1l_out.root\n",
      "Loading file: /scratch/mdd424/CARL_tthbb/data/Sherpa/semilep/user.alheld.mc16_13TeV.700165.Sh_2210_ttbb_ljetsP.TOPQ1.e8263a875r9364p4434.TTHbb212206-v1n_1l_out_root/user.alheld.28403084._000003.1l_out.root\n",
      "Loading file: /scratch/mdd424/CARL_tthbb/data/Sherpa/semilep/user.alheld.mc16_13TeV.700165.Sh_2210_ttbb_ljetsP.TOPQ1.e8263a875r9364p4434.TTHbb212206-v1n_1l_out_root/user.alheld.28403084._000005.1l_out.root\n",
      "Loading file: /scratch/mdd424/CARL_tthbb/data/Sherpa/semilep/user.alheld.mc16_13TeV.700166.Sh_2210_ttbbljetsM.TOPQ1.e8263a875r10201p4434.TTHbb212206-v1n_1l_out_root/user.alheld.28403761._000023.1l_out.root\n",
      "Loading file: /scratch/mdd424/CARL_tthbb/data/Sherpa/semilep/user.alheld.mc16_13TeV.700166.Sh_2210_ttbbljetsM.TOPQ1.e8263a875r9364p4434.TTHbb212206-v1n_1l_out_root/user.alheld.28403097._000009.1l_out.root\n",
      "Loading file: /scratch/mdd424/CARL_tthbb/data/Sherpa/semilep/user.alheld.mc16_13TeV.700166.Sh_2210_ttbbljetsM.TOPQ1.e8263a875r9364p4434.TTHbb212206-v1n_1l_out_root/user.alheld.28403097._000022.1l_out.root\n",
      "Loading file: /scratch/mdd424/CARL_tthbb/data/Sherpa/semilep/user.alheld.mc16_13TeV.700167.Sh_2210_ttbb_dil.TOPQ1.e8263a875r10201p4434.TTHbb212206-v2n_1l_out_root/user.alheld.28488508._000006.1l_out.root\n",
      "Loading file: /scratch/mdd424/CARL_tthbb/data/Sherpa/semilep/user.alheld.mc16_13TeV.700165.Sh_2210_ttbb_ljetsP.TOPQ1.e8263a875r9364p4434.TTHbb212206-v1n_1l_out_root/user.alheld.28403084._000011.1l_out.root\n",
      "Loading file: /scratch/mdd424/CARL_tthbb/data/Sherpa/semilep/user.alheld.mc16_13TeV.700166.Sh_2210_ttbbljetsM.TOPQ1.e8263a875r10724p4434.TTHbb212206-v1n_1l_out_root/user.alheld.28403457._000003.1l_out.root\n",
      "Loading file: /scratch/mdd424/CARL_tthbb/data/Sherpa/semilep/user.alheld.mc16_13TeV.700166.Sh_2210_ttbbljetsM.TOPQ1.e8263a875r10201p4434.TTHbb212206-v1n_1l_out_root/user.alheld.28403761._000001.1l_out.root\n",
      "Loading file: /scratch/mdd424/CARL_tthbb/data/Sherpa/semilep/user.alheld.mc16_13TeV.700165.Sh_2210_ttbb_ljetsP.TOPQ1.e8263a875r10201p4434.TTHbb212206-v1n_1l_out_root/user.alheld.28403759._000005.1l_out.root\n",
      "Loading file: /scratch/mdd424/CARL_tthbb/data/Sherpa/semilep/user.alheld.mc16_13TeV.700166.Sh_2210_ttbbljetsM.TOPQ1.e8263a875r10724p4434.TTHbb212206-v1n_1l_out_root/user.alheld.28403457._000031.1l_out.root\n",
      "Loading file: /scratch/mdd424/CARL_tthbb/data/Sherpa/semilep/user.alheld.mc16_13TeV.700165.Sh_2210_ttbb_ljetsP.TOPQ1.e8263a875r10201p4434.TTHbb212206-v1n_1l_out_root/user.alheld.28403759._000018.1l_out.root\n",
      "Loading file: /scratch/mdd424/CARL_tthbb/data/Sherpa/semilep/user.alheld.mc16_13TeV.700166.Sh_2210_ttbbljetsM.TOPQ1.e8263a875r10201p4434.TTHbb212206-v1n_1l_out_root/user.alheld.28403761._000034.1l_out.root\n",
      "Loading file: /scratch/mdd424/CARL_tthbb/data/Sherpa/semilep/user.alheld.mc16_13TeV.700167.Sh_2210_ttbb_dil.TOPQ1.e8263a875r10201p4434.TTHbb212206-v2n_1l_out_root/user.alheld.28488508._000003.1l_out.root\n",
      "Loading file: /scratch/mdd424/CARL_tthbb/data/Sherpa/semilep/user.alheld.mc16_13TeV.700165.Sh_2210_ttbb_ljetsP.TOPQ1.e8263a875r9364p4434.TTHbb212206-v1n_1l_out_root/user.alheld.28403084._000012.1l_out.root\n",
      "Loading file: /scratch/mdd424/CARL_tthbb/data/Sherpa/semilep/user.alheld.mc16_13TeV.700166.Sh_2210_ttbbljetsM.TOPQ1.e8263a875r10201p4434.TTHbb212206-v1n_1l_out_root/user.alheld.28403761._000036.1l_out.root\n",
      "Loading file: /scratch/mdd424/CARL_tthbb/data/Sherpa/semilep/user.alheld.mc16_13TeV.700166.Sh_2210_ttbbljetsM.TOPQ1.e8263a875r10201p4434.TTHbb212206-v1n_1l_out_root/user.alheld.28403761._000021.1l_out.root\n",
      "Loading file: /scratch/mdd424/CARL_tthbb/data/Sherpa/semilep/user.alheld.mc16_13TeV.700167.Sh_2210_ttbb_dil.TOPQ1.e8263a875r10201p4434.TTHbb212206-v2n_1l_out_root/user.alheld.28488508._000005.1l_out.root\n",
      "Loading file: /scratch/mdd424/CARL_tthbb/data/Sherpa/semilep/user.alheld.mc16_13TeV.700165.Sh_2210_ttbb_ljetsP.TOPQ1.e8263a875r10724p4434.TTHbb212206-v1n_1l_out_root/user.alheld.28403455._000012.1l_out.root\n",
      "Loading file: /scratch/mdd424/CARL_tthbb/data/Sherpa/semilep/user.alheld.mc16_13TeV.700166.Sh_2210_ttbbljetsM.TOPQ1.e8263a875r10201p4434.TTHbb212206-v1n_1l_out_root/user.alheld.28403761._000006.1l_out.root\n",
      "Loading file: /scratch/mdd424/CARL_tthbb/data/Sherpa/semilep/user.alheld.mc16_13TeV.700166.Sh_2210_ttbbljetsM.TOPQ1.e8263a875r10724p4434.TTHbb212206-v1n_1l_out_root/user.alheld.28403457._000027.1l_out.root\n",
      "Loading file: /scratch/mdd424/CARL_tthbb/data/Sherpa/semilep/user.alheld.mc16_13TeV.700166.Sh_2210_ttbbljetsM.TOPQ1.e8263a875r10724p4434.TTHbb212206-v1n_1l_out_root/user.alheld.28403457._000020.1l_out.root\n",
      "Loading file: /scratch/mdd424/CARL_tthbb/data/Sherpa/semilep/user.alheld.mc16_13TeV.700167.Sh_2210_ttbb_dil.TOPQ1.e8263a875r10724p4434.TTHbb212206-v1n_1l_out_root/user.alheld.28403459._000001.1l_out.root\n",
      "Loading file: /scratch/mdd424/CARL_tthbb/data/Sherpa/semilep/user.alheld.mc16_13TeV.700165.Sh_2210_ttbb_ljetsP.TOPQ1.e8263a875r9364p4434.TTHbb212206-v1n_1l_out_root/user.alheld.28403084._000010.1l_out.root\n",
      "Loading file: /scratch/mdd424/CARL_tthbb/data/Sherpa/semilep/user.alheld.mc16_13TeV.700167.Sh_2210_ttbb_dil.TOPQ1.e8263a875r10724p4434.TTHbb212206-v1n_1l_out_root/user.alheld.28403459._000006.1l_out.root\n",
      "Loading file: /scratch/mdd424/CARL_tthbb/data/Sherpa/semilep/user.alheld.mc16_13TeV.700165.Sh_2210_ttbb_ljetsP.TOPQ1.e8263a875r10201p4434.TTHbb212206-v1n_1l_out_root/user.alheld.28403759._000011.1l_out.root\n",
      "Loading file: /scratch/mdd424/CARL_tthbb/data/Sherpa/semilep/user.alheld.mc16_13TeV.700166.Sh_2210_ttbbljetsM.TOPQ1.e8263a875r10201p4434.TTHbb212206-v1n_1l_out_root/user.alheld.28403761._000004.1l_out.root\n",
      "Loading file: /scratch/mdd424/CARL_tthbb/data/Sherpa/semilep/user.alheld.mc16_13TeV.700166.Sh_2210_ttbbljetsM.TOPQ1.e8263a875r10724p4434.TTHbb212206-v1n_1l_out_root/user.alheld.28403457._000030.1l_out.root\n",
      "Loading file: /scratch/mdd424/CARL_tthbb/data/Sherpa/semilep/user.alheld.mc16_13TeV.700165.Sh_2210_ttbb_ljetsP.TOPQ1.e8263a875r10724p4434.TTHbb212206-v1n_1l_out_root/user.alheld.28403455._000018.1l_out.root\n",
      "Loading file: /scratch/mdd424/CARL_tthbb/data/Sherpa/semilep/user.alheld.mc16_13TeV.700166.Sh_2210_ttbbljetsM.TOPQ1.e8263a875r9364p4434.TTHbb212206-v1n_1l_out_root/user.alheld.28403097._000018.1l_out.root\n",
      "Loading file: /scratch/mdd424/CARL_tthbb/data/Sherpa/semilep/user.alheld.mc16_13TeV.700166.Sh_2210_ttbbljetsM.TOPQ1.e8263a875r10724p4434.TTHbb212206-v1n_1l_out_root/user.alheld.28403457._000026.1l_out.root\n",
      "Loading file: /scratch/mdd424/CARL_tthbb/data/Sherpa/semilep/user.alheld.mc16_13TeV.700165.Sh_2210_ttbb_ljetsP.TOPQ1.e8263a875r9364p4434.TTHbb212206-v1n_1l_out_root/user.alheld.28403084._000006.1l_out.root\n",
      "Loading file: /scratch/mdd424/CARL_tthbb/data/Sherpa/semilep/user.alheld.mc16_13TeV.700167.Sh_2210_ttbb_dil.TOPQ1.e8263a875r9364p4434.TTHbb212206-v1n_1l_out_root/user.alheld.28403111._000009.1l_out.root\n",
      "Loading file: /scratch/mdd424/CARL_tthbb/data/Sherpa/semilep/user.alheld.mc16_13TeV.700166.Sh_2210_ttbbljetsM.TOPQ1.e8263a875r10201p4434.TTHbb212206-v1n_1l_out_root/user.alheld.28403761._000031.1l_out.root\n",
      "Loading file: /scratch/mdd424/CARL_tthbb/data/Sherpa/semilep/user.alheld.mc16_13TeV.700165.Sh_2210_ttbb_ljetsP.TOPQ1.e8263a875r10724p4434.TTHbb212206-v1n_1l_out_root/user.alheld.28403455._000017.1l_out.root\n",
      "Loading file: /scratch/mdd424/CARL_tthbb/data/Sherpa/semilep/user.alheld.mc16_13TeV.700166.Sh_2210_ttbbljetsM.TOPQ1.e8263a875r10201p4434.TTHbb212206-v1n_1l_out_root/user.alheld.28403761._000017.1l_out.root\n",
      "Loading file: /scratch/mdd424/CARL_tthbb/data/Sherpa/semilep/user.alheld.mc16_13TeV.700167.Sh_2210_ttbb_dil.TOPQ1.e8263a875r10724p4434.TTHbb212206-v1n_1l_out_root/user.alheld.28403459._000013.1l_out.root\n",
      "Finished!\n"
     ]
    }
   ],
   "source": [
    "df_train = uproot.recreate(\"mixture_model_data/Sherpa_ttbb_full_training_DeepSets_data.root\")\n",
    "df_val = uproot.recreate(\"mixture_model_data/Sherpa_ttbb_full_validation_DeepSets_data.root\")\n",
    "df_test = uproot.recreate(\"mixture_model_data/Sherpa_ttbb_full_testing_DeepSets_data.root\")\n",
    "\n",
    "current_index = 0\n",
    "for filename in all_variation_files:\n",
    "    print(\"Loading file: {}\".format(filename))\n",
    "    # Load the data\n",
    "    variation_dataset = uproot.open(filename)[\"nominal_Loose\"].arrays(jet_features + weight_features)\n",
    "    # Get the run number\n",
    "    variation_file_run_number = str(VARIATION_FILE_TO_RUN_NUMBER[filename])\n",
    "    # Get the DSID number\n",
    "    variation_file_dsid = str(VARIATION_FILE_TO_DSID[filename])\n",
    "    # Get the luminsotiy, DSID cross section, and per DSID total weighted events\n",
    "    _scale_factor = luminosities_by_run[variation_file_run_number] * VARIATION_XSECTIONS[variation_file_dsid] / VARIATION_NORMALIZATIONS[variation_file_dsid]\n",
    "    # Extract the combined weight array\n",
    "    _weights = ak.concatenate(ak.unzip(variation_dataset[weight_features][:, np.newaxis]), axis=1).to_numpy().prod(axis=1)\n",
    "    \n",
    "    current_data_size = len(_weights)\n",
    "    \n",
    "    jet_sets = []\n",
    "    for i in range(current_data_size):\n",
    "        jet_sets.append(\n",
    "            np.concatenate([x.to_numpy()[:, np.newaxis] for x in ak.unzip(variation_dataset[jet_features][i])], axis=1).flatten()\n",
    "        )\n",
    "    jet_arr = ak.Array(jet_sets)\n",
    "    \n",
    "    # put everything in train\n",
    "    if current_index + current_data_size < max_train_index:\n",
    "        data_dict = {\"jet_4vec\": jet_arr}\n",
    "        data_dict[\"weight_mc_combined\"] = _weights * _scale_factor\n",
    "        fill_or_extend_tree(df_train, data_dict)\n",
    "    # put part in train and the rest in val\n",
    "    elif current_index < max_train_index and current_index + current_data_size < max_val_index:\n",
    "        split_index = max_train_index - current_index\n",
    "        data_dict = {\"jet_4vec\": jet_arr[:split_index]}\n",
    "        data_dict[\"weight_mc_combined\"] = _weights[:split_index] * _scale_factor\n",
    "        fill_or_extend_tree(df_train, data_dict)\n",
    "        \n",
    "        data_dict = {\"jet_4vec\": jet_arr[split_index:]}\n",
    "        data_dict[\"weight_mc_combined\"] = _weights[split_index:] * _scale_factor\n",
    "        fill_or_extend_tree(df_val, data_dict)\n",
    "    # put everything into val\n",
    "    elif current_index >= max_train_index and current_index + current_data_size < max_val_index:\n",
    "        data_dict = {\"jet_4vec\": jet_arr}\n",
    "        data_dict[\"weight_mc_combined\"] = _weights * _scale_factor\n",
    "        fill_or_extend_tree(df_val, data_dict)\n",
    "    # put part in val and the rest in test\n",
    "    elif current_index < max_val_index and current_index + current_data_size < max_test_index:\n",
    "        split_index = max_val_index - current_index\n",
    "        data_dict = {\"jet_4vec\": jet_arr[:split_index]}\n",
    "        data_dict[\"weight_mc_combined\"] = _weights[:split_index] * _scale_factor\n",
    "        #fill_or_extend_tree(df_val, data_dict)\n",
    "        \n",
    "        data_dict = {\"jet_4vec\": jet_arr[split_index:]}\n",
    "        data_dict[\"weight_mc_combined\"] = _weights[split_index:] * _scale_factor\n",
    "        fill_or_extend_tree(df_test, data_dict)\n",
    "    # put everything into test\n",
    "    elif current_index >= max_val_index and current_index + current_data_size < max_test_index:\n",
    "        data_dict = {\"jet_4vec\": jet_arr}\n",
    "        data_dict[\"weight_mc_combined\"] = _weights * _scale_factor\n",
    "        fill_or_extend_tree(df_test, data_dict)\n",
    "    # put what's needed into test and ignore the rest\n",
    "    elif current_index < max_test_index and current_index + current_data_size >= max_test_index:\n",
    "        split_index = max_test_index - current_index\n",
    "        data_dict = {\"jet_4vec\": jet_arr[:split_index]}\n",
    "        data_dict[\"weight_mc_combined\"] = _weights[:split_index] * _scale_factor\n",
    "        fill_or_extend_tree(df_test, data_dict)\n",
    "    else:\n",
    "        print(\"Uncaught case:\",\n",
    "              \"current_index: {}\".format(current_index),\n",
    "              \"current_data_size: {}\".format(current_data_size),\n",
    "              \"max_train_index: {}\".format(max_train_index),\n",
    "              \"max_val_index: {}\".format(max_val_index),\n",
    "              \"max_test_index: {}\".format(max_test_index), sep='\\n')\n",
    "    \n",
    "    current_index += current_data_size\n",
    "    if current_index >= max_test_index:\n",
    "        break\n",
    "print(\"Finished!\")"
   ]
  },
  {
   "cell_type": "code",
   "execution_count": 138,
   "metadata": {},
   "outputs": [
    {
     "data": {
      "text/plain": [
       "{'jet_4vec': <Array [[[1.13e+05, -0.753, ... 8.41e+04]]] type='244098 * var * var * float64'>,\n",
       " 'weight_mc_combined': array([ 0.00393443,  0.00015745,  0.00444214, ..., -0.00029049,\n",
       "         0.00704612,  0.00770962], dtype=float32)}"
      ]
     },
     "execution_count": 138,
     "metadata": {},
     "output_type": "execute_result"
    }
   ],
   "source": [
    "data_dict"
   ]
  },
  {
   "cell_type": "markdown",
   "metadata": {},
   "source": [
    "### Testing"
   ]
  },
  {
   "cell_type": "code",
   "execution_count": 45,
   "metadata": {},
   "outputs": [
    {
     "data": {
      "text/plain": [
       "(20,)"
      ]
     },
     "execution_count": 45,
     "metadata": {},
     "output_type": "execute_result"
    }
   ],
   "source": [
    "ak.concatenate(ak.unzip(nominal_dataset[jet_features][0]), axis=-1).to_numpy().shape"
   ]
  },
  {
   "cell_type": "code",
   "execution_count": 35,
   "metadata": {},
   "outputs": [
    {
     "data": {
      "text/plain": [
       "array([184193.02 ,  78562.62 ,  55625.71 ,  54132.633,  37286.516],\n",
       "      dtype=float32)"
      ]
     },
     "execution_count": 35,
     "metadata": {},
     "output_type": "execute_result"
    }
   ],
   "source": [
    "nominal_dataset[\"jet_pt\"][0].to_numpy()"
   ]
  },
  {
   "cell_type": "code",
   "execution_count": 44,
   "metadata": {},
   "outputs": [
    {
     "data": {
      "text/plain": [
       "(<Array [1.84e+05, 7.86e+04, ... 3.73e+04] type='5 * float32'>,\n",
       " <Array [-0.621, -0.621, ... 2.44, -0.555] type='5 * float32'>,\n",
       " <Array [2.39, -1.75, -2.19, 2.5, 1.01] type='5 * float32'>,\n",
       " <Array [2.21e+05, 9.44e+04, ... 4.37e+04] type='5 * float32'>)"
      ]
     },
     "execution_count": 44,
     "metadata": {},
     "output_type": "execute_result"
    }
   ],
   "source": [
    "ak.unzip(nominal_dataset[jet_features][0])"
   ]
  },
  {
   "cell_type": "code",
   "execution_count": 51,
   "metadata": {},
   "outputs": [
    {
     "data": {
      "text/plain": [
       "(1, 20)"
      ]
     },
     "execution_count": 51,
     "metadata": {},
     "output_type": "execute_result"
    }
   ],
   "source": [
    "np.asarray(ak.concatenate(ak.unzip(nominal_dataset[jet_features][:, np.newaxis][0]), axis=1))"
   ]
  },
  {
   "cell_type": "code",
   "execution_count": null,
   "metadata": {},
   "outputs": [],
   "source": []
  },
  {
   "cell_type": "code",
   "execution_count": 64,
   "metadata": {},
   "outputs": [
    {
     "data": {
      "text/plain": [
       "5 * var * float32"
      ]
     },
     "execution_count": 64,
     "metadata": {},
     "output_type": "execute_result"
    }
   ],
   "source": [
    "ak.concatenate([x[:, np.newaxis] for x in ak.unzip(nominal_dataset[jet_features][0])], axis=1).type"
   ]
  },
  {
   "cell_type": "code",
   "execution_count": 62,
   "metadata": {},
   "outputs": [
    {
     "data": {
      "text/plain": [
       "array([127191.836, 100057.266,  64308.777,  54186.504,  26848.889,\n",
       "        26609.314], dtype=float32)"
      ]
     },
     "execution_count": 62,
     "metadata": {},
     "output_type": "execute_result"
    }
   ],
   "source": [
    "ak.unzip(nominal_dataset[jet_features][1])[0].to_numpy()"
   ]
  },
  {
   "cell_type": "code",
   "execution_count": 69,
   "metadata": {},
   "outputs": [
    {
     "data": {
      "text/plain": [
       "<Array [[1.28e+05, -1.99, ... 9.46e+04]] type='8 * 4 * ?float32'>"
      ]
     },
     "execution_count": 69,
     "metadata": {},
     "output_type": "execute_result"
    }
   ],
   "source": []
  },
  {
   "cell_type": "code",
   "execution_count": 116,
   "metadata": {},
   "outputs": [],
   "source": [
    "jet_sets = []\n",
    "for i in range(5):\n",
    "    jet_sets.append(\n",
    "        ak.concatenate(\n",
    "            [x[:, np.newaxis] for x in ak.unzip(nominal_dataset[jet_features][i])],\n",
    "            axis=1\n",
    "        )\n",
    "    )\n",
    "jet_arr = ak.Array(jet_sets)"
   ]
  },
  {
   "cell_type": "code",
   "execution_count": 117,
   "metadata": {},
   "outputs": [
    {
     "name": "stdout",
     "output_type": "stream",
     "text": [
      "(5, 4)\n",
      "(6, 4)\n",
      "(4, 4)\n",
      "(4, 4)\n",
      "(8, 4)\n"
     ]
    }
   ],
   "source": [
    "for x in jet_arr:\n",
    "    print(x.to_numpy().shape)"
   ]
  },
  {
   "cell_type": "code",
   "execution_count": 115,
   "metadata": {},
   "outputs": [
    {
     "data": {
      "text/plain": [
       "array([184193.02 ,  78562.62 ,  55625.71 ,  54132.633,  37286.516],\n",
       "      dtype=float32)"
      ]
     },
     "execution_count": 115,
     "metadata": {},
     "output_type": "execute_result"
    }
   ],
   "source": [
    "ak.concatenate(ak.unzip(nominal_dataset[jet_features][0][np.newaxis]), axis=0).to_numpy().T[:, 0]"
   ]
  },
  {
   "cell_type": "code",
   "execution_count": 113,
   "metadata": {},
   "outputs": [
    {
     "data": {
      "text/plain": [
       "array([184193.02 ,  78562.62 ,  55625.71 ,  54132.633,  37286.516],\n",
       "      dtype=float32)"
      ]
     },
     "execution_count": 113,
     "metadata": {},
     "output_type": "execute_result"
    }
   ],
   "source": [
    "nominal_dataset[\"jet_pt\"][0].to_numpy()"
   ]
  },
  {
   "cell_type": "code",
   "execution_count": 118,
   "metadata": {},
   "outputs": [
    {
     "data": {
      "text/plain": [
       "<Array [[[1.84e+05, -0.621, ... 9.46e+04]]] type='5 * var * var * float64'>"
      ]
     },
     "execution_count": 118,
     "metadata": {},
     "output_type": "execute_result"
    }
   ],
   "source": [
    "jet_arr"
   ]
  },
  {
   "cell_type": "code",
   "execution_count": 119,
   "metadata": {},
   "outputs": [
    {
     "data": {
      "text/plain": [
       "['Mask',\n",
       " '__class__',\n",
       " '__delattr__',\n",
       " '__dir__',\n",
       " '__doc__',\n",
       " '__eq__',\n",
       " '__format__',\n",
       " '__ge__',\n",
       " '__get__',\n",
       " '__getattribute__',\n",
       " '__gt__',\n",
       " '__hash__',\n",
       " '__init__',\n",
       " '__init_subclass__',\n",
       " '__le__',\n",
       " '__lt__',\n",
       " '__ne__',\n",
       " '__new__',\n",
       " '__reduce__',\n",
       " '__reduce_ex__',\n",
       " '__repr__',\n",
       " '__self__',\n",
       " '__self_class__',\n",
       " '__setattr__',\n",
       " '__sizeof__',\n",
       " '__str__',\n",
       " '__subclasshook__',\n",
       " '__thisclass__',\n",
       " '_behavior',\n",
       " '_caches',\n",
       " '_layout',\n",
       " '_numbaview',\n",
       " 'behavior',\n",
       " 'caches',\n",
       " 'fields',\n",
       " 'layout',\n",
       " 'mask',\n",
       " 'nbytes',\n",
       " 'ndim',\n",
       " 'numba_type',\n",
       " 'slot0',\n",
       " 'slot1',\n",
       " 'slot2',\n",
       " 'slot3',\n",
       " 'slot4',\n",
       " 'slot5',\n",
       " 'slot6',\n",
       " 'slot7',\n",
       " 'slot8',\n",
       " 'slot9',\n",
       " 'to_list',\n",
       " 'to_numpy',\n",
       " 'tolist',\n",
       " 'type']"
      ]
     },
     "execution_count": 119,
     "metadata": {},
     "output_type": "execute_result"
    }
   ],
   "source": [
    "dir(jet_arr)"
   ]
  },
  {
   "cell_type": "code",
   "execution_count": 122,
   "metadata": {},
   "outputs": [
    {
     "name": "stdout",
     "output_type": "stream",
     "text": [
      "7.48 ms ± 60.5 µs per loop (mean ± std. dev. of 7 runs, 100 loops each)\n"
     ]
    }
   ],
   "source": [
    "%timeit ak.concatenate(ak.unzip(nominal_dataset[jet_features][0][np.newaxis]), axis=0).to_numpy().T"
   ]
  },
  {
   "cell_type": "code",
   "execution_count": 127,
   "metadata": {},
   "outputs": [
    {
     "name": "stdout",
     "output_type": "stream",
     "text": [
      "754 µs ± 1.03 µs per loop (mean ± std. dev. of 7 runs, 1,000 loops each)\n"
     ]
    }
   ],
   "source": [
    "%timeit ak.concatenate([x[:, np.newaxis] for x in ak.unzip(nominal_dataset[jet_features][0])], axis=1)"
   ]
  },
  {
   "cell_type": "code",
   "execution_count": 139,
   "metadata": {},
   "outputs": [
    {
     "name": "stdout",
     "output_type": "stream",
     "text": [
      "362 µs ± 3.51 µs per loop (mean ± std. dev. of 7 runs, 1,000 loops each)\n"
     ]
    }
   ],
   "source": [
    "%timeit np.concatenate([x.to_numpy()[:, np.newaxis] for x in ak.unzip(nominal_dataset[jet_features][0])], axis=1).flatten()"
   ]
  },
  {
   "cell_type": "code",
   "execution_count": 131,
   "metadata": {},
   "outputs": [
    {
     "name": "stdout",
     "output_type": "stream",
     "text": [
      "550 µs ± 2.28 µs per loop (mean ± std. dev. of 7 runs, 1,000 loops each)\n"
     ]
    }
   ],
   "source": [
    "%timeit np.concatenate([np.asarray(x)[:, np.newaxis] for x in ak.unzip(nominal_dataset[jet_features][0])], axis=1)"
   ]
  },
  {
   "cell_type": "code",
   "execution_count": null,
   "metadata": {},
   "outputs": [],
   "source": []
  },
  {
   "cell_type": "code",
   "execution_count": 145,
   "metadata": {},
   "outputs": [
    {
     "data": {
      "text/plain": [
       "<Array [[1.13e+05, -0.753, ... 3.22e+04]] type='8 * var * float64'>"
      ]
     },
     "execution_count": 145,
     "metadata": {},
     "output_type": "execute_result"
    }
   ],
   "source": [
    "jet_sets = []\n",
    "for i in range(8):\n",
    "    jet_sets.append(\n",
    "        np.concatenate([x.to_numpy()[:, np.newaxis] for x in ak.unzip(nominal_dataset[jet_features][i])], axis=1).flatten()\n",
    "    )\n",
    "jet_arr = ak.Array(jet_sets)\n",
    "jet_arr"
   ]
  },
  {
   "cell_type": "code",
   "execution_count": 146,
   "metadata": {},
   "outputs": [
    {
     "name": "stdout",
     "output_type": "stream",
     "text": [
      "16 * float64\n",
      "16 * float64\n",
      "16 * float64\n",
      "16 * float64\n",
      "24 * float64\n",
      "16 * float64\n",
      "24 * float64\n",
      "20 * float64\n"
     ]
    }
   ],
   "source": [
    "for arr in jet_arr:\n",
    "    print(arr.type)"
   ]
  },
  {
   "cell_type": "code",
   "execution_count": null,
   "metadata": {},
   "outputs": [],
   "source": []
  }
 ],
 "metadata": {
  "kernelspec": {
   "display_name": "Python 3 (ipykernel)",
   "language": "python",
   "name": "python3"
  },
  "language_info": {
   "codemirror_mode": {
    "name": "ipython",
    "version": 3
   },
   "file_extension": ".py",
   "mimetype": "text/x-python",
   "name": "python",
   "nbconvert_exporter": "python",
   "pygments_lexer": "ipython3",
   "version": "3.8.16"
  }
 },
 "nbformat": 4,
 "nbformat_minor": 4
}
